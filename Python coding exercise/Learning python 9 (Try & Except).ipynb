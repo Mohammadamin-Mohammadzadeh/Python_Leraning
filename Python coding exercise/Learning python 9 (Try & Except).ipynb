{
 "cells": [
  {
   "cell_type": "code",
   "execution_count": 1,
   "id": "79e773ff",
   "metadata": {},
   "outputs": [
    {
     "ename": "ZeroDivisionError",
     "evalue": "division by zero",
     "output_type": "error",
     "traceback": [
      "\u001b[1;31m---------------------------------------------------------------------------\u001b[0m",
      "\u001b[1;31mZeroDivisionError\u001b[0m                         Traceback (most recent call last)",
      "Cell \u001b[1;32mIn [1], line 1\u001b[0m\n\u001b[1;32m----> 1\u001b[0m \u001b[38;5;28mprint\u001b[39m(\u001b[38;5;241;43m10\u001b[39;49m\u001b[38;5;241;43m/\u001b[39;49m\u001b[38;5;241;43m0\u001b[39;49m)\n",
      "\u001b[1;31mZeroDivisionError\u001b[0m: division by zero"
     ]
    }
   ],
   "source": [
    "print(10/0)"
   ]
  },
  {
   "cell_type": "code",
   "execution_count": 3,
   "id": "32e5f081",
   "metadata": {},
   "outputs": [
    {
     "name": "stdout",
     "output_type": "stream",
     "text": [
      "This Devision is impossible\n",
      " OK \n"
     ]
    }
   ],
   "source": [
    "try:\n",
    "    print(10/0)\n",
    "except ZeroDivisionError:\n",
    "    print(\"This Devision is impossible\")\n",
    "print(\" OK \")"
   ]
  },
  {
   "cell_type": "code",
   "execution_count": 4,
   "id": "3ce2d396",
   "metadata": {},
   "outputs": [
    {
     "ename": "NameError",
     "evalue": "name 'List' is not defined",
     "output_type": "error",
     "traceback": [
      "\u001b[1;31m---------------------------------------------------------------------------\u001b[0m",
      "\u001b[1;31mNameError\u001b[0m                                 Traceback (most recent call last)",
      "Cell \u001b[1;32mIn [4], line 2\u001b[0m\n\u001b[0;32m      1\u001b[0m \u001b[38;5;28;01mtry\u001b[39;00m:\n\u001b[1;32m----> 2\u001b[0m     \u001b[43mList\u001b[49m[\u001b[38;5;241m1\u001b[39m,\u001b[38;5;241m2\u001b[39m]\n\u001b[0;32m      3\u001b[0m     \u001b[38;5;28mprint\u001b[39m(List[\u001b[38;5;241m6\u001b[39m])\n\u001b[0;32m      4\u001b[0m     \u001b[38;5;28mprint\u001b[39m(\u001b[38;5;241m2\u001b[39m\u001b[38;5;241m/\u001b[39m\u001b[38;5;241m0\u001b[39m)\n",
      "\u001b[1;31mNameError\u001b[0m: name 'List' is not defined"
     ]
    }
   ],
   "source": [
    "try:\n",
    "    List[1,2]\n",
    "    print(List[6])\n",
    "    print(2/0)\n",
    "except ZeroDivisionError:\n",
    "    print(\"This Devision is impossible\")\n",
    "    "
   ]
  },
  {
   "cell_type": "code",
   "execution_count": 6,
   "id": "c7fed1af",
   "metadata": {},
   "outputs": [
    {
     "name": "stdout",
     "output_type": "stream",
     "text": [
      "Index Error\n"
     ]
    }
   ],
   "source": [
    "try:\n",
    "    List = [1,2]\n",
    "    print(List[6])\n",
    "    print(2/0)\n",
    "except ZeroDivisionError:\n",
    "    print(\"This Devision is impossible\")\n",
    "except IndexError:\n",
    "    print(\"Index Error\")"
   ]
  },
  {
   "cell_type": "code",
   "execution_count": 9,
   "id": "c5c17e4c",
   "metadata": {},
   "outputs": [
    {
     "name": "stdout",
     "output_type": "stream",
     "text": [
      "An unpredictable error:  <class 'NameError'> name 'a' is not defined\n"
     ]
    }
   ],
   "source": [
    "try:\n",
    "    # print(10/0)\n",
    "    print(a)\n",
    "    print(None + 3)\n",
    "except ZeroDivisionError:\n",
    "    print(\"This Devision is impossible\")\n",
    "except Exception as e:\n",
    "    print(\"An unpredictable error: \", type(e), e)"
   ]
  },
  {
   "cell_type": "code",
   "execution_count": 16,
   "id": "3f1cc68b",
   "metadata": {},
   "outputs": [
    {
     "name": "stdout",
     "output_type": "stream",
     "text": [
      "Everything is safe and secure=)\n",
      "Whatever happens, finally exists\n"
     ]
    }
   ],
   "source": [
    "try:\n",
    "    lst = [1,2]\n",
    "    lst[1]\n",
    "except ZeroDivisionError:\n",
    "    print(\"it's impossible!!!\")\n",
    "else:\n",
    "    print(\"Everything is safe and secure=)\")\n",
    "finally:\n",
    "    print(\"Whatever happens, finally exists\")"
   ]
  },
  {
   "cell_type": "code",
   "execution_count": 17,
   "id": "5a61ce8a",
   "metadata": {},
   "outputs": [
    {
     "ename": "Exception",
     "evalue": "Number below zero not allowed",
     "output_type": "error",
     "traceback": [
      "\u001b[1;31m---------------------------------------------------------------------------\u001b[0m",
      "\u001b[1;31mException\u001b[0m                                 Traceback (most recent call last)",
      "Cell \u001b[1;32mIn [17], line 5\u001b[0m\n\u001b[0;32m      2\u001b[0m x \u001b[38;5;241m=\u001b[39m \u001b[38;5;241m-\u001b[39m\u001b[38;5;241m1\u001b[39m\n\u001b[0;32m      4\u001b[0m \u001b[38;5;28;01mif\u001b[39;00m x \u001b[38;5;241m<\u001b[39m \u001b[38;5;241m0\u001b[39m:\n\u001b[1;32m----> 5\u001b[0m     \u001b[38;5;28;01mraise\u001b[39;00m \u001b[38;5;167;01mException\u001b[39;00m(\u001b[38;5;124m\"\u001b[39m\u001b[38;5;124mNumber below zero not allowed\u001b[39m\u001b[38;5;124m\"\u001b[39m)\n",
      "\u001b[1;31mException\u001b[0m: Number below zero not allowed"
     ]
    }
   ],
   "source": [
    "# Raise Exception\n",
    "x = -1\n",
    "\n",
    "if x < 0:\n",
    "    raise Exception(\"Number below zero not allowed\")\n"
   ]
  },
  {
   "cell_type": "code",
   "execution_count": 18,
   "id": "2d6d36af",
   "metadata": {},
   "outputs": [
    {
     "ename": "ValueError",
     "evalue": "Number below zero not allowed",
     "output_type": "error",
     "traceback": [
      "\u001b[1;31m---------------------------------------------------------------------------\u001b[0m",
      "\u001b[1;31mValueError\u001b[0m                                Traceback (most recent call last)",
      "Cell \u001b[1;32mIn [18], line 4\u001b[0m\n\u001b[0;32m      1\u001b[0m x \u001b[38;5;241m=\u001b[39m \u001b[38;5;241m-\u001b[39m\u001b[38;5;241m1\u001b[39m\n\u001b[0;32m      3\u001b[0m \u001b[38;5;28;01mif\u001b[39;00m x \u001b[38;5;241m<\u001b[39m \u001b[38;5;241m0\u001b[39m:\n\u001b[1;32m----> 4\u001b[0m     \u001b[38;5;28;01mraise\u001b[39;00m \u001b[38;5;167;01mValueError\u001b[39;00m(\u001b[38;5;124m\"\u001b[39m\u001b[38;5;124mNumber below zero not allowed\u001b[39m\u001b[38;5;124m\"\u001b[39m)\n",
      "\u001b[1;31mValueError\u001b[0m: Number below zero not allowed"
     ]
    }
   ],
   "source": [
    "x = -1\n",
    "\n",
    "if x < 0:\n",
    "    raise ValueError(\"Number below zero not allowed\")"
   ]
  },
  {
   "cell_type": "code",
   "execution_count": 21,
   "id": "bd862adb",
   "metadata": {},
   "outputs": [
    {
     "ename": "TypeError",
     "evalue": "Number below zero not allowed",
     "output_type": "error",
     "traceback": [
      "\u001b[1;31m---------------------------------------------------------------------------\u001b[0m",
      "\u001b[1;31mTypeError\u001b[0m                                 Traceback (most recent call last)",
      "Cell \u001b[1;32mIn [21], line 4\u001b[0m\n\u001b[0;32m      1\u001b[0m y \u001b[38;5;241m=\u001b[39m \u001b[38;5;124m\"\u001b[39m\u001b[38;5;124mAmin\u001b[39m\u001b[38;5;124m\"\u001b[39m\n\u001b[0;32m      3\u001b[0m \u001b[38;5;28;01mif\u001b[39;00m \u001b[38;5;129;01mnot\u001b[39;00m \u001b[38;5;28misinstance\u001b[39m(y, \u001b[38;5;28mint\u001b[39m):\n\u001b[1;32m----> 4\u001b[0m     \u001b[38;5;28;01mraise\u001b[39;00m \u001b[38;5;167;01mTypeError\u001b[39;00m(\u001b[38;5;124m\"\u001b[39m\u001b[38;5;124mNumber below zero not allowed\u001b[39m\u001b[38;5;124m\"\u001b[39m)\n",
      "\u001b[1;31mTypeError\u001b[0m: Number below zero not allowed"
     ]
    }
   ],
   "source": [
    "y = \"Amin\"\n",
    "\n",
    "if not isinstance(y, int):\n",
    "    raise TypeError(\"Number below zero not allowed\")"
   ]
  },
  {
   "cell_type": "code",
   "execution_count": 24,
   "id": "9518698e",
   "metadata": {},
   "outputs": [],
   "source": [
    "# Speed Test\n",
    "List = list(range(1000000)) + [1, 2, 3]"
   ]
  },
  {
   "cell_type": "code",
   "execution_count": 25,
   "id": "c5fa9d67",
   "metadata": {},
   "outputs": [
    {
     "name": "stdout",
     "output_type": "stream",
     "text": [
      "220 ms ± 18.1 ms per loop (mean ± std. dev. of 7 runs, 1 loop each)\n"
     ]
    }
   ],
   "source": [
    "%%timeit\n",
    "lst = []\n",
    "for i in List:\n",
    "    if isinstance(i, int):\n",
    "        lst.append(i)\n",
    "    else:\n",
    "        print(\"value is not integer\")"
   ]
  },
  {
   "cell_type": "code",
   "execution_count": 26,
   "id": "d51d2b34",
   "metadata": {},
   "outputs": [
    {
     "name": "stdout",
     "output_type": "stream",
     "text": [
      "107 ms ± 2.97 ms per loop (mean ± std. dev. of 7 runs, 10 loops each)\n"
     ]
    }
   ],
   "source": [
    "%%timeit\n",
    "lst = []\n",
    "for i in List:\n",
    "    try:\n",
    "        lst.append(i)\n",
    "    except:\n",
    "        print(\"value is not integer\")"
   ]
  },
  {
   "cell_type": "code",
   "execution_count": 27,
   "id": "96daf5d1",
   "metadata": {},
   "outputs": [],
   "source": [
    "# Excersie\n",
    "# Write a python program to detect integer numbers in a list of strings and cast them to int and print them example: input: lst = ['11', 'pooya', '10', '10.5']\n",
    "# result: 11 10\n",
    "\n",
    "lst = ['11', 'pooya', '10', '10.5','10pooya']"
   ]
  },
  {
   "cell_type": "code",
   "execution_count": 30,
   "id": "29e0238c",
   "metadata": {},
   "outputs": [
    {
     "data": {
      "text/plain": [
       "['11', '10']"
      ]
     },
     "execution_count": 30,
     "metadata": {},
     "output_type": "execute_result"
    }
   ],
   "source": [
    "lst_ = []\n",
    "\n",
    "for i in lst:\n",
    "    try:\n",
    "        int(i)\n",
    "        lst_.append(i)\n",
    "    except ValueError:\n",
    "        pass\n",
    "lst_"
   ]
  },
  {
   "cell_type": "code",
   "execution_count": 46,
   "id": "72d81cc7",
   "metadata": {},
   "outputs": [
    {
     "data": {
      "text/plain": [
       "[11, 10]"
      ]
     },
     "execution_count": 46,
     "metadata": {},
     "output_type": "execute_result"
    }
   ],
   "source": [
    "lst_ = []\n",
    "\n",
    "for i in lst:\n",
    "    if i.isdigit():\n",
    "        lst_.append(int(i))\n",
    "lst_"
   ]
  },
  {
   "cell_type": "code",
   "execution_count": 31,
   "id": "2c0f95d6",
   "metadata": {},
   "outputs": [],
   "source": [
    "def get_int(input_):\n",
    "    try:\n",
    "        return int(input_)\n",
    "    except:\n",
    "        pass"
   ]
  },
  {
   "cell_type": "code",
   "execution_count": 40,
   "id": "6204fb09",
   "metadata": {},
   "outputs": [
    {
     "data": {
      "text/plain": [
       "[11, None, 10, None, None]"
      ]
     },
     "execution_count": 40,
     "metadata": {},
     "output_type": "execute_result"
    }
   ],
   "source": [
    "result_lst = [get_int(i) for i in lst]\n",
    "result_lst"
   ]
  },
  {
   "cell_type": "code",
   "execution_count": 38,
   "id": "046ade3a",
   "metadata": {},
   "outputs": [
    {
     "data": {
      "text/plain": [
       "[11, 10]"
      ]
     },
     "execution_count": 38,
     "metadata": {},
     "output_type": "execute_result"
    }
   ],
   "source": [
    "result_lst = [get_int(i) for i in lst]\n",
    "result_lst = [j for j in result_lst if j is not None]\n",
    "result_lst"
   ]
  },
  {
   "cell_type": "code",
   "execution_count": 43,
   "id": "111d9d92",
   "metadata": {},
   "outputs": [
    {
     "data": {
      "text/plain": [
       "[11, 10]"
      ]
     },
     "execution_count": 43,
     "metadata": {},
     "output_type": "execute_result"
    }
   ],
   "source": [
    "result_lst = [get_int(i) for i in lst if get_int(i) is not None]\n",
    "result_lst"
   ]
  },
  {
   "cell_type": "code",
   "execution_count": 55,
   "id": "50bde5d9",
   "metadata": {},
   "outputs": [
    {
     "data": {
      "text/plain": [
       "['11', '10']"
      ]
     },
     "execution_count": 55,
     "metadata": {},
     "output_type": "execute_result"
    }
   ],
   "source": [
    "numbers = \"0123456789\"\n",
    "list1 = []\n",
    "\n",
    "for i in lst:\n",
    "    for j in i:\n",
    "        if j not in numbers:\n",
    "            list1.append(i)\n",
    "            break           \n",
    "\n",
    "for k in list1:\n",
    "    if k in lst:\n",
    "        lst.remove(k)\n",
    "lst\n",
    "\n"
   ]
  },
  {
   "cell_type": "code",
   "execution_count": null,
   "id": "dc2223ab",
   "metadata": {},
   "outputs": [],
   "source": []
  }
 ],
 "metadata": {
  "kernelspec": {
   "display_name": "Python 3 (ipykernel)",
   "language": "python",
   "name": "python3"
  },
  "language_info": {
   "codemirror_mode": {
    "name": "ipython",
    "version": 3
   },
   "file_extension": ".py",
   "mimetype": "text/x-python",
   "name": "python",
   "nbconvert_exporter": "python",
   "pygments_lexer": "ipython3",
   "version": "3.9.15"
  }
 },
 "nbformat": 4,
 "nbformat_minor": 5
}
