{
 "cells": [
  {
   "cell_type": "markdown",
   "id": "2ede9469",
   "metadata": {},
   "source": [
    "## Docstring"
   ]
  },
  {
   "cell_type": "code",
   "execution_count": 15,
   "id": "1d8d5f9c",
   "metadata": {},
   "outputs": [],
   "source": [
    "# create docstring for the function\n",
    "\n",
    "def get_power(num, power):\n",
    "    \"\"\"\n",
    "    This function simulates power operation!\n",
    "    returns num to the power of power variable\n",
    "    :param num: the base number\n",
    "    :param power: the base number will be raised to the power of this input/power variable.  \n",
    "    :return: return the num to the power of power variable.\n",
    "    \"\"\"\n",
    "    return num ** power"
   ]
  },
  {
   "cell_type": "code",
   "execution_count": 8,
   "id": "2b8f678c",
   "metadata": {},
   "outputs": [
    {
     "name": "stdout",
     "output_type": "stream",
     "text": [
      "amin\n",
      "ali\n",
      "Reza\n"
     ]
    }
   ],
   "source": [
    "# print in a new line\n",
    "print(\"\"\"amin\n",
    "ali\n",
    "Reza\"\"\")"
   ]
  },
  {
   "cell_type": "code",
   "execution_count": 9,
   "id": "71d4b0f6",
   "metadata": {},
   "outputs": [
    {
     "name": "stdout",
     "output_type": "stream",
     "text": [
      "Help on function get_power in module __main__:\n",
      "\n",
      "get_power(num, power)\n",
      "    This function simulates power operation!\n",
      "    returns num to the power of power variable\n",
      "    :param num: the base number\n",
      "    :param power: the base number will be raised to the power of this input/power variable.  \n",
      "    :return: return the num to the power of power variable.\n",
      "\n"
     ]
    }
   ],
   "source": [
    "help(get_power)"
   ]
  },
  {
   "cell_type": "code",
   "execution_count": 10,
   "id": "f50ccb6f",
   "metadata": {},
   "outputs": [],
   "source": [
    "?get_power"
   ]
  },
  {
   "cell_type": "code",
   "execution_count": 11,
   "id": "7c11b0b6",
   "metadata": {},
   "outputs": [],
   "source": [
    "??get_power"
   ]
  },
  {
   "cell_type": "code",
   "execution_count": 16,
   "id": "269b6d13",
   "metadata": {},
   "outputs": [
    {
     "name": "stdout",
     "output_type": "stream",
     "text": [
      "\n",
      "    This function simulates power operation!\n",
      "    returns num to the power of power variable\n",
      "    :param num: the base number\n",
      "    :param power: the base number will be raised to the power of this input/power variable.  \n",
      "    :return: return the num to the power of power variable.\n",
      "    \n"
     ]
    }
   ],
   "source": [
    "print(get_power.__doc__)"
   ]
  },
  {
   "cell_type": "code",
   "execution_count": 17,
   "id": "089e4779",
   "metadata": {},
   "outputs": [],
   "source": [
    "# Docstring with tests\n",
    "# Docstring should be define after function-name\n",
    "\n",
    "def get_power(num, power):\n",
    "    \n",
    "    \"\"\"(float, int) -> float\n",
    "    return the exponentioal power of the num\n",
    "    \n",
    "    >>> get_power(1, 10)\n",
    "    1\n",
    "    >>> get_power(2.0, 3)\n",
    "    8.0\n",
    "    \"\"\"\n",
    "    num = float(num)\n",
    "    return num**power"
   ]
  },
  {
   "cell_type": "code",
   "execution_count": 20,
   "id": "14153420",
   "metadata": {},
   "outputs": [
    {
     "name": "stdout",
     "output_type": "stream",
     "text": [
      "**********************************************************************\n",
      "File \"__main__\", line 8, in __main__.get_power\n",
      "Failed example:\n",
      "    get_power(1, 10)\n",
      "Expected:\n",
      "    1\n",
      "Got:\n",
      "    1.0\n",
      "**********************************************************************\n",
      "1 items had failures:\n",
      "   1 of   2 in __main__.get_power\n",
      "***Test Failed*** 1 failures.\n"
     ]
    },
    {
     "data": {
      "text/plain": [
       "TestResults(failed=1, attempted=2)"
      ]
     },
     "execution_count": 20,
     "metadata": {},
     "output_type": "execute_result"
    }
   ],
   "source": [
    "import doctest\n",
    "doctest.testmod(verbose = False)"
   ]
  },
  {
   "cell_type": "code",
   "execution_count": 22,
   "id": "e4835487",
   "metadata": {},
   "outputs": [
    {
     "name": "stdout",
     "output_type": "stream",
     "text": [
      "Trying:\n",
      "    get_power(1, 10)\n",
      "Expecting:\n",
      "    1.0\n",
      "ok\n",
      "Trying:\n",
      "    get_power(2.0, 3)\n",
      "Expecting:\n",
      "    8.0\n",
      "ok\n",
      "1 items had no tests:\n",
      "    __main__\n",
      "1 items passed all tests:\n",
      "   2 tests in __main__.get_power\n",
      "2 tests in 2 items.\n",
      "2 passed and 0 failed.\n",
      "Test passed.\n"
     ]
    },
    {
     "data": {
      "text/plain": [
       "TestResults(failed=0, attempted=2)"
      ]
     },
     "execution_count": 22,
     "metadata": {},
     "output_type": "execute_result"
    }
   ],
   "source": [
    "# solve above failure\n",
    "def get_power(num, power):\n",
    "    \n",
    "    \"\"\"(float, int) -> float\n",
    "    return the exponentioal power of the num\n",
    "    \n",
    "    >>> get_power(1, 10)\n",
    "    1.0\n",
    "    >>> get_power(2.0, 3)\n",
    "    8.0\n",
    "    \"\"\"\n",
    "    num = float(num)\n",
    "    return num**power\n",
    "doctest.testmod(verbose = True)"
   ]
  },
  {
   "cell_type": "code",
   "execution_count": 23,
   "id": "dc7a3545",
   "metadata": {},
   "outputs": [
    {
     "name": "stdout",
     "output_type": "stream",
     "text": [
      "Help on function get_power in module __main__:\n",
      "\n",
      "get_power(num, power)\n",
      "    (float, int) -> float\n",
      "    return the exponentioal power of the num\n",
      "    \n",
      "    >>> get_power(1, 10)\n",
      "    1.0\n",
      "    >>> get_power(2.0, 3)\n",
      "    8.0\n",
      "\n"
     ]
    }
   ],
   "source": [
    "help(get_power)"
   ]
  },
  {
   "cell_type": "code",
   "execution_count": 28,
   "id": "4ba79840",
   "metadata": {},
   "outputs": [
    {
     "data": {
      "text/plain": [
       "TestResults(failed=0, attempted=3)"
      ]
     },
     "execution_count": 28,
     "metadata": {},
     "output_type": "execute_result"
    }
   ],
   "source": [
    "def get_square_tuple(tuple_):\n",
    "    \n",
    "    \"\"\"(tuple) --> tuple\n",
    "    return square tuple\n",
    "    \n",
    "    >>> get_square_tuple((1, 2, 3, 4))\n",
    "    (1, 4, 9, 16)\n",
    "    \"\"\"\n",
    "    tup = tuple()\n",
    "    for i in tuple_:\n",
    "        tup += (i**2,)\n",
    "    return tup\n",
    "\n",
    "doctest.testmod()"
   ]
  },
  {
   "cell_type": "code",
   "execution_count": 38,
   "id": "33b568ea",
   "metadata": {},
   "outputs": [
    {
     "name": "stdout",
     "output_type": "stream",
     "text": [
      "[INFO] starting the test!\n"
     ]
    },
    {
     "data": {
      "text/plain": [
       "TestResults(failed=0, attempted=5)"
      ]
     },
     "execution_count": 38,
     "metadata": {},
     "output_type": "execute_result"
    }
   ],
   "source": [
    "# Test failures\n",
    "\n",
    "def division(a, b):\n",
    "    \"\"\"\n",
    "    Divides a by b\n",
    "    \n",
    "    >>> division(10, 2)\n",
    "    5.0\n",
    "    >>> division(10, 0)\n",
    "    Traceback (most recent call last):\n",
    "    ZeroDivisionError: division by zero\n",
    "    \"\"\"\n",
    "    return a / b\n",
    "print(\"[INFO] starting the test!\")\n",
    "doctest.testmod()\n"
   ]
  },
  {
   "cell_type": "code",
   "execution_count": 39,
   "id": "03ef722b",
   "metadata": {},
   "outputs": [
    {
     "ename": "ZeroDivisionError",
     "evalue": "division by zero",
     "output_type": "error",
     "traceback": [
      "\u001b[1;31m---------------------------------------------------------------------------\u001b[0m",
      "\u001b[1;31mZeroDivisionError\u001b[0m                         Traceback (most recent call last)",
      "Cell \u001b[1;32mIn [39], line 1\u001b[0m\n\u001b[1;32m----> 1\u001b[0m \u001b[43mdivision\u001b[49m\u001b[43m(\u001b[49m\u001b[38;5;241;43m10\u001b[39;49m\u001b[43m,\u001b[49m\u001b[38;5;241;43m0\u001b[39;49m\u001b[43m)\u001b[49m\n",
      "Cell \u001b[1;32mIn [38], line 13\u001b[0m, in \u001b[0;36mdivision\u001b[1;34m(a, b)\u001b[0m\n\u001b[0;32m      3\u001b[0m \u001b[38;5;28;01mdef\u001b[39;00m \u001b[38;5;21mdivision\u001b[39m(a, b):\n\u001b[0;32m      4\u001b[0m     \u001b[38;5;124;03m\"\"\"\u001b[39;00m\n\u001b[0;32m      5\u001b[0m \u001b[38;5;124;03m    Divides a by b\u001b[39;00m\n\u001b[0;32m      6\u001b[0m \u001b[38;5;124;03m    \u001b[39;00m\n\u001b[1;32m   (...)\u001b[0m\n\u001b[0;32m     11\u001b[0m \u001b[38;5;124;03m    ZeroDivisionError: division by zero\u001b[39;00m\n\u001b[0;32m     12\u001b[0m \u001b[38;5;124;03m    \"\"\"\u001b[39;00m\n\u001b[1;32m---> 13\u001b[0m     \u001b[38;5;28;01mreturn\u001b[39;00m \u001b[43ma\u001b[49m\u001b[43m \u001b[49m\u001b[38;5;241;43m/\u001b[39;49m\u001b[43m \u001b[49m\u001b[43mb\u001b[49m\n",
      "\u001b[1;31mZeroDivisionError\u001b[0m: division by zero"
     ]
    }
   ],
   "source": [
    "division(10,0)"
   ]
  },
  {
   "cell_type": "code",
   "execution_count": 40,
   "id": "fbd9a06b",
   "metadata": {},
   "outputs": [
    {
     "name": "stdout",
     "output_type": "stream",
     "text": [
      "[INFO] starting the test!\n"
     ]
    },
    {
     "data": {
      "text/plain": [
       "TestResults(failed=0, attempted=9)"
      ]
     },
     "execution_count": 40,
     "metadata": {},
     "output_type": "execute_result"
    }
   ],
   "source": [
    "# In the first test, I want\n",
    "def adv_division(a, b):\n",
    "    \"\"\"\n",
    "    Divides a by b\n",
    "    \n",
    "    >>> adv_division(10, 2)\n",
    "    5.0\n",
    "    >>> adv_division(10, 0)\n",
    "    inf\n",
    "    >>> adv_division(-10, 0)\n",
    "    -inf\n",
    "    >>> adv_division(0, 0)\n",
    "    1\n",
    "    \"\"\"\n",
    "    if a and b:\n",
    "        return a / b\n",
    "    elif a == 0 and b == 0:\n",
    "        return 1\n",
    "    else:\n",
    "        return (a/abs(a)) * float(\"inf\")\n",
    "        \n",
    "print(\"[INFO] starting the test!\")\n",
    "doctest.testmod()\n"
   ]
  },
  {
   "cell_type": "markdown",
   "id": "a0d35af6",
   "metadata": {},
   "source": [
    "## Type Hint"
   ]
  },
  {
   "cell_type": "code",
   "execution_count": 4,
   "id": "34afa0ec",
   "metadata": {},
   "outputs": [
    {
     "data": {
      "text/plain": [
       "'Mohammad Amin Mohammadzadeh Toularoud'"
      ]
     },
     "execution_count": 4,
     "metadata": {},
     "output_type": "execute_result"
    }
   ],
   "source": [
    "def name(first_name, last_name):\n",
    "    full_name = first_name + ' ' + last_name\n",
    "    return full_name\n",
    "\n",
    "name(\"Mohammad Amin\",\"Mohammadzadeh Toularoud\")"
   ]
  },
  {
   "cell_type": "code",
   "execution_count": 13,
   "id": "624df984",
   "metadata": {},
   "outputs": [
    {
     "data": {
      "text/plain": [
       "'Mohammad Amin Mohammadzadeh Toularoud'"
      ]
     },
     "execution_count": 13,
     "metadata": {},
     "output_type": "execute_result"
    }
   ],
   "source": [
    "def name_hint(first_name: str, last_name: str) -> str:\n",
    "    full_name = first_name + ' ' + last_name\n",
    "    return full_name\n",
    "\n",
    "name_hint(\"Mohammad Amin\",\"Mohammadzadeh Toularoud\")\n",
    "    "
   ]
  },
  {
   "cell_type": "code",
   "execution_count": 14,
   "id": "bde4af93",
   "metadata": {},
   "outputs": [
    {
     "name": "stdout",
     "output_type": "stream",
     "text": [
      "Help on function name_hint in module __main__:\n",
      "\n",
      "name_hint(first_name: str, last_name: str) -> str\n",
      "\n"
     ]
    }
   ],
   "source": [
    "help(name_hint)"
   ]
  },
  {
   "cell_type": "markdown",
   "id": "f9d27901",
   "metadata": {},
   "source": [
    "## Typing Module"
   ]
  },
  {
   "cell_type": "code",
   "execution_count": 15,
   "id": "01a42dd2",
   "metadata": {},
   "outputs": [
    {
     "data": {
      "text/plain": [
       "'Mohammad Amin Mohammadzadeh Toularoud'"
      ]
     },
     "execution_count": 15,
     "metadata": {},
     "output_type": "execute_result"
    }
   ],
   "source": [
    "def name_hint(first_name: str, last_name: str = 'Mohammadzadeh') -> str:\n",
    "    full_name = first_name + ' ' + last_name\n",
    "    return full_name\n",
    "\n",
    "name_hint(\"Mohammad Amin\",\"Mohammadzadeh Toularoud\")"
   ]
  },
  {
   "cell_type": "code",
   "execution_count": 16,
   "id": "735dac2a",
   "metadata": {},
   "outputs": [
    {
     "data": {
      "text/plain": [
       "'Mohammad Amin Mohammadzadeh'"
      ]
     },
     "execution_count": 16,
     "metadata": {},
     "output_type": "execute_result"
    }
   ],
   "source": [
    "name_hint(\"Mohammad Amin\")"
   ]
  },
  {
   "cell_type": "code",
   "execution_count": 17,
   "id": "109b7696",
   "metadata": {},
   "outputs": [
    {
     "ename": "NameError",
     "evalue": "name 'Tuple' is not defined",
     "output_type": "error",
     "traceback": [
      "\u001b[1;31m---------------------------------------------------------------------------\u001b[0m",
      "\u001b[1;31mNameError\u001b[0m                                 Traceback (most recent call last)",
      "Cell \u001b[1;32mIn [17], line 1\u001b[0m\n\u001b[1;32m----> 1\u001b[0m int_str_tuple: \u001b[43mTuple\u001b[49m[\u001b[38;5;28mint\u001b[39m, \u001b[38;5;28mstr\u001b[39m] \u001b[38;5;241m=\u001b[39m (\u001b[38;5;241m5\u001b[39m, \u001b[38;5;124m'\u001b[39m\u001b[38;5;124mAmin\u001b[39m\u001b[38;5;124m'\u001b[39m)\n",
      "\u001b[1;31mNameError\u001b[0m: name 'Tuple' is not defined"
     ]
    }
   ],
   "source": [
    "int_str_tuple: Tuple[int, str] = (5, 'Amin')"
   ]
  },
  {
   "cell_type": "code",
   "execution_count": 19,
   "id": "404f0020",
   "metadata": {},
   "outputs": [
    {
     "name": "stdout",
     "output_type": "stream",
     "text": [
      "typing.Tuple\n"
     ]
    }
   ],
   "source": [
    "from typing import Tuple, List, Dict\n",
    "\n",
    "int_str_tuple: Tuple[int, str] = (5, 'Amin')\n",
    "print(Tuple)"
   ]
  },
  {
   "cell_type": "code",
   "execution_count": 20,
   "id": "ed9bd487",
   "metadata": {},
   "outputs": [
    {
     "data": {
      "text/plain": [
       "(5, 'Amin')"
      ]
     },
     "execution_count": 20,
     "metadata": {},
     "output_type": "execute_result"
    }
   ],
   "source": [
    "int_str_tuple"
   ]
  },
  {
   "cell_type": "code",
   "execution_count": 21,
   "id": "125e7388",
   "metadata": {},
   "outputs": [
    {
     "ename": "SyntaxError",
     "evalue": "invalid syntax (1997150428.py, line 1)",
     "output_type": "error",
     "traceback": [
      "\u001b[1;36m  Cell \u001b[1;32mIn [21], line 1\u001b[1;36m\u001b[0m\n\u001b[1;33m    int_str_tuple[1].\u001b[0m\n\u001b[1;37m                     ^\u001b[0m\n\u001b[1;31mSyntaxError\u001b[0m\u001b[1;31m:\u001b[0m invalid syntax\n"
     ]
    }
   ],
   "source": [
    "int_str_tuple[1]."
   ]
  },
  {
   "cell_type": "code",
   "execution_count": 22,
   "id": "6a262d2d",
   "metadata": {},
   "outputs": [],
   "source": [
    "triple_int_tuple: Tuple[int, int, int] = (1, 4, 5)"
   ]
  },
  {
   "cell_type": "code",
   "execution_count": 24,
   "id": "94105336",
   "metadata": {},
   "outputs": [
    {
     "data": {
      "text/plain": [
       "(1, 4, 'ali')"
      ]
     },
     "execution_count": 24,
     "metadata": {},
     "output_type": "execute_result"
    }
   ],
   "source": [
    "triple_int_tuple[2]."
   ]
  },
  {
   "cell_type": "code",
   "execution_count": 25,
   "id": "1a9c4d40",
   "metadata": {},
   "outputs": [],
   "source": [
    "homogeneous_int_tuple: Tuple[int, ...] = (5, 9, 3, 5) # as many ..."
   ]
  },
  {
   "cell_type": "code",
   "execution_count": 26,
   "id": "adaf3f5b",
   "metadata": {},
   "outputs": [],
   "source": [
    "list_dicts: List[Dict[int, str]] = [\n",
    "    {1:\"one\", 2: 'two'},\n",
    "    {3:\"three\", 4:'four'}\n",
    "]"
   ]
  },
  {
   "cell_type": "code",
   "execution_count": 34,
   "id": "6fa32a8a",
   "metadata": {},
   "outputs": [
    {
     "data": {
      "text/plain": [
       "{1: 'Mohammad Amin Mohammadzadeh', 2: 'Pouya Mohammadi'}"
      ]
     },
     "execution_count": 34,
     "metadata": {},
     "output_type": "execute_result"
    }
   ],
   "source": [
    "from typing import List, Dict\n",
    "\n",
    "def full_name(ids: List[int], first_name: List[str], last_name: List[str]) -> Dict[int, str]:\n",
    "    output: Dict[int, str] = dict()\n",
    "    for id_, firstname, lastname in zip(ids, first_name, last_name):\n",
    "        output[id_] = firstname + ' ' + lastname\n",
    "    return output\n",
    "output = full_name([1,2], [\"Mohammad Amin\", \"Pouya\"],[\"Mohammadzadeh\", \"Mohammadi\"])\n",
    "output\n"
   ]
  },
  {
   "cell_type": "code",
   "execution_count": null,
   "id": "d7cbf721",
   "metadata": {},
   "outputs": [],
   "source": []
  }
 ],
 "metadata": {
  "kernelspec": {
   "display_name": "Python 3 (ipykernel)",
   "language": "python",
   "name": "python3"
  },
  "language_info": {
   "codemirror_mode": {
    "name": "ipython",
    "version": 3
   },
   "file_extension": ".py",
   "mimetype": "text/x-python",
   "name": "python",
   "nbconvert_exporter": "python",
   "pygments_lexer": "ipython3",
   "version": "3.9.15"
  }
 },
 "nbformat": 4,
 "nbformat_minor": 5
}
