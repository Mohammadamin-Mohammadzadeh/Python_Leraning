{
 "cells": [
  {
   "cell_type": "markdown",
   "id": "a67dc751",
   "metadata": {},
   "source": [
    "# *args and **Kwargs in Function\n",
    "type hinting can be used as well\n",
    "\n",
    "### *args"
   ]
  },
  {
   "cell_type": "code",
   "execution_count": 1,
   "id": "dfe3a9bd",
   "metadata": {},
   "outputs": [
    {
     "name": "stdout",
     "output_type": "stream",
     "text": [
      "type of arg is <class 'tuple'>\n",
      "1\n",
      "5\n",
      "11\n",
      "21\n",
      "111\n"
     ]
    }
   ],
   "source": [
    "def arg_(*args: int):\n",
    "    sum_ = 0\n",
    "    print(f'type of arg is {type(args)}')\n",
    "    for arg in args:\n",
    "        sum_ += arg\n",
    "        print(sum_)\n",
    "        \n",
    "arg_(1, 4, 6, 10, 90)"
   ]
  },
  {
   "cell_type": "code",
   "execution_count": 2,
   "id": "975178a6",
   "metadata": {},
   "outputs": [
    {
     "name": "stdout",
     "output_type": "stream",
     "text": [
      "type of arg is <class 'tuple'>\n",
      "reza\n",
      "iran\n",
      "tehran\n",
      "ali\n",
      "talesh\n",
      "1\n"
     ]
    }
   ],
   "source": [
    "def fun(*words: str):\n",
    "    print(f'type of arg is {type(words)}')\n",
    "    for arg in words:\n",
    "        print(arg)\n",
    "fun('reza','iran','tehran','ali', 'talesh', '1')"
   ]
  },
  {
   "cell_type": "code",
   "execution_count": 3,
   "id": "4ad6e919",
   "metadata": {},
   "outputs": [],
   "source": [
    "# positional argument can be used with *args\n",
    "# positional argument like in default argument should be first value in function."
   ]
  },
  {
   "cell_type": "code",
   "execution_count": 4,
   "id": "a5059a48",
   "metadata": {},
   "outputs": [
    {
     "name": "stdout",
     "output_type": "stream",
     "text": [
      "First argument is Mohammad Amin\n",
      "Next argument is Ali\n",
      "Next argument is Reza\n",
      "Next argument is 1\n",
      "Next argument is 5\n"
     ]
    }
   ],
   "source": [
    "def function_(input_1, *args):\n",
    "    print(f'First argument is {input_1}')\n",
    "    for arg in args:\n",
    "        print(f'Next argument is {arg}')\n",
    "        \n",
    "function_('Mohammad Amin', 'Ali', 'Reza', 1, 5)"
   ]
  },
  {
   "cell_type": "markdown",
   "id": "53eed238",
   "metadata": {},
   "source": [
    "### Keyword argument (**kwargs)\n",
    "\n",
    "note: type of kwargs is dictionary"
   ]
  },
  {
   "cell_type": "code",
   "execution_count": 17,
   "id": "a9647bce",
   "metadata": {},
   "outputs": [
    {
     "name": "stdout",
     "output_type": "stream",
     "text": [
      "type of kwargs is <class 'dict'>\n",
      "\n",
      "Key is ali and Value is sevom\n",
      "\n",
      "Key is reza and Value is aval\n",
      "\n",
      "Key is mohammad and Value is dovom\n"
     ]
    }
   ],
   "source": [
    "def func(**kwargs):\n",
    "    print(f'type of kwargs is {type(kwargs)}')\n",
    "    for key, val in kwargs.items():\n",
    "        print()\n",
    "        print(f'Key is {key} and Value is {val}')\n",
    "\n",
    "func(ali=\"sevom\", reza= \"aval\", mohammad = \"dovom\")"
   ]
  },
  {
   "cell_type": "code",
   "execution_count": 18,
   "id": "1d999f32",
   "metadata": {},
   "outputs": [
    {
     "ename": "TypeError",
     "evalue": "func() takes 0 positional arguments but 1 was given",
     "output_type": "error",
     "traceback": [
      "\u001b[1;31m---------------------------------------------------------------------------\u001b[0m",
      "\u001b[1;31mTypeError\u001b[0m                                 Traceback (most recent call last)",
      "Cell \u001b[1;32mIn [18], line 2\u001b[0m\n\u001b[0;32m      1\u001b[0m \u001b[38;5;66;03m# we cannot call this function with positional argument\u001b[39;00m\n\u001b[1;32m----> 2\u001b[0m \u001b[43mfunc\u001b[49m\u001b[43m(\u001b[49m\u001b[38;5;124;43m\"\u001b[39;49m\u001b[38;5;124;43mAmir\u001b[39;49m\u001b[38;5;124;43m\"\u001b[39;49m\u001b[43m)\u001b[49m\n",
      "\u001b[1;31mTypeError\u001b[0m: func() takes 0 positional arguments but 1 was given"
     ]
    }
   ],
   "source": [
    "# we cannot call this function with positional argument\n",
    "func(\"Amir\")"
   ]
  },
  {
   "cell_type": "code",
   "execution_count": 35,
   "id": "fcc47508",
   "metadata": {},
   "outputs": [
    {
     "name": "stdout",
     "output_type": "stream",
     "text": [
      "First input is 15\n",
      "Second input is 5\n",
      ":)\n"
     ]
    }
   ],
   "source": [
    "def func_(input_, **kwargs: str):\n",
    "    if input_ == 'first' or input_ == 'First':\n",
    "        result = f'First input is {kwargs[\"first\"]}'\n",
    "    elif input_ == 'second' or input_ == 'Second':\n",
    "        result = f'Second input is {kwargs[\"second\"]}'\n",
    "    elif input_ == 'third' or input_ == 'Third':\n",
    "        result = f'Third input is {kwargs[\"third\"]}'\n",
    "    else :\n",
    "        result = ':)'\n",
    "    print(result)\n",
    "    \n",
    "func_('First', first= 15)\n",
    "func_('second', second= 5)\n",
    "func_ ('dfsd', fifth = 1)"
   ]
  },
  {
   "cell_type": "code",
   "execution_count": 36,
   "id": "6ff5c4f4",
   "metadata": {},
   "outputs": [],
   "source": [
    "# *args and **kwargs"
   ]
  },
  {
   "cell_type": "code",
   "execution_count": 55,
   "id": "e975307c",
   "metadata": {},
   "outputs": [
    {
     "name": "stdout",
     "output_type": "stream",
     "text": [
      "First argument is: Mohammad Amin\n",
      "\n",
      "First keyword argument is: 27\n",
      "Next optional arguments through *args Mohammadzadeh\n",
      "Next optional arguments through *args python\n",
      "Next optional arguments through *args Learn\n",
      "\n",
      " Optional keyword arguments\n",
      "Key is id and Value is num17\n",
      "Key is level and Value is Master\n"
     ]
    }
   ],
   "source": [
    "def function_(input_arg, *args, age = 27 , **kwargs):\n",
    "    print(f'First argument is: {input_arg}')\n",
    "    print()\n",
    "    print(f'First keyword argument is: {age}')\n",
    "    \n",
    "    for arg in args:\n",
    "        print(\"Next optional arguments through *args\", arg)\n",
    "    print('\\n', \"Optional keyword arguments\")\n",
    "    \n",
    "    for key, val in kwargs.items():\n",
    "        print(f'Key is {key} and Value is {val}')\n",
    "        \n",
    "function_(\"Mohammad Amin\", \"Mohammadzadeh\", \"python\", \"Learn\", id = \"num17\", level=\"Master\")\n",
    "    "
   ]
  },
  {
   "cell_type": "code",
   "execution_count": 65,
   "id": "cff0e486",
   "metadata": {},
   "outputs": [
    {
     "name": "stdout",
     "output_type": "stream",
     "text": [
      "First argument is: Mohammad Amin\n",
      "\n",
      "First keyword argument is: 27\n",
      "Next optional arguments through *args is: Mohammadzadeh\n",
      "Next optional arguments through *args is: python\n",
      "Next optional arguments through *args is: Learn\n",
      "\n",
      "Optional keyword arguments is:\n",
      "Key is: age and Value: is 27\n",
      "Key is: id and Value: is num17\n",
      "Key is: level and Value: is Master\n"
     ]
    }
   ],
   "source": [
    "def function_(input_arg, *args, **kwargs):\n",
    "    print(f'First argument is: {input_arg}')\n",
    "    print()\n",
    "    print(f'First keyword argument is: {kwargs[\"age\"]}')\n",
    "    \n",
    "    for arg in args:\n",
    "        print(\"Next optional arguments through *args is:\", arg)\n",
    "        \n",
    "    # print() instead of print('\\n', ...., sep = '')\n",
    "    print('\\n',\"Optional keyword arguments is:\", sep = '')\n",
    "    \n",
    "    for key, val in kwargs.items():\n",
    "        print(f'Key is: {key} and Value: is {val}')\n",
    "        \n",
    "function_(\"Mohammad Amin\", \"Mohammadzadeh\", \"python\", \"Learn\", age = 27, id = \"num17\", level=\"Master\")"
   ]
  },
  {
   "cell_type": "markdown",
   "id": "e83f5dc1",
   "metadata": {},
   "source": [
    "### Unpacking *args and *Kwargs"
   ]
  },
  {
   "cell_type": "code",
   "execution_count": 17,
   "id": "5c3a20f3",
   "metadata": {},
   "outputs": [
    {
     "name": "stdout",
     "output_type": "stream",
     "text": [
      "arg_1 : Python\n",
      "arg_2 : Cloud\n",
      "arg_3 : Azure\n"
     ]
    }
   ],
   "source": [
    "def func(arg1, arg2, arg3):\n",
    "    print(f'arg_1 : {arg1}')\n",
    "    print(f'arg_2 : {arg2}')\n",
    "    print(f'arg_3 : {arg3}')\n",
    "\n",
    "func('Python', 'Cloud', 'Azure')"
   ]
  },
  {
   "cell_type": "code",
   "execution_count": 18,
   "id": "062349fb",
   "metadata": {},
   "outputs": [
    {
     "name": "stdout",
     "output_type": "stream",
     "text": [
      "('Python', 'Cloud', 'Azure')\n",
      "<class 'tuple'>\n",
      "\n",
      "arg_1 : Python\n",
      "arg_2 : Cloud\n",
      "arg_3 : Azure\n"
     ]
    }
   ],
   "source": [
    "def func_1():\n",
    "    return ('Python', 'Cloud', 'Azure')\n",
    "\n",
    "func_1_output = func_1()\n",
    "print(func_1_output)\n",
    "print(type(func_1_output),'\\n', sep = '')\n",
    "\n",
    "func(func_1_output[0], func_1_output[1], func_1_output[2])"
   ]
  },
  {
   "cell_type": "code",
   "execution_count": 19,
   "id": "584a18e4",
   "metadata": {},
   "outputs": [
    {
     "name": "stdout",
     "output_type": "stream",
     "text": [
      "arg_1 : Python\n",
      "arg_2 : Cloud\n",
      "arg_3 : Azure\n"
     ]
    }
   ],
   "source": [
    "# A better and faster way to call is unpacking a tuple or list\n",
    "\n",
    "func(*func_1_output)"
   ]
  },
  {
   "cell_type": "code",
   "execution_count": 20,
   "id": "9051de8e",
   "metadata": {},
   "outputs": [
    {
     "name": "stdout",
     "output_type": "stream",
     "text": [
      "arg_1 : 1\n",
      "arg_2 : 2\n",
      "arg_3 : 3\n"
     ]
    }
   ],
   "source": [
    "# unpacking an iterable\n",
    "func(*\"123\")"
   ]
  },
  {
   "cell_type": "code",
   "execution_count": 21,
   "id": "05696c44",
   "metadata": {},
   "outputs": [
    {
     "name": "stdout",
     "output_type": "stream",
     "text": [
      "arg_1 : a\n",
      "arg_2 : b\n",
      "arg_3 : c\n"
     ]
    }
   ],
   "source": [
    "func(*\"abc\")"
   ]
  },
  {
   "cell_type": "code",
   "execution_count": 22,
   "id": "e7c71285",
   "metadata": {},
   "outputs": [
    {
     "ename": "TypeError",
     "evalue": "func() missing 1 required positional argument: 'arg3'",
     "output_type": "error",
     "traceback": [
      "\u001b[1;31m---------------------------------------------------------------------------\u001b[0m",
      "\u001b[1;31mTypeError\u001b[0m                                 Traceback (most recent call last)",
      "Cell \u001b[1;32mIn [22], line 1\u001b[0m\n\u001b[1;32m----> 1\u001b[0m \u001b[43mfunc\u001b[49m\u001b[43m(\u001b[49m\u001b[38;5;241;43m*\u001b[39;49m\u001b[38;5;124;43m'\u001b[39;49m\u001b[38;5;124;43mab\u001b[39;49m\u001b[38;5;124;43m'\u001b[39;49m\u001b[43m)\u001b[49m\n",
      "\u001b[1;31mTypeError\u001b[0m: func() missing 1 required positional argument: 'arg3'"
     ]
    }
   ],
   "source": [
    "func(*'ab')"
   ]
  },
  {
   "cell_type": "code",
   "execution_count": 23,
   "id": "46dcb85c",
   "metadata": {},
   "outputs": [
    {
     "name": "stdout",
     "output_type": "stream",
     "text": [
      "{'arg1': 'Python', 'arg2': 'Microsoft Azure', 'arg3': 'OpenCv'}\n",
      "<class 'dict'>\n",
      "\n",
      "arg_1 : Python\n",
      "arg_2 : Microsoft Azure\n",
      "arg_3 : OpenCv\n"
     ]
    }
   ],
   "source": [
    "def func_2():\n",
    "    return dict(arg1= \"Python\", arg2= \"Microsoft Azure\", arg3= \"OpenCv\")\n",
    "\n",
    "func_2_output = func_2()\n",
    "print(func_2_output)\n",
    "print(type(func_2_output),'\\n', sep = '')\n",
    "\n",
    "func(func_2_output['arg1'], func_2_output['arg2'], func_2_output['arg3'])\n"
   ]
  },
  {
   "cell_type": "code",
   "execution_count": 24,
   "id": "37d18f7b",
   "metadata": {},
   "outputs": [
    {
     "name": "stdout",
     "output_type": "stream",
     "text": [
      "arg_1 : Python\n",
      "arg_2 : Microsoft Azure\n",
      "arg_3 : OpenCv\n"
     ]
    }
   ],
   "source": [
    "# unpacking a dict\n",
    "\n",
    "func(**func_2_output)\n"
   ]
  },
  {
   "cell_type": "code",
   "execution_count": 26,
   "id": "5b2911ba",
   "metadata": {},
   "outputs": [
    {
     "name": "stdout",
     "output_type": "stream",
     "text": [
      "Unpaking *args \n",
      "\n",
      "input 1 is: Amin\n",
      "input 2 is: ali\n",
      "input 3 is: amir\n",
      "\n",
      "input 1 is: Amin\n",
      "input 2 is: ali\n",
      "input 3 is: amir\n",
      "\n",
      "Unpaking **kwargs \n",
      "\n",
      "input 1 is: Amin\n",
      "input 2 is: ali\n",
      "input 3 is: amir\n",
      "\n",
      "input 1 is: Amin\n",
      "input 2 is: ali\n",
      "input 3 is: amir\n"
     ]
    }
   ],
   "source": [
    "def funcc(input1,input2,input3):\n",
    "    print(\"input 1 is:\", input1)\n",
    "    print(\"input 2 is:\", input2)\n",
    "    print(\"input 3 is:\", input3)\n",
    "    \n",
    "def funcc_():\n",
    "    return ('Amin','ali','amir')\n",
    "\n",
    "func1 = funcc_()\n",
    "\n",
    "print(\"Unpaking *args\", '\\n')\n",
    "funcc(func1[0], func1[1], func1[2])\n",
    "print()\n",
    "funcc(*func1)\n",
    "print()\n",
    "\n",
    "def func__():\n",
    "    return {'input1': 'Amin', 'input2': 'ali', 'input3':'amir'}\n",
    "\n",
    "func2= func__()\n",
    "\n",
    "print(\"Unpaking **kwargs\", '\\n')\n",
    "funcc(func2['input1'], func2['input2'], func2['input3'])\n",
    "print()\n",
    "funcc(**func2)"
   ]
  },
  {
   "cell_type": "code",
   "execution_count": 131,
   "id": "9d6353c4",
   "metadata": {},
   "outputs": [
    {
     "name": "stdout",
     "output_type": "stream",
     "text": [
      "[1, 2, 3, 4, 5]\n"
     ]
    }
   ],
   "source": [
    "lst = [1, 2, 3]\n",
    "lst2 = [*lst, 4, 5]\n",
    "print(lst2)"
   ]
  },
  {
   "cell_type": "code",
   "execution_count": 25,
   "id": "c359b2fa",
   "metadata": {},
   "outputs": [
    {
     "name": "stdout",
     "output_type": "stream",
     "text": [
      "{'1': 'a', '2': 'b', '3': 'c', '4': 'd', '5': 'e'}\n"
     ]
    }
   ],
   "source": [
    "dic = {\"1\": \"a\", \"2\": \"b\", \"3\": \"c\"}\n",
    "dic2 = {**dic, \"4\": \"d\", \"5\": \"e\"}\n",
    "print(dic2)"
   ]
  },
  {
   "cell_type": "code",
   "execution_count": 1,
   "id": "911484b6",
   "metadata": {},
   "outputs": [
    {
     "ename": "IndentationError",
     "evalue": "expected an indented block (1430813012.py, line 2)",
     "output_type": "error",
     "traceback": [
      "\u001b[1;36m  Cell \u001b[1;32mIn [1], line 2\u001b[1;36m\u001b[0m\n\u001b[1;33m    pinrt(\"...\")\u001b[0m\n\u001b[1;37m    ^\u001b[0m\n\u001b[1;31mIndentationError\u001b[0m\u001b[1;31m:\u001b[0m expected an indented block\n"
     ]
    }
   ],
   "source": [
    "def func():\n",
    "pinrt(\"...\")"
   ]
  },
  {
   "cell_type": "code",
   "execution_count": 6,
   "id": "eeafc5bf",
   "metadata": {},
   "outputs": [
    {
     "name": "stdout",
     "output_type": "stream",
     "text": [
      "None\n",
      "\n",
      "result is None\n"
     ]
    }
   ],
   "source": [
    "def func():\n",
    "    pass\n",
    "output = func()\n",
    "print(func(),'\\n', sep = '')\n",
    "print(f\"result is {output}\")\n"
   ]
  },
  {
   "cell_type": "code",
   "execution_count": 7,
   "id": "bfa24fd6",
   "metadata": {},
   "outputs": [
    {
     "name": "stdout",
     "output_type": "stream",
     "text": [
      "None\n",
      "\n",
      "result is None\n"
     ]
    }
   ],
   "source": [
    "def func():\n",
    "    ...\n",
    "output = func()\n",
    "print(func(),'\\n', sep = '')\n",
    "print(f\"result is {output}\")"
   ]
  },
  {
   "cell_type": "code",
   "execution_count": 11,
   "id": "181f5fef",
   "metadata": {},
   "outputs": [
    {
     "name": "stdout",
     "output_type": "stream",
     "text": [
      "it's equal\n"
     ]
    }
   ],
   "source": [
    "variable = 10\n",
    "target = 10\n",
    "if target < variable:\n",
    "    print(\"it's smaller\")\n",
    "elif target > variable:\n",
    "    pass\n",
    "else:\n",
    "    print(\"it's equal\")"
   ]
  },
  {
   "cell_type": "markdown",
   "id": "cbb88909",
   "metadata": {},
   "source": [
    "### Mandatory Positional & Keyword Arguments"
   ]
  },
  {
   "cell_type": "code",
   "execution_count": 27,
   "id": "568e6af4",
   "metadata": {},
   "outputs": [
    {
     "name": "stdout",
     "output_type": "stream",
     "text": [
      "pooya mohammadi\n"
     ]
    }
   ],
   "source": [
    "def pass_keywords(first_name,last_name):\n",
    "    print(first_name, last_name)\n",
    "    \n",
    "pass_keywords(\"pooya\", \"mohammadi\")"
   ]
  },
  {
   "cell_type": "code",
   "execution_count": 33,
   "id": "56b521c7",
   "metadata": {},
   "outputs": [
    {
     "name": "stdout",
     "output_type": "stream",
     "text": [
      "pooya mohammadi\n"
     ]
    }
   ],
   "source": [
    "def pass_keywords(first_name, last_name):\n",
    "    print(first_name, last_name)\n",
    "    \n",
    "pass_keywords(\"pooya\", \"mohammadi\")"
   ]
  },
  {
   "cell_type": "code",
   "execution_count": 36,
   "id": "7dcc0911",
   "metadata": {},
   "outputs": [
    {
     "name": "stdout",
     "output_type": "stream",
     "text": [
      "\n",
      "Amin Mohammadzadeh\n"
     ]
    }
   ],
   "source": [
    "\n",
    "def func():\n",
    "    return dict(first_name = 'Amin', last_name = 'Mohammadzadeh')\n",
    "\n",
    "func_ = func()\n",
    "\n",
    "print()\n",
    "pass_keywords(func_['first_name'],func_['last_name'])"
   ]
  },
  {
   "cell_type": "code",
   "execution_count": 37,
   "id": "2a30e158",
   "metadata": {},
   "outputs": [
    {
     "ename": "TypeError",
     "evalue": "pass_keywords() takes 0 positional arguments but 2 were given",
     "output_type": "error",
     "traceback": [
      "\u001b[1;31m---------------------------------------------------------------------------\u001b[0m",
      "\u001b[1;31mTypeError\u001b[0m                                 Traceback (most recent call last)",
      "Cell \u001b[1;32mIn [37], line 4\u001b[0m\n\u001b[0;32m      1\u001b[0m \u001b[38;5;28;01mdef\u001b[39;00m \u001b[38;5;21mpass_keywords\u001b[39m(\u001b[38;5;241m*\u001b[39m, first_name, last_name):\n\u001b[0;32m      2\u001b[0m     \u001b[38;5;28mprint\u001b[39m(first_name, last_name)\n\u001b[1;32m----> 4\u001b[0m \u001b[43mpass_keywords\u001b[49m\u001b[43m(\u001b[49m\u001b[38;5;124;43m\"\u001b[39;49m\u001b[38;5;124;43mpooya\u001b[39;49m\u001b[38;5;124;43m\"\u001b[39;49m\u001b[43m,\u001b[49m\u001b[43m \u001b[49m\u001b[38;5;124;43m\"\u001b[39;49m\u001b[38;5;124;43mmohammadi\u001b[39;49m\u001b[38;5;124;43m\"\u001b[39;49m\u001b[43m)\u001b[49m\n\u001b[0;32m      7\u001b[0m \u001b[38;5;28;01mdef\u001b[39;00m \u001b[38;5;21mfunc\u001b[39m():\n\u001b[0;32m      8\u001b[0m     \u001b[38;5;28;01mreturn\u001b[39;00m \u001b[38;5;28mdict\u001b[39m(first_name \u001b[38;5;241m=\u001b[39m \u001b[38;5;124m'\u001b[39m\u001b[38;5;124mAmin\u001b[39m\u001b[38;5;124m'\u001b[39m, last_name \u001b[38;5;241m=\u001b[39m \u001b[38;5;124m'\u001b[39m\u001b[38;5;124mMohammadzadeh\u001b[39m\u001b[38;5;124m'\u001b[39m)\n",
      "\u001b[1;31mTypeError\u001b[0m: pass_keywords() takes 0 positional arguments but 2 were given"
     ]
    }
   ],
   "source": [
    "# for force user to pass in only with keywords arguments with(*,   ,  )\n",
    "\n",
    "\n",
    "def pass_keywords(*, first_name, last_name):\n",
    "    print(first_name, last_name)\n",
    "    \n",
    "pass_keywords(\"pooya\", \"mohammadi\")\n",
    "\n",
    "\n",
    "def func():\n",
    "    return dict(first_name = 'Amin', last_name = 'Mohammadzadeh')\n",
    "\n",
    "func_ = func()\n",
    "\n",
    "print()\n",
    "pass_keywords(func_['first_name'],func_['last_name'])"
   ]
  },
  {
   "cell_type": "code",
   "execution_count": 39,
   "id": "68d22ada",
   "metadata": {},
   "outputs": [
    {
     "name": "stdout",
     "output_type": "stream",
     "text": [
      "Amin Mohammadzadeh\n"
     ]
    }
   ],
   "source": [
    "pass_keywords(first_name= 'Amin', last_name= 'Mohammadzadeh')"
   ]
  },
  {
   "cell_type": "code",
   "execution_count": 40,
   "id": "95593dff",
   "metadata": {},
   "outputs": [
    {
     "ename": "TypeError",
     "evalue": "pass_keywords() missing 1 required keyword-only argument: 'last_name'",
     "output_type": "error",
     "traceback": [
      "\u001b[1;31m---------------------------------------------------------------------------\u001b[0m",
      "\u001b[1;31mTypeError\u001b[0m                                 Traceback (most recent call last)",
      "Cell \u001b[1;32mIn [40], line 1\u001b[0m\n\u001b[1;32m----> 1\u001b[0m \u001b[43mpass_keywords\u001b[49m\u001b[43m(\u001b[49m\u001b[43mfirst_name\u001b[49m\u001b[38;5;241;43m=\u001b[39;49m\u001b[43m \u001b[49m\u001b[38;5;124;43m'\u001b[39;49m\u001b[38;5;124;43mAmin\u001b[39;49m\u001b[38;5;124;43m'\u001b[39;49m\u001b[43m)\u001b[49m\n",
      "\u001b[1;31mTypeError\u001b[0m: pass_keywords() missing 1 required keyword-only argument: 'last_name'"
     ]
    }
   ],
   "source": [
    "pass_keywords(first_name= 'Amin')"
   ]
  },
  {
   "cell_type": "code",
   "execution_count": 42,
   "id": "3b381b09",
   "metadata": {},
   "outputs": [
    {
     "data": {
      "text/plain": [
       "[0, 2, 7, 9]"
      ]
     },
     "execution_count": 42,
     "metadata": {},
     "output_type": "execute_result"
    }
   ],
   "source": [
    "lst = [2, 0, 7, 9]\n",
    "lst.sort()\n",
    "lst"
   ]
  },
  {
   "cell_type": "code",
   "execution_count": 45,
   "id": "4211f7a9",
   "metadata": {},
   "outputs": [
    {
     "ename": "TypeError",
     "evalue": "sort() takes no positional arguments",
     "output_type": "error",
     "traceback": [
      "\u001b[1;31m---------------------------------------------------------------------------\u001b[0m",
      "\u001b[1;31mTypeError\u001b[0m                                 Traceback (most recent call last)",
      "Cell \u001b[1;32mIn [45], line 2\u001b[0m\n\u001b[0;32m      1\u001b[0m lst \u001b[38;5;241m=\u001b[39m [\u001b[38;5;241m2\u001b[39m, \u001b[38;5;241m0\u001b[39m, \u001b[38;5;241m7\u001b[39m, \u001b[38;5;241m9\u001b[39m]\n\u001b[1;32m----> 2\u001b[0m \u001b[43mlst\u001b[49m\u001b[38;5;241;43m.\u001b[39;49m\u001b[43msort\u001b[49m\u001b[43m(\u001b[49m\u001b[38;5;28;43;01mNone\u001b[39;49;00m\u001b[43m,\u001b[49m\u001b[43m \u001b[49m\u001b[38;5;28;43;01mTrue\u001b[39;49;00m\u001b[43m)\u001b[49m\n\u001b[0;32m      3\u001b[0m lst\n",
      "\u001b[1;31mTypeError\u001b[0m: sort() takes no positional arguments"
     ]
    }
   ],
   "source": [
    "lst = [2, 0, 7, 9]\n",
    "lst.sort(None, True)\n",
    "lst"
   ]
  },
  {
   "cell_type": "code",
   "execution_count": 49,
   "id": "b5a7d446",
   "metadata": {},
   "outputs": [
    {
     "ename": "TypeError",
     "evalue": "sort() takes no positional arguments",
     "output_type": "error",
     "traceback": [
      "\u001b[1;31m---------------------------------------------------------------------------\u001b[0m",
      "\u001b[1;31mTypeError\u001b[0m                                 Traceback (most recent call last)",
      "Cell \u001b[1;32mIn [49], line 2\u001b[0m\n\u001b[0;32m      1\u001b[0m lst \u001b[38;5;241m=\u001b[39m [\u001b[38;5;241m2\u001b[39m, \u001b[38;5;241m0\u001b[39m, \u001b[38;5;241m7\u001b[39m, \u001b[38;5;241m9\u001b[39m]\n\u001b[1;32m----> 2\u001b[0m \u001b[43mlst\u001b[49m\u001b[38;5;241;43m.\u001b[39;49m\u001b[43msort\u001b[49m\u001b[43m(\u001b[49m\u001b[38;5;28;43;01mNone\u001b[39;49;00m\u001b[43m,\u001b[49m\u001b[43m \u001b[49m\u001b[43mreverse\u001b[49m\u001b[43m \u001b[49m\u001b[38;5;241;43m=\u001b[39;49m\u001b[43m \u001b[49m\u001b[38;5;28;43;01mFalse\u001b[39;49;00m\u001b[43m)\u001b[49m\n\u001b[0;32m      3\u001b[0m lst\n",
      "\u001b[1;31mTypeError\u001b[0m: sort() takes no positional arguments"
     ]
    }
   ],
   "source": [
    "lst = [2, 0, 7, 9]\n",
    "lst.sort(None, reverse = False)\n",
    "lst"
   ]
  },
  {
   "cell_type": "code",
   "execution_count": 51,
   "id": "f0611a54",
   "metadata": {},
   "outputs": [
    {
     "data": {
      "text/plain": [
       "[0, 2, 7, 9]"
      ]
     },
     "execution_count": 51,
     "metadata": {},
     "output_type": "execute_result"
    }
   ],
   "source": [
    "# Correct way is that, you should use keywords argument (check docstring )\n",
    "\n",
    "lst = [2, 0, 7, 9]\n",
    "lst.sort(key= None, reverse = False)\n",
    "lst"
   ]
  },
  {
   "cell_type": "code",
   "execution_count": 53,
   "id": "ca8b2744",
   "metadata": {},
   "outputs": [
    {
     "name": "stdout",
     "output_type": "stream",
     "text": [
      "10 Amin Mohammadzadeh\n"
     ]
    }
   ],
   "source": [
    "# a Positional Argument + kwargs\n",
    "\n",
    "def mixed_keywords(item, *, first_name, last_name):\n",
    "    # item is positional argument and after * must be keyword argument\n",
    "    print(item, first_name, last_name)\n",
    "\n",
    "mixed_keywords(10, first_name= 'Amin', last_name= 'Mohammadzadeh')"
   ]
  },
  {
   "cell_type": "code",
   "execution_count": 54,
   "id": "c1bb695e",
   "metadata": {},
   "outputs": [
    {
     "name": "stdout",
     "output_type": "stream",
     "text": [
      "10 Amin Mohammadzadeh\n"
     ]
    }
   ],
   "source": [
    "mixed_keywords(10, first_name= 'Amin', last_name= 'Mohammadzadeh')"
   ]
  },
  {
   "cell_type": "code",
   "execution_count": 57,
   "id": "c3772e1b",
   "metadata": {},
   "outputs": [
    {
     "ename": "TypeError",
     "evalue": "mixed_positional() got some positional-only arguments passed as keyword arguments: 'first_name, last_name'",
     "output_type": "error",
     "traceback": [
      "\u001b[1;31m---------------------------------------------------------------------------\u001b[0m",
      "\u001b[1;31mTypeError\u001b[0m                                 Traceback (most recent call last)",
      "Cell \u001b[1;32mIn [57], line 5\u001b[0m\n\u001b[0;32m      2\u001b[0m \u001b[38;5;28;01mdef\u001b[39;00m \u001b[38;5;21mmixed_positional\u001b[39m(first_name, last_name, \u001b[38;5;241m/\u001b[39m):\n\u001b[0;32m      3\u001b[0m     \u001b[38;5;28mprint\u001b[39m(first_name, last_name)\n\u001b[1;32m----> 5\u001b[0m \u001b[43mmixed_positional\u001b[49m\u001b[43m(\u001b[49m\u001b[43mfirst_name\u001b[49m\u001b[38;5;241;43m=\u001b[39;49m\u001b[43m \u001b[49m\u001b[38;5;124;43m'\u001b[39;49m\u001b[38;5;124;43mAmin\u001b[39;49m\u001b[38;5;124;43m'\u001b[39;49m\u001b[43m,\u001b[49m\u001b[43m \u001b[49m\u001b[43mlast_name\u001b[49m\u001b[38;5;241;43m=\u001b[39;49m\u001b[43m \u001b[49m\u001b[38;5;124;43m'\u001b[39;49m\u001b[38;5;124;43mMohammadzadeh\u001b[39;49m\u001b[38;5;124;43m'\u001b[39;49m\u001b[43m)\u001b[49m\n",
      "\u001b[1;31mTypeError\u001b[0m: mixed_positional() got some positional-only arguments passed as keyword arguments: 'first_name, last_name'"
     ]
    }
   ],
   "source": [
    "# Mandatory positional Arguments - positional-only (arguments befor , / must be positional argument)\n",
    "def mixed_positional(first_name, last_name, /):\n",
    "    print(first_name, last_name)\n",
    "    \n",
    "mixed_positional(first_name= 'Amin', last_name= 'Mohammadzadeh')"
   ]
  },
  {
   "cell_type": "code",
   "execution_count": 58,
   "id": "57b58e68",
   "metadata": {},
   "outputs": [
    {
     "name": "stdout",
     "output_type": "stream",
     "text": [
      "Amin Mohammadzadeh\n"
     ]
    }
   ],
   "source": [
    "# above error :mixed_positional() got some positional-only arguments passed as keyword arguments: 'first_name, last_name'\n",
    "\n",
    "#correct is positional-argument\n",
    "mixed_positional('Amin','Mohammadzadeh')"
   ]
  },
  {
   "cell_type": "code",
   "execution_count": 60,
   "id": "b3be0e78",
   "metadata": {},
   "outputs": [
    {
     "name": "stdout",
     "output_type": "stream",
     "text": [
      "10 10 Amin mohammadzadeh\n"
     ]
    }
   ],
   "source": [
    "# mixed positional and keyword arguments\n",
    "\n",
    "def mixed_positional_keyword(item, /, extra_item, *, first_name, last_name):\n",
    "    print(item, extra_item, first_name, last_name)\n",
    "    \n",
    "mixed_positional_keyword(10, extra_item = 10, first_name = \"Amin\", last_name = \"mohammadzadeh\") "
   ]
  },
  {
   "cell_type": "code",
   "execution_count": 61,
   "id": "668f7bf4",
   "metadata": {},
   "outputs": [
    {
     "ename": "TypeError",
     "evalue": "mixed_positional_keyword() got some positional-only arguments passed as keyword arguments: 'item'",
     "output_type": "error",
     "traceback": [
      "\u001b[1;31m---------------------------------------------------------------------------\u001b[0m",
      "\u001b[1;31mTypeError\u001b[0m                                 Traceback (most recent call last)",
      "Cell \u001b[1;32mIn [61], line 1\u001b[0m\n\u001b[1;32m----> 1\u001b[0m \u001b[43mmixed_positional_keyword\u001b[49m\u001b[43m(\u001b[49m\u001b[43mitem\u001b[49m\u001b[43m \u001b[49m\u001b[38;5;241;43m=\u001b[39;49m\u001b[43m \u001b[49m\u001b[38;5;241;43m10\u001b[39;49m\u001b[43m,\u001b[49m\u001b[43m \u001b[49m\u001b[43mextra_item\u001b[49m\u001b[43m \u001b[49m\u001b[38;5;241;43m=\u001b[39;49m\u001b[43m \u001b[49m\u001b[38;5;241;43m10\u001b[39;49m\u001b[43m,\u001b[49m\u001b[43m \u001b[49m\u001b[43mfirst_name\u001b[49m\u001b[43m \u001b[49m\u001b[38;5;241;43m=\u001b[39;49m\u001b[43m \u001b[49m\u001b[38;5;124;43m\"\u001b[39;49m\u001b[38;5;124;43mAmin\u001b[39;49m\u001b[38;5;124;43m\"\u001b[39;49m\u001b[43m,\u001b[49m\u001b[43m \u001b[49m\u001b[43mlast_name\u001b[49m\u001b[43m \u001b[49m\u001b[38;5;241;43m=\u001b[39;49m\u001b[43m \u001b[49m\u001b[38;5;124;43m\"\u001b[39;49m\u001b[38;5;124;43mmohammadzadeh\u001b[39;49m\u001b[38;5;124;43m\"\u001b[39;49m\u001b[43m)\u001b[49m \n",
      "\u001b[1;31mTypeError\u001b[0m: mixed_positional_keyword() got some positional-only arguments passed as keyword arguments: 'item'"
     ]
    }
   ],
   "source": [
    "mixed_positional_keyword(item = 10, extra_item = 10, first_name = \"Amin\", last_name = \"mohammadzadeh\") "
   ]
  },
  {
   "cell_type": "code",
   "execution_count": 62,
   "id": "18ed0e8f",
   "metadata": {},
   "outputs": [
    {
     "name": "stdout",
     "output_type": "stream",
     "text": [
      "10 10 Amin mohammadzadeh\n"
     ]
    }
   ],
   "source": [
    "mixed_positional_keyword(10, 10, first_name = \"Amin\", last_name = \"mohammadzadeh\") "
   ]
  },
  {
   "cell_type": "code",
   "execution_count": 63,
   "id": "d5f1d56d",
   "metadata": {},
   "outputs": [
    {
     "name": "stdout",
     "output_type": "stream",
     "text": [
      "10 amin\n",
      "\n",
      "10 amin\n",
      "\n",
      "10 amin\n"
     ]
    }
   ],
   "source": [
    "# Arbitury\n",
    "\n",
    "def arbitury_posi_key(input1, input2):\n",
    "    print(input1, input2)\n",
    "\n",
    "arbitury_posi_key(10, 'amin')\n",
    "print()\n",
    "arbitury_posi_key(input1 = 10, input2 = 'amin')\n",
    "print()\n",
    "arbitury_posi_key(10, input2 = 'amin')"
   ]
  },
  {
   "cell_type": "code",
   "execution_count": null,
   "id": "c80b706f",
   "metadata": {},
   "outputs": [],
   "source": []
  }
 ],
 "metadata": {
  "kernelspec": {
   "display_name": "Python 3 (ipykernel)",
   "language": "python",
   "name": "python3"
  },
  "language_info": {
   "codemirror_mode": {
    "name": "ipython",
    "version": 3
   },
   "file_extension": ".py",
   "mimetype": "text/x-python",
   "name": "python",
   "nbconvert_exporter": "python",
   "pygments_lexer": "ipython3",
   "version": "3.9.15"
  }
 },
 "nbformat": 4,
 "nbformat_minor": 5
}
