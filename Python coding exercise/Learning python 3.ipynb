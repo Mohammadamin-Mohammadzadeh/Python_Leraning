{
 "cells": [
  {
   "cell_type": "markdown",
   "id": "4282c5b3",
   "metadata": {},
   "source": [
    "# Data Conversion"
   ]
  },
  {
   "cell_type": "code",
   "execution_count": 3,
   "id": "6007bd2c",
   "metadata": {},
   "outputs": [
    {
     "name": "stdout",
     "output_type": "stream",
     "text": [
      "20\n"
     ]
    },
    {
     "data": {
      "text/plain": [
       "str"
      ]
     },
     "execution_count": 3,
     "metadata": {},
     "output_type": "execute_result"
    }
   ],
   "source": [
    "x = \"20\"\n",
    "print(int(x))\n",
    "type(x)\n",
    "print(type())"
   ]
  },
  {
   "cell_type": "code",
   "execution_count": 8,
   "id": "084fa236",
   "metadata": {},
   "outputs": [
    {
     "name": "stdout",
     "output_type": "stream",
     "text": [
      "20\n"
     ]
    },
    {
     "data": {
      "text/plain": [
       "str"
      ]
     },
     "execution_count": 8,
     "metadata": {},
     "output_type": "execute_result"
    }
   ],
   "source": [
    "y = 20\n",
    "yy = str(y)\n",
    "print(yy)\n",
    "type(yy)"
   ]
  },
  {
   "cell_type": "code",
   "execution_count": 10,
   "id": "7efb5f2d",
   "metadata": {},
   "outputs": [
    {
     "name": "stdout",
     "output_type": "stream",
     "text": [
      "3\n",
      "<class 'int'>\n"
     ]
    }
   ],
   "source": [
    "f = 3.9\n",
    "print(int(f))\n",
    "print(type(int(f)))"
   ]
  },
  {
   "cell_type": "code",
   "execution_count": 11,
   "id": "9ee743f6",
   "metadata": {},
   "outputs": [
    {
     "name": "stdout",
     "output_type": "stream",
     "text": [
      "20.0\n",
      "<class 'float'>\n"
     ]
    }
   ],
   "source": [
    "print(float(x))\n",
    "print(type(float(x)))"
   ]
  },
  {
   "cell_type": "code",
   "execution_count": 17,
   "id": "8c937bae",
   "metadata": {},
   "outputs": [
    {
     "name": "stdout",
     "output_type": "stream",
     "text": [
      "set to tuple is : (40, 10, 'ali', 20) <class 'tuple'>\n",
      "\n",
      "tuple to set is : {'ali', 10, 'amir', 20} <class 'set'>\n",
      "\n",
      "list to set is : {41, 10, 59.5, 'reza'} <class 'set'>\n"
     ]
    }
   ],
   "source": [
    "set_to_tuple = tuple({10, 20, 40, 'ali'})\n",
    "print(\"set to tuple is :\", set_to_tuple, type(set_to_tuple))\n",
    "print()\n",
    "\n",
    "tuple_to_set = set((10,'amir', 'ali', 20, 'amir', 10))\n",
    "print(\"tuple to set is :\", tuple_to_set, type(tuple_to_set))\n",
    "print()\n",
    "\n",
    "list_to_set = set([10, \"reza\", 59.5, 41])\n",
    "print(\"list to set is :\", list_to_set, type(list_to_set))"
   ]
  },
  {
   "cell_type": "code",
   "execution_count": 18,
   "id": "a09c04d6",
   "metadata": {},
   "outputs": [
    {
     "ename": "TypeError",
     "evalue": "unhashable type: 'list'",
     "output_type": "error",
     "traceback": [
      "\u001b[1;31m---------------------------------------------------------------------------\u001b[0m",
      "\u001b[1;31mTypeError\u001b[0m                                 Traceback (most recent call last)",
      "Cell \u001b[1;32mIn [18], line 2\u001b[0m\n\u001b[0;32m      1\u001b[0m lst \u001b[38;5;241m=\u001b[39m [\u001b[38;5;241m2\u001b[39m, [\u001b[38;5;241m2\u001b[39m, \u001b[38;5;241m2\u001b[39m]]\n\u001b[1;32m----> 2\u001b[0m \u001b[38;5;28mprint\u001b[39m(\u001b[38;5;28;43mset\u001b[39;49m\u001b[43m(\u001b[49m\u001b[43mlst\u001b[49m\u001b[43m)\u001b[49m)\n",
      "\u001b[1;31mTypeError\u001b[0m: unhashable type: 'list'"
     ]
    }
   ],
   "source": [
    "lst = [2, [2, 2]] # list is unhashable\n",
    "print(set(lst))"
   ]
  },
  {
   "cell_type": "code",
   "execution_count": 19,
   "id": "5e40de19",
   "metadata": {},
   "outputs": [
    {
     "name": "stdout",
     "output_type": "stream",
     "text": [
      "{2, (2, 2)}\n"
     ]
    }
   ],
   "source": [
    "lst_ = [2, (2, 2)] # tuple is hashable so we have don't error\n",
    "print(set(lst_))"
   ]
  },
  {
   "cell_type": "code",
   "execution_count": 20,
   "id": "ecb7a0b6",
   "metadata": {},
   "outputs": [],
   "source": [
    "# Converting List to Dic"
   ]
  },
  {
   "cell_type": "code",
   "execution_count": 1,
   "id": "b4ec76d3",
   "metadata": {},
   "outputs": [
    {
     "ename": "ValueError",
     "evalue": "dictionary update sequence element #0 has length 4; 2 is required",
     "output_type": "error",
     "traceback": [
      "\u001b[1;31m---------------------------------------------------------------------------\u001b[0m",
      "\u001b[1;31mValueError\u001b[0m                                Traceback (most recent call last)",
      "Cell \u001b[1;32mIn [1], line 4\u001b[0m\n\u001b[0;32m      1\u001b[0m \u001b[38;5;66;03m# as we know dic based on value key so it is necessary to consider it in other data type\u001b[39;00m\n\u001b[0;32m      2\u001b[0m \u001b[38;5;66;03m# example\u001b[39;00m\n\u001b[0;32m      3\u001b[0m list_ \u001b[38;5;241m=\u001b[39m [\u001b[38;5;124m\"\u001b[39m\u001b[38;5;124mIran\u001b[39m\u001b[38;5;124m\"\u001b[39m,\u001b[38;5;124m\"\u001b[39m\u001b[38;5;124mTehran\u001b[39m\u001b[38;5;124m\"\u001b[39m, \u001b[38;5;124m\"\u001b[39m\u001b[38;5;124mFrance\u001b[39m\u001b[38;5;124m\"\u001b[39m, \u001b[38;5;124m\"\u001b[39m\u001b[38;5;124mParis\u001b[39m\u001b[38;5;124m\"\u001b[39m, \u001b[38;5;124m\"\u001b[39m\u001b[38;5;124mDeutschland\u001b[39m\u001b[38;5;124m\"\u001b[39m, \u001b[38;5;124m\"\u001b[39m\u001b[38;5;124mBerlin\u001b[39m\u001b[38;5;124m\"\u001b[39m]\n\u001b[1;32m----> 4\u001b[0m \u001b[38;5;28mprint\u001b[39m(\u001b[38;5;28;43mdict\u001b[39;49m\u001b[43m(\u001b[49m\u001b[43mlist_\u001b[49m\u001b[43m)\u001b[49m)\n",
      "\u001b[1;31mValueError\u001b[0m: dictionary update sequence element #0 has length 4; 2 is required"
     ]
    }
   ],
   "source": [
    "# as we know dic based on value key so it is necessary to consider it in other data type\n",
    "# example\n",
    "list_ = [\"Iran\",\"Tehran\", \"France\", \"Paris\", \"Deutschland\", \"Berlin\"]\n",
    "print(dict(list_))"
   ]
  },
  {
   "cell_type": "code",
   "execution_count": 22,
   "id": "eaa067b4",
   "metadata": {},
   "outputs": [
    {
     "name": "stdout",
     "output_type": "stream",
     "text": [
      "{'Iran': 'Tehran', 'France': 'Paris', 'Deutschland': 'Berlin'}\n"
     ]
    }
   ],
   "source": [
    "# As you see in above list-sample occur error\n",
    "# example 2\n",
    "list_1 = [(\"Iran\",\"Tehran\"), (\"France\", \"Paris\"), (\"Deutschland\", \"Berlin\")]\n",
    "print(dict(list_1))"
   ]
  },
  {
   "cell_type": "code",
   "execution_count": 34,
   "id": "659890d9",
   "metadata": {},
   "outputs": [
    {
     "name": "stdout",
     "output_type": "stream",
     "text": [
      " tuple to dic is : {'Iran': 'Tehran', 'France': 'Paris', 'Deutschland': 'Berlin'}\n"
     ]
    }
   ],
   "source": [
    "tuple_1 = ((\"Iran\",\"Tehran\"), (\"France\", \"Paris\"), (\"Deutschland\", \"Berlin\"))\n",
    "tuple_to_dic = dict(tuple_1)\n",
    "print(\" tuple to dic is :\", tuple_to_dic)"
   ]
  },
  {
   "cell_type": "code",
   "execution_count": null,
   "id": "d70a1912",
   "metadata": {},
   "outputs": [],
   "source": [
    "# dic to list"
   ]
  },
  {
   "cell_type": "code",
   "execution_count": 32,
   "id": "677c030c",
   "metadata": {},
   "outputs": [
    {
     "name": "stdout",
     "output_type": "stream",
     "text": [
      "{'Iran': 'Tehran', 'France': 'Paris', 'Deutschland': 'Berlin'}\n",
      "\n",
      "dict_items([('Iran', 'Tehran'), ('France', 'Paris'), ('Deutschland', 'Berlin')])\n",
      "\n",
      "[('Iran', 'Tehran'), ('France', 'Paris'), ('Deutschland', 'Berlin')]\n"
     ]
    }
   ],
   "source": [
    "dic_ = dict(list_1)\n",
    "print(dic_)\n",
    "print()\n",
    "print(dic_.items())\n",
    "print()\n",
    "dic_to_lsit = list(dic_.items())\n",
    "print(dic_to_lsit)\n"
   ]
  },
  {
   "cell_type": "markdown",
   "id": "585493f7",
   "metadata": {},
   "source": [
    "## Loops for Dictionaries"
   ]
  },
  {
   "cell_type": "code",
   "execution_count": 6,
   "id": "b3010f7b",
   "metadata": {},
   "outputs": [
    {
     "name": "stdout",
     "output_type": "stream",
     "text": [
      "{'Iran': 'Tehran', 'France': 'Paris', 'Germany': 'Berlin'}\n"
     ]
    }
   ],
   "source": [
    "dic_ = {'Iran': 'Tehran',\n",
    "        'France': 'Paris',\n",
    "        'Germany': 'Berlin'}\n",
    "\n",
    "print(dic_)"
   ]
  },
  {
   "cell_type": "code",
   "execution_count": 8,
   "id": "c83e2c63",
   "metadata": {},
   "outputs": [
    {
     "data": {
      "text/plain": [
       "dict_keys(['Iran', 'France', 'Germany'])"
      ]
     },
     "execution_count": 8,
     "metadata": {},
     "output_type": "execute_result"
    }
   ],
   "source": [
    "dic_.keys()"
   ]
  },
  {
   "cell_type": "code",
   "execution_count": 11,
   "id": "f8ae9779",
   "metadata": {},
   "outputs": [
    {
     "name": "stdout",
     "output_type": "stream",
     "text": [
      "The capital of Iran is Tehran\n",
      "The capital of France is Paris\n",
      "The capital of Germany is Berlin\n"
     ]
    }
   ],
   "source": [
    "for k in dic_.keys():\n",
    "    print(f'The capital of {k} is {dic_[k]}')"
   ]
  },
  {
   "cell_type": "code",
   "execution_count": 12,
   "id": "fe207f38",
   "metadata": {},
   "outputs": [
    {
     "name": "stdout",
     "output_type": "stream",
     "text": [
      "Tehran\n",
      "Paris\n",
      "Berlin\n"
     ]
    }
   ],
   "source": [
    "for v in dic_.values():\n",
    "    print(v)"
   ]
  },
  {
   "cell_type": "code",
   "execution_count": 14,
   "id": "e507e6ca",
   "metadata": {},
   "outputs": [
    {
     "name": "stdout",
     "output_type": "stream",
     "text": [
      "('Iran', 'Tehran')\n",
      "('France', 'Paris')\n",
      "('Germany', 'Berlin')\n"
     ]
    }
   ],
   "source": [
    "for i in dic_.items():\n",
    "    print(i)"
   ]
  },
  {
   "cell_type": "code",
   "execution_count": 16,
   "id": "51a6d9f3",
   "metadata": {},
   "outputs": [
    {
     "name": "stdout",
     "output_type": "stream",
     "text": [
      "Germany\n",
      "Berlin\n"
     ]
    }
   ],
   "source": [
    "# unpacking a sequence a data type \n",
    "\n",
    "item_1, item_2 = (\"Germany\", \"Berlin\")\n",
    "print (item_1, item_2, sep = '\\n')"
   ]
  },
  {
   "cell_type": "code",
   "execution_count": 15,
   "id": "65391e90",
   "metadata": {},
   "outputs": [
    {
     "name": "stdout",
     "output_type": "stream",
     "text": [
      "Key: Iran and value: Tehran\n",
      "Key: France and value: Paris\n",
      "Key: Germany and value: Berlin\n"
     ]
    }
   ],
   "source": [
    "for items in dic_.items():\n",
    "    print(f'Key: {items[0]} and value: {items[1]}')\n",
    "    "
   ]
  },
  {
   "cell_type": "code",
   "execution_count": 27,
   "id": "6f4af7bc",
   "metadata": {},
   "outputs": [
    {
     "name": "stdout",
     "output_type": "stream",
     "text": [
      "Key: Iran and value: Tehran\n",
      "Key: France and value: Paris\n",
      "Key: Germany and value: Berlin\n"
     ]
    }
   ],
   "source": [
    "# another way\n",
    "\n",
    "for key, value in dic_.items():\n",
    "    print(f'Key: {key} and value: {value}')"
   ]
  },
  {
   "cell_type": "markdown",
   "id": "9aed63ca",
   "metadata": {},
   "source": [
    "## Task 1\n",
    "\n",
    "Create a new dictionary like capitals in which keys and values are replaced."
   ]
  },
  {
   "cell_type": "code",
   "execution_count": 45,
   "id": "e6a4e813",
   "metadata": {},
   "outputs": [
    {
     "name": "stdout",
     "output_type": "stream",
     "text": [
      "Dictionary is : \n",
      "\n",
      " {'Iran': 'Tehran', 'France': 'Paris', 'Germany': 'Berlin', 'United Kingdom': 'London'}\n",
      "\n",
      "Reversed dictionary is :\n",
      "\n",
      " {'Tehran': 'Iran', 'Paris': 'France', 'Berlin': 'Germany', 'London': 'United Kingdom'}\n"
     ]
    }
   ],
   "source": [
    "dic_1 = {'Iran': 'Tehran',\n",
    "        'France': 'Paris',\n",
    "        'Germany': 'Berlin',\n",
    "        'United Kingdom': 'London'}\n",
    "\n",
    "reversed_dic = dict()\n",
    "\n",
    "for key, value in dic_1.items():\n",
    "    reversed_dic[value] = key\n",
    "    \n",
    "x = '\\n'\n",
    "print (f'Dictionary is : {x}{x} {dic_1}')\n",
    "print()\n",
    "print(f'Reversed dictionary is :{x}{x} {reversed_dic}')"
   ]
  },
  {
   "cell_type": "markdown",
   "id": "9e1bfce6",
   "metadata": {},
   "source": [
    "## Task 2 (enumerate)\n",
    "print all elements in capitals except the one which comes first"
   ]
  },
  {
   "cell_type": "code",
   "execution_count": 72,
   "id": "52c58283",
   "metadata": {},
   "outputs": [
    {
     "name": "stdout",
     "output_type": "stream",
     "text": [
      "1 France Paris\n",
      "2 Germany Berlin\n",
      "3 Spain Madrid\n",
      "4 United Kingdom London\n",
      "\n",
      "{'France': 'Paris', 'Germany': 'Berlin', 'Spain': 'Madrid', 'United Kingdom': 'London'}\n"
     ]
    }
   ],
   "source": [
    "# ansewer 1\n",
    "\n",
    "dic_2 = {'Iran': 'Tehran',\n",
    "        'France': 'Paris',\n",
    "        'Germany': 'Berlin',\n",
    "        'Spain': 'Madrid',\n",
    "        'United Kingdom': 'London'}\n",
    "count = 0\n",
    "dic_3 = dict()\n",
    "\n",
    "for k, v in dic_2.items():\n",
    "    if count == 0:\n",
    "        count += 1\n",
    "        continue\n",
    "    else :\n",
    "        dic_3[k] = v\n",
    "        print(count, k, v)\n",
    "        count += 1\n",
    "print()        \n",
    "print(dic_3)\n"
   ]
  },
  {
   "cell_type": "code",
   "execution_count": 55,
   "id": "9863f2be",
   "metadata": {},
   "outputs": [
    {
     "name": "stdout",
     "output_type": "stream",
     "text": [
      "0 >>> 1\n",
      "1 >>> ali\n",
      "2 >>> 5\n",
      "3 >>> 10\n"
     ]
    }
   ],
   "source": [
    "lst = [1,'ali', '5', 10]\n",
    "\n",
    "for en, i in enumerate(lst):\n",
    "    print(en, '>>>', i)"
   ]
  },
  {
   "cell_type": "code",
   "execution_count": 71,
   "id": "434b9255",
   "metadata": {},
   "outputs": [
    {
     "name": "stdout",
     "output_type": "stream",
     "text": [
      "3 >>> 1\n",
      "4 >>> ali\n",
      "5 >>> 5\n",
      "6 >>> 10\n"
     ]
    }
   ],
   "source": [
    "lst = [1,'ali', '5', 10]\n",
    "\n",
    "for en, i in enumerate(lst, 3):\n",
    "    print(en, '>>>', i)"
   ]
  },
  {
   "cell_type": "code",
   "execution_count": 70,
   "id": "7030a391",
   "metadata": {},
   "outputs": [
    {
     "name": "stdout",
     "output_type": "stream",
     "text": [
      "0 >>> 1\n",
      "2 >>> 5\n"
     ]
    }
   ],
   "source": [
    "lst = ['1','ali', '5']\n",
    "\n",
    "valid ='0123456789'\n",
    "\n",
    "for en, i in enumerate(lst):\n",
    "    for j in i:\n",
    "        if j not in valid :\n",
    "            continue\n",
    "        print(en, '>>>', j)       \n",
    "    "
   ]
  },
  {
   "cell_type": "code",
   "execution_count": 79,
   "id": "43d470aa",
   "metadata": {},
   "outputs": [
    {
     "name": "stdout",
     "output_type": "stream",
     "text": [
      "1 France Paris\n",
      "2 Germany Berlin\n",
      "3 Spain Madrid\n",
      "4 United Kingdom London\n",
      "\n",
      "{'France': 'Paris', 'Germany': 'Berlin', 'Spain': 'Madrid', 'United Kingdom': 'London'}\n"
     ]
    }
   ],
   "source": [
    "# Task 2 (ansewer 2)\n",
    "\n",
    "dic_2 = {'Iran': 'Tehran',\n",
    "        'France': 'Paris',\n",
    "        'Germany': 'Berlin',\n",
    "        'Spain': 'Madrid',\n",
    "        'United Kingdom': 'London'}\n",
    "\n",
    "for en, (k, v) in enumerate(dic_2.items()):\n",
    "    if en == 0:\n",
    "        continue\n",
    "    print (en, k, v)\n",
    "    \n",
    "print()        \n",
    "print(dic_3)    "
   ]
  },
  {
   "cell_type": "code",
   "execution_count": 80,
   "id": "3fed5728",
   "metadata": {},
   "outputs": [
    {
     "name": "stdout",
     "output_type": "stream",
     "text": [
      "0 ('Iran', 'Tehran')\n",
      "1 ('France', 'Paris')\n",
      "2 ('Germany', 'Berlin')\n",
      "3 ('Spain', 'Madrid')\n",
      "4 ('United Kingdom', 'London')\n",
      "5 ('USA', 'Washington DC')\n"
     ]
    }
   ],
   "source": [
    "dic_4 = {'Iran': 'Tehran',\n",
    "        'France': 'Paris',\n",
    "        'Germany': 'Berlin',\n",
    "        'Spain': 'Madrid',\n",
    "        'United Kingdom': 'London',\n",
    "        'USA': \"Washington DC\"}\n",
    "\n",
    "for en, tuple_ in enumerate(dic_4.items()) :\n",
    "    print(en, tuple_)"
   ]
  },
  {
   "cell_type": "code",
   "execution_count": 2,
   "id": "3a9792b8",
   "metadata": {},
   "outputs": [],
   "source": [
    "#  Zip and enumerate"
   ]
  },
  {
   "cell_type": "code",
   "execution_count": 4,
   "id": "eeb5e334",
   "metadata": {},
   "outputs": [
    {
     "name": "stdout",
     "output_type": "stream",
     "text": [
      "1 and 4\n",
      "10 and 13\n",
      "5 and 0\n",
      "-1 and -6\n",
      "\n",
      "[5, 23, 5, -7]\n"
     ]
    }
   ],
   "source": [
    "lst1 = [1, 10, 5, -1]\n",
    "lst2 = [4, 13, 0, -6]\n",
    "\n",
    "lst = []\n",
    "\n",
    "for l_1, l_2 in zip(lst1, lst2):\n",
    "    lst.append(l_1 + l_2)\n",
    "    print (l_1, 'and', l_2)\n",
    "\n",
    "print()\n",
    "print(lst)\n",
    "    "
   ]
  },
  {
   "cell_type": "code",
   "execution_count": 7,
   "id": "614e793e",
   "metadata": {},
   "outputs": [
    {
     "name": "stdout",
     "output_type": "stream",
     "text": [
      "[15, 0, 3]\n"
     ]
    }
   ],
   "source": [
    "lst1 = [1, 10, 5, -1]\n",
    "lst2 = [4, 13, 0, -6]\n",
    "lst3 = [6, -8, -5, 10]\n",
    "\n",
    "lst = []\n",
    "\n",
    "for en, (l_1, l_2, l_3) in enumerate(zip(lst1, lst2, lst3)):\n",
    "    if en == 0:\n",
    "        continue\n",
    "    lst.append(l_1 + l_2 + l_3)\n",
    "\n",
    "print(lst)"
   ]
  },
  {
   "cell_type": "code",
   "execution_count": null,
   "id": "b09b39ce",
   "metadata": {},
   "outputs": [],
   "source": []
  }
 ],
 "metadata": {
  "kernelspec": {
   "display_name": "Python 3 (ipykernel)",
   "language": "python",
   "name": "python3"
  },
  "language_info": {
   "codemirror_mode": {
    "name": "ipython",
    "version": 3
   },
   "file_extension": ".py",
   "mimetype": "text/x-python",
   "name": "python",
   "nbconvert_exporter": "python",
   "pygments_lexer": "ipython3",
   "version": "3.9.15"
  }
 },
 "nbformat": 4,
 "nbformat_minor": 5
}
