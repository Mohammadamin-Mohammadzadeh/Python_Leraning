{
 "cells": [
  {
   "cell_type": "code",
   "execution_count": 8,
   "id": "1f4a9afb",
   "metadata": {},
   "outputs": [],
   "source": [
    "file_1 = open(\"my_file.txt\")"
   ]
  },
  {
   "cell_type": "code",
   "execution_count": 9,
   "id": "53cb5820",
   "metadata": {},
   "outputs": [
    {
     "data": {
      "text/plain": [
       "<_io.TextIOWrapper name='my_file.txt' mode='r' encoding='cp1252'>"
      ]
     },
     "execution_count": 9,
     "metadata": {},
     "output_type": "execute_result"
    }
   ],
   "source": [
    "file_1"
   ]
  },
  {
   "cell_type": "code",
   "execution_count": 10,
   "id": "fb4ae6c2",
   "metadata": {},
   "outputs": [],
   "source": [
    "# The code above is the same as:\n",
    "# (same directory) in append mode and \n",
    "file_2 = open(\"my_file.txt\", mode='r')"
   ]
  },
  {
   "cell_type": "code",
   "execution_count": 11,
   "id": "e1c55ca4",
   "metadata": {},
   "outputs": [
    {
     "data": {
      "text/plain": [
       "<_io.TextIOWrapper name='my_file.txt' mode='r' encoding='cp1252'>"
      ]
     },
     "execution_count": 11,
     "metadata": {},
     "output_type": "execute_result"
    }
   ],
   "source": [
    "file_2"
   ]
  },
  {
   "cell_type": "markdown",
   "id": "831874bb",
   "metadata": {},
   "source": [
    "### Reading File"
   ]
  },
  {
   "cell_type": "code",
   "execution_count": 19,
   "id": "24432f1e",
   "metadata": {},
   "outputs": [
    {
     "name": "stdout",
     "output_type": "stream",
     "text": [
      "Hello world\n",
      "Intorduction to python\n",
      "This is Amin\n"
     ]
    }
   ],
   "source": [
    "file = open(\"my_file.txt\")\n",
    "print(file.read())"
   ]
  },
  {
   "cell_type": "code",
   "execution_count": 14,
   "id": "e237ddde",
   "metadata": {},
   "outputs": [
    {
     "name": "stdout",
     "output_type": "stream",
     "text": [
      "0 : Hello world\n",
      "\n",
      "1 : Intorduction to python\n",
      "\n",
      "2 : This is Amin\n"
     ]
    }
   ],
   "source": [
    "# iterate over lines\n",
    "for en, line in enumerate(open(\"my_file.txt\")):\n",
    "    print(en,':',line)"
   ]
  },
  {
   "cell_type": "code",
   "execution_count": 23,
   "id": "372e14be",
   "metadata": {},
   "outputs": [
    {
     "name": "stdout",
     "output_type": "stream",
     "text": [
      "['Hello world\\n', 'Intorduction to python\\n', 'This is Amin']\n"
     ]
    },
    {
     "data": {
      "text/plain": [
       "list"
      ]
     },
     "execution_count": 23,
     "metadata": {},
     "output_type": "execute_result"
    }
   ],
   "source": [
    "file = open(\"my_file.txt\")\n",
    "lines = file.readlines()\n",
    "print(lines)\n",
    "type(lines)"
   ]
  },
  {
   "cell_type": "code",
   "execution_count": 30,
   "id": "5dda6efb",
   "metadata": {},
   "outputs": [
    {
     "name": "stdout",
     "output_type": "stream",
     "text": [
      "Hello world\n",
      "Intorduction to python\n",
      "This is Amin\n",
      "Ù…Ø­Ù…Ø¯Ø§Ù…ÛŒÙ† Ù…Ø­Ù…Ø¯Ø²Ø§Ø¯Ù‡\n"
     ]
    }
   ],
   "source": [
    "# Encoding\n",
    "file1 = open('my_file.txt', mode='r')\n",
    "print(file1.read())"
   ]
  },
  {
   "cell_type": "code",
   "execution_count": 41,
   "id": "12f205c7",
   "metadata": {},
   "outputs": [
    {
     "name": "stdout",
     "output_type": "stream",
     "text": [
      "Hello world\n",
      "Intorduction to python\n",
      "This is Amin\n",
      "محمدامین محمدزاده\n"
     ]
    },
    {
     "data": {
      "text/plain": [
       "<function TextIOWrapper.close()>"
      ]
     },
     "execution_count": 41,
     "metadata": {},
     "output_type": "execute_result"
    }
   ],
   "source": [
    "file1 = open('my_file.txt', mode='r', encoding='utf-8')\n",
    "print(file1.read())\n",
    "file1.close"
   ]
  },
  {
   "cell_type": "code",
   "execution_count": 43,
   "id": "0ecb9358",
   "metadata": {},
   "outputs": [
    {
     "data": {
      "text/plain": [
       "''"
      ]
     },
     "execution_count": 43,
     "metadata": {},
     "output_type": "execute_result"
    }
   ],
   "source": [
    "file1.read()"
   ]
  },
  {
   "cell_type": "code",
   "execution_count": 71,
   "id": "d4d2513b",
   "metadata": {},
   "outputs": [],
   "source": [
    "# ***Context Manager***: \n",
    "# It automatically closes the opened file! You may forget to close a file, but using a context manager you won't have any worries!"
   ]
  },
  {
   "cell_type": "code",
   "execution_count": 54,
   "id": "d8bb2a29",
   "metadata": {},
   "outputs": [],
   "source": [
    "myfile = open(\"my_file1.txt\", mode='w')\n",
    "# we cannot remove the file manually"
   ]
  },
  {
   "cell_type": "code",
   "execution_count": 55,
   "id": "9fd6ea3d",
   "metadata": {},
   "outputs": [],
   "source": [
    "myfile.close()\n",
    "# Now we can remove it"
   ]
  },
  {
   "cell_type": "code",
   "execution_count": 56,
   "id": "5de64171",
   "metadata": {},
   "outputs": [
    {
     "name": "stdout",
     "output_type": "stream",
     "text": [
      "Hello World\n",
      "Introduction to python\n",
      "Mohammad Amin Mohammadzadeh\n",
      "محمدامین محمدزاده\n"
     ]
    }
   ],
   "source": [
    "# recommended\n",
    "with open(\"My_file.txt\", encoding=\"utf-8\") as file:\n",
    "    data = file.read()\n",
    "    \n",
    "print(data)"
   ]
  },
  {
   "cell_type": "code",
   "execution_count": 62,
   "id": "8ceadbd2",
   "metadata": {},
   "outputs": [
    {
     "name": "stdout",
     "output_type": "stream",
     "text": [
      "0 : H\n",
      "1 : e\n",
      "2 : l\n",
      "3 : l\n",
      "4 : o\n",
      "5 :  \n",
      "6 : W\n",
      "7 : o\n",
      "8 : r\n",
      "9 : l\n",
      "10 : d\n",
      "11 : \n",
      "\n",
      "12 : I\n",
      "13 : n\n",
      "14 : t\n",
      "15 : r\n",
      "16 : o\n",
      "17 : d\n",
      "18 : u\n",
      "19 : c\n",
      "20 : t\n",
      "21 : i\n",
      "22 : o\n",
      "23 : n\n",
      "24 :  \n",
      "25 : t\n",
      "26 : o\n",
      "27 :  \n",
      "28 : p\n",
      "29 : y\n",
      "30 : t\n",
      "31 : h\n",
      "32 : o\n",
      "33 : n\n",
      "34 : \n",
      "\n",
      "35 : M\n",
      "36 : o\n",
      "37 : h\n",
      "38 : a\n",
      "39 : m\n",
      "40 : m\n",
      "41 : a\n",
      "42 : d\n",
      "43 :  \n",
      "44 : A\n",
      "45 : m\n",
      "46 : i\n",
      "47 : n\n",
      "48 :  \n",
      "49 : M\n",
      "50 : o\n",
      "51 : h\n",
      "52 : a\n",
      "53 : m\n",
      "54 : m\n",
      "55 : a\n",
      "56 : d\n",
      "57 : z\n",
      "58 : a\n",
      "59 : d\n",
      "60 : e\n",
      "61 : h\n",
      "62 : \n",
      "\n",
      "63 : م\n",
      "64 : ح\n",
      "65 : م\n",
      "66 : د\n",
      "67 : ا\n",
      "68 : م\n",
      "69 : ی\n",
      "70 : ن\n",
      "71 :  \n",
      "72 : م\n",
      "73 : ح\n",
      "74 : م\n",
      "75 : د\n",
      "76 : ز\n",
      "77 : ا\n",
      "78 : د\n",
      "79 : ه\n"
     ]
    }
   ],
   "source": [
    "with open(\"My_file.txt\", encoding='utf-8') as file:\n",
    "    for en, word in enumerate(file.read()):\n",
    "        print(en,':', word)"
   ]
  },
  {
   "cell_type": "code",
   "execution_count": 60,
   "id": "86b9afc0",
   "metadata": {},
   "outputs": [
    {
     "name": "stdout",
     "output_type": "stream",
     "text": [
      "0 : Hello World\n",
      "\n",
      "1 : Introduction to python\n",
      "\n",
      "2 : Mohammad Amin Mohammadzadeh\n",
      "\n",
      "3 : محمدامین محمدزاده\n"
     ]
    }
   ],
   "source": [
    "with open(\"My_file.txt\", encoding='utf-8') as file:\n",
    "    for en, line in enumerate(file.readlines()):\n",
    "        print(en,':', line)"
   ]
  },
  {
   "cell_type": "code",
   "execution_count": 63,
   "id": "1d48f93c",
   "metadata": {},
   "outputs": [],
   "source": [
    "with open(\"my_file1\", \"w\") as f:\n",
    "    f.write(\"Hello world!!\\n\")\n",
    "    f.write(\"This is for file handling\")"
   ]
  },
  {
   "cell_type": "code",
   "execution_count": 68,
   "id": "1acbe285",
   "metadata": {},
   "outputs": [
    {
     "name": "stdout",
     "output_type": "stream",
     "text": [
      "['Hello world!!\\n', 'This is for file handling']\n"
     ]
    }
   ],
   "source": [
    "with open(\"my_file1\", 'r') as f:\n",
    "    print(f.readlines())"
   ]
  },
  {
   "cell_type": "code",
   "execution_count": 70,
   "id": "a8d1cecb",
   "metadata": {},
   "outputs": [
    {
     "ename": "ValueError",
     "evalue": "I/O operation on closed file.",
     "output_type": "error",
     "traceback": [
      "\u001b[1;31m---------------------------------------------------------------------------\u001b[0m",
      "\u001b[1;31mValueError\u001b[0m                                Traceback (most recent call last)",
      "Cell \u001b[1;32mIn [70], line 3\u001b[0m\n\u001b[0;32m      1\u001b[0m \u001b[38;5;66;03m# I/O operation on closed file.\u001b[39;00m\n\u001b[0;32m      2\u001b[0m \u001b[38;5;66;03m# Automatically closed!\u001b[39;00m\n\u001b[1;32m----> 3\u001b[0m \u001b[43mf\u001b[49m\u001b[38;5;241;43m.\u001b[39;49m\u001b[43mread\u001b[49m\u001b[43m(\u001b[49m\u001b[43m)\u001b[49m\n",
      "\u001b[1;31mValueError\u001b[0m: I/O operation on closed file."
     ]
    }
   ],
   "source": [
    "# I/O operation on closed file.\n",
    "# Automatically closed!\n",
    "f.read()"
   ]
  },
  {
   "cell_type": "code",
   "execution_count": 72,
   "id": "83c58f80",
   "metadata": {},
   "outputs": [],
   "source": [
    "# Seek"
   ]
  },
  {
   "cell_type": "code",
   "execution_count": 73,
   "id": "a96bdf95",
   "metadata": {},
   "outputs": [
    {
     "data": {
      "text/plain": [
       "['Hello world!!\\n', 'This is for file handling']"
      ]
     },
     "execution_count": 73,
     "metadata": {},
     "output_type": "execute_result"
    }
   ],
   "source": [
    "file = open(\"my_file1\", 'r')\n",
    "line = file.readlines()\n",
    "line"
   ]
  },
  {
   "cell_type": "code",
   "execution_count": 75,
   "id": "177ffec5",
   "metadata": {},
   "outputs": [
    {
     "name": "stdout",
     "output_type": "stream",
     "text": [
      "[]\n"
     ]
    }
   ],
   "source": [
    "# After reading the file once and moving the cursor to the end of the line, so for second acces to file show noun:\n",
    "lines = file.readlines()\n",
    "print(lines)"
   ]
  },
  {
   "cell_type": "code",
   "execution_count": 76,
   "id": "b5134693",
   "metadata": {},
   "outputs": [
    {
     "data": {
      "text/plain": [
       "['Hello world!!\\n', 'This is for file handling']"
      ]
     },
     "execution_count": 76,
     "metadata": {},
     "output_type": "execute_result"
    }
   ],
   "source": [
    "# for solve this problem use a seek\n",
    "file.seek(0)\n",
    "lines = file.readlines()\n",
    "lines"
   ]
  },
  {
   "cell_type": "code",
   "execution_count": 77,
   "id": "536e1894",
   "metadata": {},
   "outputs": [],
   "source": [
    "file.close()"
   ]
  },
  {
   "cell_type": "code",
   "execution_count": 79,
   "id": "aa0d6973",
   "metadata": {},
   "outputs": [
    {
     "data": {
      "text/plain": [
       "['Hello world!!\\n', 'This is for file handling']"
      ]
     },
     "execution_count": 79,
     "metadata": {},
     "output_type": "execute_result"
    }
   ],
   "source": [
    "file = open(\"my_file1\", 'r')\n",
    "line = file.readlines()\n",
    "line"
   ]
  },
  {
   "cell_type": "code",
   "execution_count": 81,
   "id": "3825a27c",
   "metadata": {},
   "outputs": [
    {
     "data": {
      "text/plain": [
       "['rld!!\\n', 'This is for file handling']"
      ]
     },
     "execution_count": 81,
     "metadata": {},
     "output_type": "execute_result"
    }
   ],
   "source": [
    "file.seek(8)\n",
    "lines = file.readlines()\n",
    "lines"
   ]
  },
  {
   "cell_type": "code",
   "execution_count": null,
   "id": "fc718a72",
   "metadata": {},
   "outputs": [],
   "source": []
  }
 ],
 "metadata": {
  "kernelspec": {
   "display_name": "Python 3 (ipykernel)",
   "language": "python",
   "name": "python3"
  },
  "language_info": {
   "codemirror_mode": {
    "name": "ipython",
    "version": 3
   },
   "file_extension": ".py",
   "mimetype": "text/x-python",
   "name": "python",
   "nbconvert_exporter": "python",
   "pygments_lexer": "ipython3",
   "version": "3.9.15"
  }
 },
 "nbformat": 4,
 "nbformat_minor": 5
}
