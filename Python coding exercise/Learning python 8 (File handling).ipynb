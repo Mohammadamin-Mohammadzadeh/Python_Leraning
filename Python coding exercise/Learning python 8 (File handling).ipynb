{
 "cells": [
  {
   "cell_type": "code",
   "execution_count": 1,
   "id": "1f4a9afb",
   "metadata": {},
   "outputs": [],
   "source": [
    "file_1 = open(\"my_file.txt\")"
   ]
  },
  {
   "cell_type": "code",
   "execution_count": 2,
   "id": "53cb5820",
   "metadata": {},
   "outputs": [
    {
     "data": {
      "text/plain": [
       "<_io.TextIOWrapper name='my_file.txt' mode='r' encoding='cp1252'>"
      ]
     },
     "execution_count": 2,
     "metadata": {},
     "output_type": "execute_result"
    }
   ],
   "source": [
    "file_1"
   ]
  },
  {
   "cell_type": "code",
   "execution_count": 3,
   "id": "fb4ae6c2",
   "metadata": {},
   "outputs": [],
   "source": [
    "# The code above is the same as:\n",
    "# (same directory) in append mode and \n",
    "file_2 = open(\"my_file.txt\", mode='r')"
   ]
  },
  {
   "cell_type": "code",
   "execution_count": 4,
   "id": "e1c55ca4",
   "metadata": {},
   "outputs": [
    {
     "data": {
      "text/plain": [
       "<_io.TextIOWrapper name='my_file.txt' mode='r' encoding='cp1252'>"
      ]
     },
     "execution_count": 4,
     "metadata": {},
     "output_type": "execute_result"
    }
   ],
   "source": [
    "file_2"
   ]
  },
  {
   "cell_type": "markdown",
   "id": "831874bb",
   "metadata": {},
   "source": [
    "### Reading File"
   ]
  },
  {
   "cell_type": "code",
   "execution_count": 5,
   "id": "24432f1e",
   "metadata": {},
   "outputs": [
    {
     "name": "stdout",
     "output_type": "stream",
     "text": [
      "Hello World\n",
      "Introduction to python\n",
      "Mohammad Amin Mohammadzadeh\n",
      "Ù…Ø­Ù…Ø¯Ø§Ù…ÛŒÙ† Ù…Ø­Ù…Ø¯Ø²Ø§Ø¯Ù‡\n"
     ]
    }
   ],
   "source": [
    "file = open(\"my_file.txt\")\n",
    "print(file.read())"
   ]
  },
  {
   "cell_type": "code",
   "execution_count": 6,
   "id": "e237ddde",
   "metadata": {},
   "outputs": [
    {
     "name": "stdout",
     "output_type": "stream",
     "text": [
      "0 : Hello World\n",
      "\n",
      "1 : Introduction to python\n",
      "\n",
      "2 : Mohammad Amin Mohammadzadeh\n",
      "\n",
      "3 : Ù…Ø­Ù…Ø¯Ø§Ù…ÛŒÙ† Ù…Ø­Ù…Ø¯Ø²Ø§Ø¯Ù‡\n"
     ]
    }
   ],
   "source": [
    "# iterate over lines\n",
    "for en, line in enumerate(open(\"my_file.txt\")):\n",
    "    print(en,':',line)"
   ]
  },
  {
   "cell_type": "code",
   "execution_count": 7,
   "id": "372e14be",
   "metadata": {},
   "outputs": [
    {
     "name": "stdout",
     "output_type": "stream",
     "text": [
      "['Hello World\\n', 'Introduction to python\\n', 'Mohammad Amin Mohammadzadeh\\n', 'Ù…Ø\\xadÙ…Ø¯Ø§Ù…ÛŒÙ† Ù…Ø\\xadÙ…Ø¯Ø²Ø§Ø¯Ù‡']\n"
     ]
    },
    {
     "data": {
      "text/plain": [
       "list"
      ]
     },
     "execution_count": 7,
     "metadata": {},
     "output_type": "execute_result"
    }
   ],
   "source": [
    "file = open(\"my_file.txt\")\n",
    "lines = file.readlines()\n",
    "print(lines)\n",
    "type(lines)"
   ]
  },
  {
   "cell_type": "code",
   "execution_count": 8,
   "id": "5dda6efb",
   "metadata": {},
   "outputs": [
    {
     "name": "stdout",
     "output_type": "stream",
     "text": [
      "Hello World\n",
      "Introduction to python\n",
      "Mohammad Amin Mohammadzadeh\n",
      "Ù…Ø­Ù…Ø¯Ø§Ù…ÛŒÙ† Ù…Ø­Ù…Ø¯Ø²Ø§Ø¯Ù‡\n"
     ]
    }
   ],
   "source": [
    "# Encoding\n",
    "file1 = open('my_file.txt', mode='r')\n",
    "print(file1.read())"
   ]
  },
  {
   "cell_type": "code",
   "execution_count": 9,
   "id": "12f205c7",
   "metadata": {},
   "outputs": [
    {
     "name": "stdout",
     "output_type": "stream",
     "text": [
      "Hello World\n",
      "Introduction to python\n",
      "Mohammad Amin Mohammadzadeh\n",
      "محمدامین محمدزاده\n"
     ]
    },
    {
     "data": {
      "text/plain": [
       "<function TextIOWrapper.close()>"
      ]
     },
     "execution_count": 9,
     "metadata": {},
     "output_type": "execute_result"
    }
   ],
   "source": [
    "file1 = open('my_file.txt', mode='r', encoding='utf-8')\n",
    "print(file1.read())\n",
    "file1.close"
   ]
  },
  {
   "cell_type": "code",
   "execution_count": 10,
   "id": "0ecb9358",
   "metadata": {},
   "outputs": [
    {
     "data": {
      "text/plain": [
       "''"
      ]
     },
     "execution_count": 10,
     "metadata": {},
     "output_type": "execute_result"
    }
   ],
   "source": [
    "file1.read()"
   ]
  },
  {
   "cell_type": "code",
   "execution_count": 11,
   "id": "d4d2513b",
   "metadata": {},
   "outputs": [],
   "source": [
    "# ***Context Manager***: \n",
    "# It automatically closes the opened file! You may forget to close a file, but using a context manager you won't have any worries!"
   ]
  },
  {
   "cell_type": "code",
   "execution_count": 12,
   "id": "d8bb2a29",
   "metadata": {},
   "outputs": [],
   "source": [
    "myfile = open(\"my_file1.txt\", mode='w')\n",
    "# we cannot remove the file manually"
   ]
  },
  {
   "cell_type": "code",
   "execution_count": 13,
   "id": "9fd6ea3d",
   "metadata": {},
   "outputs": [],
   "source": [
    "myfile.close()\n",
    "# Now we can remove it"
   ]
  },
  {
   "cell_type": "code",
   "execution_count": 14,
   "id": "5de64171",
   "metadata": {},
   "outputs": [
    {
     "name": "stdout",
     "output_type": "stream",
     "text": [
      "Hello World\n",
      "Introduction to python\n",
      "Mohammad Amin Mohammadzadeh\n",
      "محمدامین محمدزاده\n"
     ]
    }
   ],
   "source": [
    "# recommended\n",
    "with open(\"My_file.txt\", encoding=\"utf-8\") as file:\n",
    "    data = file.read()\n",
    "    \n",
    "print(data)"
   ]
  },
  {
   "cell_type": "code",
   "execution_count": 62,
   "id": "8ceadbd2",
   "metadata": {},
   "outputs": [
    {
     "name": "stdout",
     "output_type": "stream",
     "text": [
      "0 : H\n",
      "1 : e\n",
      "2 : l\n",
      "3 : l\n",
      "4 : o\n",
      "5 :  \n",
      "6 : W\n",
      "7 : o\n",
      "8 : r\n",
      "9 : l\n",
      "10 : d\n",
      "11 : \n",
      "\n",
      "12 : I\n",
      "13 : n\n",
      "14 : t\n",
      "15 : r\n",
      "16 : o\n",
      "17 : d\n",
      "18 : u\n",
      "19 : c\n",
      "20 : t\n",
      "21 : i\n",
      "22 : o\n",
      "23 : n\n",
      "24 :  \n",
      "25 : t\n",
      "26 : o\n",
      "27 :  \n",
      "28 : p\n",
      "29 : y\n",
      "30 : t\n",
      "31 : h\n",
      "32 : o\n",
      "33 : n\n",
      "34 : \n",
      "\n",
      "35 : M\n",
      "36 : o\n",
      "37 : h\n",
      "38 : a\n",
      "39 : m\n",
      "40 : m\n",
      "41 : a\n",
      "42 : d\n",
      "43 :  \n",
      "44 : A\n",
      "45 : m\n",
      "46 : i\n",
      "47 : n\n",
      "48 :  \n",
      "49 : M\n",
      "50 : o\n",
      "51 : h\n",
      "52 : a\n",
      "53 : m\n",
      "54 : m\n",
      "55 : a\n",
      "56 : d\n",
      "57 : z\n",
      "58 : a\n",
      "59 : d\n",
      "60 : e\n",
      "61 : h\n",
      "62 : \n",
      "\n",
      "63 : م\n",
      "64 : ح\n",
      "65 : م\n",
      "66 : د\n",
      "67 : ا\n",
      "68 : م\n",
      "69 : ی\n",
      "70 : ن\n",
      "71 :  \n",
      "72 : م\n",
      "73 : ح\n",
      "74 : م\n",
      "75 : د\n",
      "76 : ز\n",
      "77 : ا\n",
      "78 : د\n",
      "79 : ه\n"
     ]
    }
   ],
   "source": [
    "with open(\"My_file.txt\", encoding='utf-8') as file:\n",
    "    for en, word in enumerate(file.read()):\n",
    "        print(en,':', word)"
   ]
  },
  {
   "cell_type": "code",
   "execution_count": 15,
   "id": "86b9afc0",
   "metadata": {},
   "outputs": [
    {
     "name": "stdout",
     "output_type": "stream",
     "text": [
      "0 : Hello World\n",
      "\n",
      "1 : Introduction to python\n",
      "\n",
      "2 : Mohammad Amin Mohammadzadeh\n",
      "\n",
      "3 : محمدامین محمدزاده\n"
     ]
    }
   ],
   "source": [
    "with open(\"My_file.txt\", encoding='utf-8') as file:\n",
    "    for en, line in enumerate(file.readlines()):\n",
    "        print(en,':', line)"
   ]
  },
  {
   "cell_type": "code",
   "execution_count": 16,
   "id": "1d48f93c",
   "metadata": {},
   "outputs": [],
   "source": [
    "with open(\"my_file1\", \"w\") as f:\n",
    "    f.write(\"Hello world!!\\n\")\n",
    "    f.write(\"This is for file handling\")"
   ]
  },
  {
   "cell_type": "code",
   "execution_count": 17,
   "id": "1acbe285",
   "metadata": {},
   "outputs": [
    {
     "name": "stdout",
     "output_type": "stream",
     "text": [
      "['Hello world!!\\n', 'This is for file handling']\n"
     ]
    }
   ],
   "source": [
    "with open(\"my_file1\", 'r') as f:\n",
    "    print(f.readlines())"
   ]
  },
  {
   "cell_type": "code",
   "execution_count": 70,
   "id": "a8d1cecb",
   "metadata": {},
   "outputs": [
    {
     "ename": "ValueError",
     "evalue": "I/O operation on closed file.",
     "output_type": "error",
     "traceback": [
      "\u001b[1;31m---------------------------------------------------------------------------\u001b[0m",
      "\u001b[1;31mValueError\u001b[0m                                Traceback (most recent call last)",
      "Cell \u001b[1;32mIn [70], line 3\u001b[0m\n\u001b[0;32m      1\u001b[0m \u001b[38;5;66;03m# I/O operation on closed file.\u001b[39;00m\n\u001b[0;32m      2\u001b[0m \u001b[38;5;66;03m# Automatically closed!\u001b[39;00m\n\u001b[1;32m----> 3\u001b[0m \u001b[43mf\u001b[49m\u001b[38;5;241;43m.\u001b[39;49m\u001b[43mread\u001b[49m\u001b[43m(\u001b[49m\u001b[43m)\u001b[49m\n",
      "\u001b[1;31mValueError\u001b[0m: I/O operation on closed file."
     ]
    }
   ],
   "source": [
    "# I/O operation on closed file.\n",
    "# Automatically closed!\n",
    "f.read()"
   ]
  },
  {
   "cell_type": "code",
   "execution_count": 72,
   "id": "83c58f80",
   "metadata": {},
   "outputs": [],
   "source": [
    "# Seek"
   ]
  },
  {
   "cell_type": "code",
   "execution_count": 73,
   "id": "a96bdf95",
   "metadata": {},
   "outputs": [
    {
     "data": {
      "text/plain": [
       "['Hello world!!\\n', 'This is for file handling']"
      ]
     },
     "execution_count": 73,
     "metadata": {},
     "output_type": "execute_result"
    }
   ],
   "source": [
    "file = open(\"my_file1\", 'r')\n",
    "line = file.readlines()\n",
    "line"
   ]
  },
  {
   "cell_type": "code",
   "execution_count": 75,
   "id": "177ffec5",
   "metadata": {},
   "outputs": [
    {
     "name": "stdout",
     "output_type": "stream",
     "text": [
      "[]\n"
     ]
    }
   ],
   "source": [
    "# After reading the file once and moving the cursor to the end of the line, so for second acces to file show noun:\n",
    "lines = file.readlines()\n",
    "print(lines)"
   ]
  },
  {
   "cell_type": "code",
   "execution_count": 76,
   "id": "b5134693",
   "metadata": {},
   "outputs": [
    {
     "data": {
      "text/plain": [
       "['Hello world!!\\n', 'This is for file handling']"
      ]
     },
     "execution_count": 76,
     "metadata": {},
     "output_type": "execute_result"
    }
   ],
   "source": [
    "# for solve this problem use a seek\n",
    "file.seek(0)\n",
    "lines = file.readlines()\n",
    "lines"
   ]
  },
  {
   "cell_type": "code",
   "execution_count": 77,
   "id": "536e1894",
   "metadata": {},
   "outputs": [],
   "source": [
    "file.close()"
   ]
  },
  {
   "cell_type": "code",
   "execution_count": 79,
   "id": "aa0d6973",
   "metadata": {},
   "outputs": [
    {
     "data": {
      "text/plain": [
       "['Hello world!!\\n', 'This is for file handling']"
      ]
     },
     "execution_count": 79,
     "metadata": {},
     "output_type": "execute_result"
    }
   ],
   "source": [
    "file = open(\"my_file1\", 'r')\n",
    "line = file.readlines()\n",
    "line"
   ]
  },
  {
   "cell_type": "code",
   "execution_count": 81,
   "id": "3825a27c",
   "metadata": {},
   "outputs": [
    {
     "data": {
      "text/plain": [
       "['rld!!\\n', 'This is for file handling']"
      ]
     },
     "execution_count": 81,
     "metadata": {},
     "output_type": "execute_result"
    }
   ],
   "source": [
    "file.seek(8)\n",
    "lines = file.readlines()\n",
    "lines"
   ]
  },
  {
   "cell_type": "code",
   "execution_count": 1,
   "id": "fc718a72",
   "metadata": {},
   "outputs": [
    {
     "data": {
      "text/plain": [
       "'C:\\\\Users\\\\M Amin\\\\projects\\\\Python_learning\\\\Python coding exercise'"
      ]
     },
     "execution_count": 1,
     "metadata": {},
     "output_type": "execute_result"
    }
   ],
   "source": [
    "import os\n",
    "os.getcwd()"
   ]
  },
  {
   "cell_type": "code",
   "execution_count": 2,
   "id": "9fc6fa69",
   "metadata": {},
   "outputs": [
    {
     "name": "stdout",
     "output_type": "stream",
     "text": [
      "['DirEntry', 'F_OK', 'GenericAlias', 'Mapping', 'MutableMapping', 'O_APPEND', 'O_BINARY', 'O_CREAT', 'O_EXCL', 'O_NOINHERIT', 'O_RANDOM', 'O_RDONLY', 'O_RDWR', 'O_SEQUENTIAL', 'O_SHORT_LIVED', 'O_TEMPORARY', 'O_TEXT', 'O_TRUNC', 'O_WRONLY', 'P_DETACH', 'P_NOWAIT', 'P_NOWAITO', 'P_OVERLAY', 'P_WAIT', 'PathLike', 'R_OK', 'SEEK_CUR', 'SEEK_END', 'SEEK_SET', 'TMP_MAX', 'W_OK', 'X_OK', '_AddedDllDirectory', '_Environ', '__all__', '__builtins__', '__cached__', '__doc__', '__file__', '__loader__', '__name__', '__package__', '__spec__', '_check_methods', '_execvpe', '_exists', '_exit', '_fspath', '_get_exports_list', '_walk', '_wrap_close', 'abc', 'abort', 'access', 'add_dll_directory', 'altsep', 'chdir', 'chmod', 'close', 'closerange', 'cpu_count', 'curdir', 'defpath', 'device_encoding', 'devnull', 'dup', 'dup2', 'environ', 'error', 'execl', 'execle', 'execlp', 'execlpe', 'execv', 'execve', 'execvp', 'execvpe', 'extsep', 'fdopen', 'fsdecode', 'fsencode', 'fspath', 'fstat', 'fsync', 'ftruncate', 'get_exec_path', 'get_handle_inheritable', 'get_inheritable', 'get_terminal_size', 'getcwd', 'getcwdb', 'getenv', 'getlogin', 'getpid', 'getppid', 'isatty', 'kill', 'linesep', 'link', 'listdir', 'lseek', 'lstat', 'makedirs', 'mkdir', 'name', 'open', 'pardir', 'path', 'pathsep', 'pipe', 'popen', 'putenv', 'read', 'readlink', 'remove', 'removedirs', 'rename', 'renames', 'replace', 'rmdir', 'scandir', 'sep', 'set_handle_inheritable', 'set_inheritable', 'spawnl', 'spawnle', 'spawnv', 'spawnve', 'st', 'startfile', 'stat', 'stat_result', 'statvfs_result', 'strerror', 'supports_bytes_environ', 'supports_dir_fd', 'supports_effective_ids', 'supports_fd', 'supports_follow_symlinks', 'symlink', 'sys', 'system', 'terminal_size', 'times', 'times_result', 'truncate', 'umask', 'uname_result', 'unlink', 'unsetenv', 'urandom', 'utime', 'waitpid', 'waitstatus_to_exitcode', 'walk', 'write']\n"
     ]
    }
   ],
   "source": [
    "print(dir(os))"
   ]
  },
  {
   "cell_type": "code",
   "execution_count": 6,
   "id": "27d009f8",
   "metadata": {},
   "outputs": [
    {
     "data": {
      "text/plain": [
       "['.ipynb_checkpoints',\n",
       " 'Learning python 1.ipynb',\n",
       " 'Learning python 2.ipynb',\n",
       " 'Learning python 3.ipynb',\n",
       " 'Learning python 4 ( Function part 1).ipynb',\n",
       " 'Learning python 5 ( Function part 2).ipynb',\n",
       " 'Learning python 6 (Comprehension).ipynb',\n",
       " 'Learning python 7 (Docstring).ipynb',\n",
       " 'Learning python 8 (File handling).ipynb',\n",
       " 'myfileee.txt',\n",
       " 'My_file.txt',\n",
       " 'my_file1',\n",
       " 'my_file1.txt',\n",
       " 'Untitled.ipynb']"
      ]
     },
     "execution_count": 6,
     "metadata": {},
     "output_type": "execute_result"
    }
   ],
   "source": [
    "os.listdir(\".\")"
   ]
  },
  {
   "cell_type": "code",
   "execution_count": 10,
   "id": "48464cff",
   "metadata": {},
   "outputs": [
    {
     "data": {
      "text/plain": [
       "['$Recycle.Bin',\n",
       " 'CompressedPDF',\n",
       " 'Documents and Settings',\n",
       " 'DumpStack.log',\n",
       " 'DumpStack.log.tmp',\n",
       " 'hiberfil.sys',\n",
       " 'Intel',\n",
       " 'pagefile.sys',\n",
       " 'PerfLogs',\n",
       " 'Program Files',\n",
       " 'Program Files (x86)',\n",
       " 'ProgramData',\n",
       " 'Python311',\n",
       " 'Recovery',\n",
       " 'swapfile.sys',\n",
       " 'System Volume Information',\n",
       " 'Users',\n",
       " 'Windows']"
      ]
     },
     "execution_count": 10,
     "metadata": {},
     "output_type": "execute_result"
    }
   ],
   "source": [
    "os.listdir('c:\\\\')"
   ]
  },
  {
   "cell_type": "code",
   "execution_count": 12,
   "id": "987ab548",
   "metadata": {},
   "outputs": [
    {
     "name": "stdout",
     "output_type": "stream",
     "text": [
      "$Recycle.Bin\n",
      "CompressedPDF\n",
      "Documents and Settings\n",
      "DumpStack.log\n",
      "DumpStack.log.tmp\n",
      "hiberfil.sys\n",
      "Intel\n",
      "pagefile.sys\n",
      "PerfLogs\n",
      "Program Files\n",
      "Program Files (x86)\n",
      "ProgramData\n",
      "Python311\n",
      "Recovery\n",
      "swapfile.sys\n",
      "System Volume Information\n",
      "Users\n",
      "Windows\n",
      "<class 'str'>\n"
     ]
    }
   ],
   "source": [
    "for path in os.listdir(\"c:\\\\\"):\n",
    "    print(path)\n",
    "\n",
    "print(type(path))"
   ]
  },
  {
   "cell_type": "code",
   "execution_count": 14,
   "id": "b2e60c13",
   "metadata": {},
   "outputs": [
    {
     "name": "stdout",
     "output_type": "stream",
     "text": [
      "[Info] root: C:\\Users\\M Amin\\projects\\Python_learning \n",
      "directories:\n",
      ".git\n",
      ".ipynb_checkpoints\n",
      "Python coding exercise\n",
      "Files:\n",
      "Readme.md\n",
      "Survey.py\n",
      "Task 1.ipynb\n",
      "Task 2.ipynb\n",
      "Task.ipynb\n",
      "Untitled.ipynb\n",
      "[Info] root: C:\\Users\\M Amin\\projects\\Python_learning\\.git \n",
      "directories:\n",
      "hooks\n",
      "info\n",
      "logs\n",
      "objects\n",
      "refs\n",
      "Files:\n",
      "COMMIT_EDITMSG\n",
      "config\n",
      "description\n",
      "FETCH_HEAD\n",
      "HEAD\n",
      "index\n",
      "ORIG_HEAD\n",
      "[Info] root: C:\\Users\\M Amin\\projects\\Python_learning\\.git\\hooks \n",
      "directories:\n",
      "Files:\n",
      "applypatch-msg.sample\n",
      "commit-msg.sample\n",
      "fsmonitor-watchman.sample\n",
      "post-update.sample\n",
      "pre-applypatch.sample\n",
      "pre-commit.sample\n",
      "pre-merge-commit.sample\n",
      "pre-push.sample\n",
      "pre-rebase.sample\n",
      "pre-receive.sample\n",
      "prepare-commit-msg.sample\n",
      "push-to-checkout.sample\n",
      "update.sample\n",
      "[Info] root: C:\\Users\\M Amin\\projects\\Python_learning\\.git\\info \n",
      "directories:\n",
      "Files:\n",
      "exclude\n",
      "[Info] root: C:\\Users\\M Amin\\projects\\Python_learning\\.git\\logs \n",
      "directories:\n",
      "refs\n",
      "Files:\n",
      "HEAD\n",
      "[Info] root: C:\\Users\\M Amin\\projects\\Python_learning\\.git\\logs\\refs \n",
      "directories:\n",
      "heads\n",
      "remotes\n",
      "Files:\n",
      "[Info] root: C:\\Users\\M Amin\\projects\\Python_learning\\.git\\logs\\refs\\heads \n",
      "directories:\n",
      "Files:\n",
      "main\n",
      "[Info] root: C:\\Users\\M Amin\\projects\\Python_learning\\.git\\logs\\refs\\remotes \n",
      "directories:\n",
      "origin\n",
      "Files:\n",
      "[Info] root: C:\\Users\\M Amin\\projects\\Python_learning\\.git\\logs\\refs\\remotes\\origin \n",
      "directories:\n",
      "Files:\n",
      "main\n",
      "[Info] root: C:\\Users\\M Amin\\projects\\Python_learning\\.git\\objects \n",
      "directories:\n",
      "00\n",
      "02\n",
      "05\n",
      "06\n",
      "08\n",
      "0a\n",
      "0b\n",
      "0c\n",
      "0d\n",
      "0f\n",
      "14\n",
      "15\n",
      "17\n",
      "18\n",
      "1a\n",
      "1b\n",
      "1e\n",
      "23\n",
      "29\n",
      "2a\n",
      "30\n",
      "31\n",
      "3b\n",
      "3c\n",
      "3f\n",
      "41\n",
      "43\n",
      "44\n",
      "49\n",
      "51\n",
      "55\n",
      "58\n",
      "5d\n",
      "62\n",
      "64\n",
      "65\n",
      "67\n",
      "6a\n",
      "6c\n",
      "77\n",
      "78\n",
      "79\n",
      "7d\n",
      "7e\n",
      "7f\n",
      "82\n",
      "83\n",
      "84\n",
      "85\n",
      "87\n",
      "89\n",
      "8b\n",
      "8d\n",
      "93\n",
      "94\n",
      "97\n",
      "98\n",
      "99\n",
      "9b\n",
      "9d\n",
      "a1\n",
      "a2\n",
      "a3\n",
      "a9\n",
      "ae\n",
      "af\n",
      "b0\n",
      "b4\n",
      "b6\n",
      "b7\n",
      "b8\n",
      "b9\n",
      "bd\n",
      "be\n",
      "c2\n",
      "c7\n",
      "c8\n",
      "ca\n",
      "cd\n",
      "d1\n",
      "d2\n",
      "d3\n",
      "d6\n",
      "da\n",
      "db\n",
      "df\n",
      "e0\n",
      "e6\n",
      "e7\n",
      "ee\n",
      "ef\n",
      "f0\n",
      "f3\n",
      "f7\n",
      "fb\n",
      "fc\n",
      "ff\n",
      "info\n",
      "pack\n",
      "Files:\n",
      "[Info] root: C:\\Users\\M Amin\\projects\\Python_learning\\.git\\objects\\00 \n",
      "directories:\n",
      "Files:\n",
      "36d950a3409a0b0c99247db8347b1d716fce24\n",
      "[Info] root: C:\\Users\\M Amin\\projects\\Python_learning\\.git\\objects\\02 \n",
      "directories:\n",
      "Files:\n",
      "65d8e1374deb93846410491d7d0170e90e5cec\n",
      "98dfc817e53feb8f1154fd241b4f936d81f48b\n",
      "[Info] root: C:\\Users\\M Amin\\projects\\Python_learning\\.git\\objects\\05 \n",
      "directories:\n",
      "Files:\n",
      "23384f2983ccb530c40d7fef07016c17d3e6be\n",
      "bcbc11a0372788fff9de5768770faf223c4c1b\n",
      "[Info] root: C:\\Users\\M Amin\\projects\\Python_learning\\.git\\objects\\06 \n",
      "directories:\n",
      "Files:\n",
      "2af5b2d23189dd71d479c2cb2280e36794d255\n",
      "953a6980f39a2bfb678606f8d78cc9679172ea\n",
      "[Info] root: C:\\Users\\M Amin\\projects\\Python_learning\\.git\\objects\\08 \n",
      "directories:\n",
      "Files:\n",
      "1b5e27321ff629b51e04cf5e3829774762896d\n",
      "28fb0a8ea446735b612ae52bc3adf2c6c3a7c1\n",
      "[Info] root: C:\\Users\\M Amin\\projects\\Python_learning\\.git\\objects\\0a \n",
      "directories:\n",
      "Files:\n",
      "35ebce3b78a02772400d4b4a42c000a513c7b0\n",
      "[Info] root: C:\\Users\\M Amin\\projects\\Python_learning\\.git\\objects\\0b \n",
      "directories:\n",
      "Files:\n",
      "2a8481e9611e5d3152a3812a76c7508aecfc52\n",
      "[Info] root: C:\\Users\\M Amin\\projects\\Python_learning\\.git\\objects\\0c \n",
      "directories:\n",
      "Files:\n",
      "633d0bdb3381defd9618a10d7ebedda1fcbebb\n",
      "[Info] root: C:\\Users\\M Amin\\projects\\Python_learning\\.git\\objects\\0d \n",
      "directories:\n",
      "Files:\n",
      "93e50f9994b240a86555e5406f0c93768d5f9f\n",
      "[Info] root: C:\\Users\\M Amin\\projects\\Python_learning\\.git\\objects\\0f \n",
      "directories:\n",
      "Files:\n",
      "76895203790c7c53f8791d3c9ae1e62c122ed3\n",
      "c66ff32730864308b0cbff22dce70285f61b58\n",
      "[Info] root: C:\\Users\\M Amin\\projects\\Python_learning\\.git\\objects\\14 \n",
      "directories:\n",
      "Files:\n",
      "35fa4ed3b453bef171286b42c298392f966168\n",
      "4326c1ef3d9e622605721fe768def1ceb01bd7\n",
      "[Info] root: C:\\Users\\M Amin\\projects\\Python_learning\\.git\\objects\\15 \n",
      "directories:\n",
      "Files:\n",
      "4eb39033d1db8b78660a525d9fe517e50f039c\n",
      "[Info] root: C:\\Users\\M Amin\\projects\\Python_learning\\.git\\objects\\17 \n",
      "directories:\n",
      "Files:\n",
      "f7f61f11ad42fee77730250b0179e99e258e05\n",
      "[Info] root: C:\\Users\\M Amin\\projects\\Python_learning\\.git\\objects\\18 \n",
      "directories:\n",
      "Files:\n",
      "05df501be49a5f76cc848a211d005b01e6ed78\n",
      "[Info] root: C:\\Users\\M Amin\\projects\\Python_learning\\.git\\objects\\1a \n",
      "directories:\n",
      "Files:\n",
      "e3a283298269b12688f7467f958b88496d2df9\n",
      "[Info] root: C:\\Users\\M Amin\\projects\\Python_learning\\.git\\objects\\1b \n",
      "directories:\n",
      "Files:\n",
      "ae021f09892ff9f285e455bd4c9c8488eb0de8\n",
      "[Info] root: C:\\Users\\M Amin\\projects\\Python_learning\\.git\\objects\\1e \n",
      "directories:\n",
      "Files:\n",
      "d5da2196448f6666ed903361b0f619d9161f5d\n",
      "[Info] root: C:\\Users\\M Amin\\projects\\Python_learning\\.git\\objects\\23 \n",
      "directories:\n",
      "Files:\n",
      "6d74ed218a94512059fa4b0cc7ef67e5dcf77d\n",
      "[Info] root: C:\\Users\\M Amin\\projects\\Python_learning\\.git\\objects\\29 \n",
      "directories:\n",
      "Files:\n",
      "46a23dbdf00b6de7b5a973e484a431c940e91b\n",
      "[Info] root: C:\\Users\\M Amin\\projects\\Python_learning\\.git\\objects\\2a \n",
      "directories:\n",
      "Files:\n",
      "b50fc656856b043648e72b0b80d2f117bfcf03\n",
      "[Info] root: C:\\Users\\M Amin\\projects\\Python_learning\\.git\\objects\\30 \n",
      "directories:\n",
      "Files:\n",
      "cd90878e1993c4e6969078f8626e561419bec1\n",
      "[Info] root: C:\\Users\\M Amin\\projects\\Python_learning\\.git\\objects\\31 \n",
      "directories:\n",
      "Files:\n",
      "009f82391cc8990c1f14c08ce5bbaeade52526\n",
      "[Info] root: C:\\Users\\M Amin\\projects\\Python_learning\\.git\\objects\\3b \n",
      "directories:\n",
      "Files:\n",
      "c40b7712c818287966c3a1032e40c87dbd3231\n",
      "[Info] root: C:\\Users\\M Amin\\projects\\Python_learning\\.git\\objects\\3c \n",
      "directories:\n",
      "Files:\n",
      "3125e497af4d6190a171a174f27fa9ddc2b14a\n",
      "[Info] root: C:\\Users\\M Amin\\projects\\Python_learning\\.git\\objects\\3f \n",
      "directories:\n",
      "Files:\n",
      "237c7ba58f3f2db4aa72c04deca4572c1a1048\n",
      "7b45a530a820a53d528ed9ddab07219f7b8748\n",
      "[Info] root: C:\\Users\\M Amin\\projects\\Python_learning\\.git\\objects\\41 \n",
      "directories:\n",
      "Files:\n",
      "97d858403557405f1ca49b96fcbfb16c49826b\n",
      "[Info] root: C:\\Users\\M Amin\\projects\\Python_learning\\.git\\objects\\43 \n",
      "directories:\n",
      "Files:\n",
      "d5419edb610a713969e96845eef37bdf11ed71\n",
      "[Info] root: C:\\Users\\M Amin\\projects\\Python_learning\\.git\\objects\\44 \n",
      "directories:\n",
      "Files:\n",
      "7b23054112ac147aa5f09aff31b415482c9718\n",
      "[Info] root: C:\\Users\\M Amin\\projects\\Python_learning\\.git\\objects\\49 \n",
      "directories:\n",
      "Files:\n",
      "8f37bdcd72e850fac93774e838b96ce3d9f9db\n",
      "[Info] root: C:\\Users\\M Amin\\projects\\Python_learning\\.git\\objects\\51 \n",
      "directories:\n",
      "Files:\n",
      "2815f84cfc8bd73c8b7e311ed8041d155ecb64\n",
      "[Info] root: C:\\Users\\M Amin\\projects\\Python_learning\\.git\\objects\\55 \n",
      "directories:\n",
      "Files:\n",
      "d3019c9592696175732d01295c0e36d4f590e0\n",
      "e1c13775e57766bfa2f1195455c02d7365429c\n",
      "[Info] root: C:\\Users\\M Amin\\projects\\Python_learning\\.git\\objects\\58 \n",
      "directories:\n",
      "Files:\n",
      "2a73cfbe8dd13da8ce5846898433128cdc3c29\n",
      "[Info] root: C:\\Users\\M Amin\\projects\\Python_learning\\.git\\objects\\5d \n",
      "directories:\n",
      "Files:\n",
      "ae206a4295b6d0aa21ca1a7fdaa2ca39676e07\n",
      "fb52cb0c14089423144380a4893cbf03495456\n",
      "[Info] root: C:\\Users\\M Amin\\projects\\Python_learning\\.git\\objects\\62 \n",
      "directories:\n",
      "Files:\n",
      "2baef8eb79fb44ba37e85176a54f79aa7aaee8\n",
      "[Info] root: C:\\Users\\M Amin\\projects\\Python_learning\\.git\\objects\\64 \n",
      "directories:\n",
      "Files:\n",
      "ee570dd455e094c06ca389c4b54984a9bf8fc8\n",
      "[Info] root: C:\\Users\\M Amin\\projects\\Python_learning\\.git\\objects\\65 \n",
      "directories:\n",
      "Files:\n",
      "b9c594af98ec3ca91b853d85a49ebd42f81363\n",
      "[Info] root: C:\\Users\\M Amin\\projects\\Python_learning\\.git\\objects\\67 \n",
      "directories:\n",
      "Files:\n",
      "9b8f379d051a27e970ee8c9a53051c02394235\n",
      "f7637bbfbaa5167136f386651e6543549d086c\n",
      "[Info] root: C:\\Users\\M Amin\\projects\\Python_learning\\.git\\objects\\6a \n",
      "directories:\n",
      "Files:\n",
      "791175fac0aac46ba86678b4cc4b392981d175\n",
      "[Info] root: C:\\Users\\M Amin\\projects\\Python_learning\\.git\\objects\\6c \n",
      "directories:\n",
      "Files:\n",
      "1944e1ec4e2954077f77fd459d9830a61d0434\n",
      "[Info] root: C:\\Users\\M Amin\\projects\\Python_learning\\.git\\objects\\77 \n",
      "directories:\n",
      "Files:\n",
      "4269613446f70523652c7be2c1a30a8ded15ae\n",
      "[Info] root: C:\\Users\\M Amin\\projects\\Python_learning\\.git\\objects\\78 \n",
      "directories:\n",
      "Files:\n",
      "a22e02d10e8e9891cab21812d120741a362d65\n",
      "[Info] root: C:\\Users\\M Amin\\projects\\Python_learning\\.git\\objects\\79 \n",
      "directories:\n",
      "Files:\n",
      "70eac039df1a8a8782a08e2a12579deea817ee\n",
      "d431f1ba16f9646dedd42be3e9c2eef487f193\n",
      "[Info] root: C:\\Users\\M Amin\\projects\\Python_learning\\.git\\objects\\7d \n",
      "directories:\n",
      "Files:\n",
      "5aa04d117cc949b4aa1415a1cb229c8e24b6ac\n",
      "[Info] root: C:\\Users\\M Amin\\projects\\Python_learning\\.git\\objects\\7e \n",
      "directories:\n",
      "Files:\n",
      "681ca8b15a62ae79004413ce00e50fc060835b\n",
      "f5a66401db502a26860f0a66a2d17710b41bce\n",
      "fe11ed8a9f54a251def5391abc8b452439d456\n",
      "[Info] root: C:\\Users\\M Amin\\projects\\Python_learning\\.git\\objects\\7f \n",
      "directories:\n",
      "Files:\n",
      "62f890ebc0af7aa21f3db4d310c0d383007a02\n",
      "[Info] root: C:\\Users\\M Amin\\projects\\Python_learning\\.git\\objects\\82 \n",
      "directories:\n",
      "Files:\n",
      "f3c172075d595b5830a6e206a0cbc7c4675168\n",
      "[Info] root: C:\\Users\\M Amin\\projects\\Python_learning\\.git\\objects\\83 \n",
      "directories:\n",
      "Files:\n",
      "bf297f436f860ce828b72c382b98feccaf4152\n",
      "[Info] root: C:\\Users\\M Amin\\projects\\Python_learning\\.git\\objects\\84 \n",
      "directories:\n",
      "Files:\n",
      "ad818ed18e89666dcf64cab653b76782665c2b\n",
      "[Info] root: C:\\Users\\M Amin\\projects\\Python_learning\\.git\\objects\\85 \n",
      "directories:\n",
      "Files:\n",
      "9c7a76ee2fb802960fa8c091bc51241e98e958\n",
      "[Info] root: C:\\Users\\M Amin\\projects\\Python_learning\\.git\\objects\\87 \n",
      "directories:\n",
      "Files:\n",
      "7698a8dd944292a23f1efa727757b5d9ae4bff\n",
      "[Info] root: C:\\Users\\M Amin\\projects\\Python_learning\\.git\\objects\\89 \n",
      "directories:\n",
      "Files:\n",
      "825244f36536a004dbc8292512a506bd1f5dc5\n",
      "f98917f756ee484e62741317facd3aa01380ec\n",
      "[Info] root: C:\\Users\\M Amin\\projects\\Python_learning\\.git\\objects\\8b \n",
      "directories:\n",
      "Files:\n",
      "293100e4f6dd02bc9d0d630935837cf3ef3013\n",
      "[Info] root: C:\\Users\\M Amin\\projects\\Python_learning\\.git\\objects\\8d \n",
      "directories:\n",
      "Files:\n",
      "9464da1e8ffe89310566926d90ce1dcee76734\n",
      "b77abf7a0c8f8722dc63c7259d7a84f4ac8900\n",
      "[Info] root: C:\\Users\\M Amin\\projects\\Python_learning\\.git\\objects\\93 \n",
      "directories:\n",
      "Files:\n",
      "14b8f4ad02fdca9e6e84834a666951a71e3eef\n",
      "8de02347f741a0e10ea3a21e8ba3a96fdc1bf7\n",
      "[Info] root: C:\\Users\\M Amin\\projects\\Python_learning\\.git\\objects\\94 \n",
      "directories:\n",
      "Files:\n",
      "1f81dd2d53668faf37c5ed5feda974f850c2bf\n",
      "[Info] root: C:\\Users\\M Amin\\projects\\Python_learning\\.git\\objects\\97 \n",
      "directories:\n",
      "Files:\n",
      "613ac418884ff53b2ae4998aaa6617e45435a1\n",
      "[Info] root: C:\\Users\\M Amin\\projects\\Python_learning\\.git\\objects\\98 \n",
      "directories:\n",
      "Files:\n",
      "6a0b77a89fdc1d1dccb295c7e2517c08833084\n",
      "[Info] root: C:\\Users\\M Amin\\projects\\Python_learning\\.git\\objects\\99 \n",
      "directories:\n",
      "Files:\n",
      "e063f25fcce6a64ed9352c5b78ea2fd482d4cb\n",
      "[Info] root: C:\\Users\\M Amin\\projects\\Python_learning\\.git\\objects\\9b \n",
      "directories:\n",
      "Files:\n",
      "345c8f97e6d080072d26541975d12225b6f542\n",
      "[Info] root: C:\\Users\\M Amin\\projects\\Python_learning\\.git\\objects\\9d \n",
      "directories:\n",
      "Files:\n",
      "f9575a69e01fa992af8d48c60f570e7cc43d02\n",
      "[Info] root: C:\\Users\\M Amin\\projects\\Python_learning\\.git\\objects\\a1 \n",
      "directories:\n",
      "Files:\n",
      "6b19dceca2f270d6f84a155a2b3eaff73ba2f8\n",
      "[Info] root: C:\\Users\\M Amin\\projects\\Python_learning\\.git\\objects\\a2 \n",
      "directories:\n",
      "Files:\n",
      "863984df012944ae7bc1cd02836ec36a46419d\n",
      "9676635e5a43ca1eb8ea61e1012280c36f65f2\n",
      "[Info] root: C:\\Users\\M Amin\\projects\\Python_learning\\.git\\objects\\a3 \n",
      "directories:\n",
      "Files:\n",
      "4825eaa60c3e1f0cdf0788c6ff0ee05e58a469\n",
      "[Info] root: C:\\Users\\M Amin\\projects\\Python_learning\\.git\\objects\\a9 \n",
      "directories:\n",
      "Files:\n",
      "3657b9be1f5521437bed9b6598216c17fd766a\n",
      "[Info] root: C:\\Users\\M Amin\\projects\\Python_learning\\.git\\objects\\ae \n",
      "directories:\n",
      "Files:\n",
      "bb0c924dc121aeb96cc0c1cd68d1304a9fdc49\n",
      "[Info] root: C:\\Users\\M Amin\\projects\\Python_learning\\.git\\objects\\af \n",
      "directories:\n",
      "Files:\n",
      "03932001fb95c471af412881fddd66619ba4d6\n",
      "[Info] root: C:\\Users\\M Amin\\projects\\Python_learning\\.git\\objects\\b0 \n",
      "directories:\n",
      "Files:\n",
      "fd68d85b35f2ffe3879839d15573b04ff617cd\n",
      "[Info] root: C:\\Users\\M Amin\\projects\\Python_learning\\.git\\objects\\b4 \n",
      "directories:\n",
      "Files:\n",
      "6320e438bb74aa342194b3dacda540e70680f8\n",
      "[Info] root: C:\\Users\\M Amin\\projects\\Python_learning\\.git\\objects\\b6 \n",
      "directories:\n",
      "Files:\n",
      "a58b845e4c075750ea994b413257ad14d6c475\n",
      "d57c3f0066a76f3ec0cf4251db1308339c1449\n",
      "[Info] root: C:\\Users\\M Amin\\projects\\Python_learning\\.git\\objects\\b7 \n",
      "directories:\n",
      "Files:\n",
      "1e7425fdef9bc9b1f6b68e60c79c90aaf52549\n",
      "[Info] root: C:\\Users\\M Amin\\projects\\Python_learning\\.git\\objects\\b8 \n",
      "directories:\n",
      "Files:\n",
      "d76bc8378818320eee5e112d0b738feebc6c11\n",
      "[Info] root: C:\\Users\\M Amin\\projects\\Python_learning\\.git\\objects\\b9 \n",
      "directories:\n",
      "Files:\n",
      "4d5843a39024f38f935584219348f6404f9ed5\n",
      "6c783c19528ec74392f86e357d4d782f4bcf66\n"
     ]
    },
    {
     "name": "stdout",
     "output_type": "stream",
     "text": [
      "[Info] root: C:\\Users\\M Amin\\projects\\Python_learning\\.git\\objects\\bd \n",
      "directories:\n",
      "Files:\n",
      "231fcdbfdad86d9269921f6c503eb7edecc86e\n",
      "[Info] root: C:\\Users\\M Amin\\projects\\Python_learning\\.git\\objects\\be \n",
      "directories:\n",
      "Files:\n",
      "f624dccce54eddef8fc89eff88cf6687398dfd\n",
      "[Info] root: C:\\Users\\M Amin\\projects\\Python_learning\\.git\\objects\\c2 \n",
      "directories:\n",
      "Files:\n",
      "7ed46e218a56398f3718b77fb9a566d93438a7\n",
      "[Info] root: C:\\Users\\M Amin\\projects\\Python_learning\\.git\\objects\\c7 \n",
      "directories:\n",
      "Files:\n",
      "494f66fb25050a1908c72d233f949b4d3b0056\n",
      "[Info] root: C:\\Users\\M Amin\\projects\\Python_learning\\.git\\objects\\c8 \n",
      "directories:\n",
      "Files:\n",
      "de041938ad174fd347d70a1bf39df51d9e63cc\n",
      "[Info] root: C:\\Users\\M Amin\\projects\\Python_learning\\.git\\objects\\ca \n",
      "directories:\n",
      "Files:\n",
      "40ab12f83f2af678b4c8543cb906d8e1a85a8c\n",
      "d03355eac0f33d9e88e33cda8f930c5909f017\n",
      "d8d7ca029ee6f6fa41d12d6867fcdabb66dc73\n",
      "[Info] root: C:\\Users\\M Amin\\projects\\Python_learning\\.git\\objects\\cd \n",
      "directories:\n",
      "Files:\n",
      "9081cc96ee7a1a670c0b537a98342703affc17\n",
      "[Info] root: C:\\Users\\M Amin\\projects\\Python_learning\\.git\\objects\\d1 \n",
      "directories:\n",
      "Files:\n",
      "94afd4b07d66a58218cfe49f3745687af7fd4d\n",
      "[Info] root: C:\\Users\\M Amin\\projects\\Python_learning\\.git\\objects\\d2 \n",
      "directories:\n",
      "Files:\n",
      "b9011e2871556245efe70ecfb0470c95794af4\n",
      "[Info] root: C:\\Users\\M Amin\\projects\\Python_learning\\.git\\objects\\d3 \n",
      "directories:\n",
      "Files:\n",
      "b345b91e1d46d5f16f915d3b5e7f1a0656530e\n",
      "[Info] root: C:\\Users\\M Amin\\projects\\Python_learning\\.git\\objects\\d6 \n",
      "directories:\n",
      "Files:\n",
      "3bb61417909bf487ff7f6f1a37e866d513f47e\n",
      "[Info] root: C:\\Users\\M Amin\\projects\\Python_learning\\.git\\objects\\da \n",
      "directories:\n",
      "Files:\n",
      "1baaba626fc518c0799bb7ce1baf920412b225\n",
      "[Info] root: C:\\Users\\M Amin\\projects\\Python_learning\\.git\\objects\\db \n",
      "directories:\n",
      "Files:\n",
      "4a16ee7ebb17c46de87b46015bdb071c98b7d6\n",
      "[Info] root: C:\\Users\\M Amin\\projects\\Python_learning\\.git\\objects\\df \n",
      "directories:\n",
      "Files:\n",
      "02f8d68ebc6dd24ad4832706ebec9d21b8bdf3\n",
      "[Info] root: C:\\Users\\M Amin\\projects\\Python_learning\\.git\\objects\\e0 \n",
      "directories:\n",
      "Files:\n",
      "dc7e6b513c37ff96c2c6c38cf036d0285e1e2c\n",
      "fcacd0c8cd62b95c0ef71ce136d6c5da7c7186\n",
      "[Info] root: C:\\Users\\M Amin\\projects\\Python_learning\\.git\\objects\\e6 \n",
      "directories:\n",
      "Files:\n",
      "9de29bb2d1d6434b8b29ae775ad8c2e48c5391\n",
      "[Info] root: C:\\Users\\M Amin\\projects\\Python_learning\\.git\\objects\\e7 \n",
      "directories:\n",
      "Files:\n",
      "770c00a7091d7b954a2bd3cc8b48492abb551a\n",
      "7a83bf03979fbb3e5854e60176c6205bc81c17\n",
      "[Info] root: C:\\Users\\M Amin\\projects\\Python_learning\\.git\\objects\\ee \n",
      "directories:\n",
      "Files:\n",
      "984f3d2057be729e4212c27a3bd359796d93e6\n",
      "[Info] root: C:\\Users\\M Amin\\projects\\Python_learning\\.git\\objects\\ef \n",
      "directories:\n",
      "Files:\n",
      "79dfde9a6448cc3dc7e76d62d9b892ef81da8e\n",
      "[Info] root: C:\\Users\\M Amin\\projects\\Python_learning\\.git\\objects\\f0 \n",
      "directories:\n",
      "Files:\n",
      "2fd4739a48c16d301b675114bbb9db503e1288\n",
      "[Info] root: C:\\Users\\M Amin\\projects\\Python_learning\\.git\\objects\\f3 \n",
      "directories:\n",
      "Files:\n",
      "0f973bd1e5f17bbe5eae706007f5c74c1f5eab\n",
      "[Info] root: C:\\Users\\M Amin\\projects\\Python_learning\\.git\\objects\\f7 \n",
      "directories:\n",
      "Files:\n",
      "8ba68c842c54b20f374a8b175ab0da76231538\n",
      "fec0e947fa8966ab011490ea9b6524d194d123\n",
      "[Info] root: C:\\Users\\M Amin\\projects\\Python_learning\\.git\\objects\\fb \n",
      "directories:\n",
      "Files:\n",
      "0d874566311711e8e31cc3e50e82375d1277e9\n",
      "[Info] root: C:\\Users\\M Amin\\projects\\Python_learning\\.git\\objects\\fc \n",
      "directories:\n",
      "Files:\n",
      "4fa2f83d8833db59e2cf42fba11fb356463077\n",
      "ec26e51a67e17148582af8f23435c4a07c7989\n",
      "[Info] root: C:\\Users\\M Amin\\projects\\Python_learning\\.git\\objects\\ff \n",
      "directories:\n",
      "Files:\n",
      "5126748a7a37964ecbec70304789532d8709d4\n",
      "[Info] root: C:\\Users\\M Amin\\projects\\Python_learning\\.git\\objects\\info \n",
      "directories:\n",
      "Files:\n",
      "[Info] root: C:\\Users\\M Amin\\projects\\Python_learning\\.git\\objects\\pack \n",
      "directories:\n",
      "Files:\n",
      "[Info] root: C:\\Users\\M Amin\\projects\\Python_learning\\.git\\refs \n",
      "directories:\n",
      "heads\n",
      "remotes\n",
      "tags\n",
      "Files:\n",
      "[Info] root: C:\\Users\\M Amin\\projects\\Python_learning\\.git\\refs\\heads \n",
      "directories:\n",
      "Files:\n",
      "main\n",
      "[Info] root: C:\\Users\\M Amin\\projects\\Python_learning\\.git\\refs\\remotes \n",
      "directories:\n",
      "origin\n",
      "Files:\n",
      "[Info] root: C:\\Users\\M Amin\\projects\\Python_learning\\.git\\refs\\remotes\\origin \n",
      "directories:\n",
      "Files:\n",
      "main\n",
      "[Info] root: C:\\Users\\M Amin\\projects\\Python_learning\\.git\\refs\\tags \n",
      "directories:\n",
      "Files:\n",
      "[Info] root: C:\\Users\\M Amin\\projects\\Python_learning\\.ipynb_checkpoints \n",
      "directories:\n",
      "Files:\n",
      "Task 1-checkpoint.ipynb\n",
      "Untitled-checkpoint.ipynb\n",
      "[Info] root: C:\\Users\\M Amin\\projects\\Python_learning\\Python coding exercise \n",
      "directories:\n",
      ".ipynb_checkpoints\n",
      "Files:\n",
      "Learning python 1.ipynb\n",
      "Learning python 2.ipynb\n",
      "Learning python 3.ipynb\n",
      "Learning python 4 ( Function part 1).ipynb\n",
      "Learning python 5 ( Function part 2).ipynb\n",
      "Learning python 6 (Comprehension).ipynb\n",
      "Learning python 7 (Docstring).ipynb\n",
      "Learning python 8 (File handling).ipynb\n",
      "myfileee.txt\n",
      "My_file.txt\n",
      "my_file1\n",
      "my_file1.txt\n",
      "Untitled.ipynb\n",
      "[Info] root: C:\\Users\\M Amin\\projects\\Python_learning\\Python coding exercise\\.ipynb_checkpoints \n",
      "directories:\n",
      "Files:\n",
      "Learning python 3-checkpoint.ipynb\n",
      "Learning python 5 ( Function part 1)-checkpoint.ipynb\n",
      "Learning python 5 ( Function part 2)-checkpoint.ipynb\n",
      "Learning python 6 (Comprehension)-checkpoint.ipynb\n",
      "Learning python 7 (Docstring)-checkpoint.ipynb\n",
      "Learning python 8 (File handling)-checkpoint.ipynb\n",
      "Task 2-checkpoint.ipynb\n",
      "Untitled-checkpoint.ipynb\n"
     ]
    }
   ],
   "source": [
    "for root, dirs, files in os.walk(r\"C:\\Users\\M Amin\\projects\\Python_learning\"):\n",
    "    print(f'[Info] root: {root} \\ndirectories:')\n",
    "    for dir_ in dirs:\n",
    "        print(dir_)\n",
    "    print(f'Files:')\n",
    "    for file in files:\n",
    "        print(file)\n",
    "    "
   ]
  },
  {
   "cell_type": "code",
   "execution_count": 15,
   "id": "f545b05d",
   "metadata": {},
   "outputs": [],
   "source": [
    "os.mkdir(\"Amin\")"
   ]
  },
  {
   "cell_type": "code",
   "execution_count": 16,
   "id": "7eef7bf7",
   "metadata": {},
   "outputs": [
    {
     "ename": "FileNotFoundError",
     "evalue": "[WinError 3] The system cannot find the path specified: 'Mohammad\\\\Amin'",
     "output_type": "error",
     "traceback": [
      "\u001b[1;31m---------------------------------------------------------------------------\u001b[0m",
      "\u001b[1;31mFileNotFoundError\u001b[0m                         Traceback (most recent call last)",
      "Cell \u001b[1;32mIn [16], line 1\u001b[0m\n\u001b[1;32m----> 1\u001b[0m \u001b[43mos\u001b[49m\u001b[38;5;241;43m.\u001b[39;49m\u001b[43mmkdir\u001b[49m\u001b[43m(\u001b[49m\u001b[38;5;124;43m\"\u001b[39;49m\u001b[38;5;124;43mMohammad\u001b[39;49m\u001b[38;5;124;43m\\\u001b[39;49m\u001b[38;5;124;43mAmin\u001b[39;49m\u001b[38;5;124;43m\"\u001b[39;49m\u001b[43m)\u001b[49m\n",
      "\u001b[1;31mFileNotFoundError\u001b[0m: [WinError 3] The system cannot find the path specified: 'Mohammad\\\\Amin'"
     ]
    }
   ],
   "source": [
    "os.mkdir(\"Mohammad\\Amin\")"
   ]
  },
  {
   "cell_type": "code",
   "execution_count": 17,
   "id": "36c73401",
   "metadata": {},
   "outputs": [],
   "source": [
    "os.makedirs(\"Mohammad/Amin\")"
   ]
  },
  {
   "cell_type": "code",
   "execution_count": 21,
   "id": "62fd458f",
   "metadata": {},
   "outputs": [
    {
     "ename": "FileNotFoundError",
     "evalue": "[WinError 2] The system cannot find the file specified: 'my_file1.txt'",
     "output_type": "error",
     "traceback": [
      "\u001b[1;31m---------------------------------------------------------------------------\u001b[0m",
      "\u001b[1;31mFileNotFoundError\u001b[0m                         Traceback (most recent call last)",
      "Cell \u001b[1;32mIn [21], line 1\u001b[0m\n\u001b[1;32m----> 1\u001b[0m \u001b[43mos\u001b[49m\u001b[38;5;241;43m.\u001b[39;49m\u001b[43mremove\u001b[49m\u001b[43m(\u001b[49m\u001b[38;5;124;43m'\u001b[39;49m\u001b[38;5;124;43mmy_file1.txt\u001b[39;49m\u001b[38;5;124;43m'\u001b[39;49m\u001b[43m)\u001b[49m\n",
      "\u001b[1;31mFileNotFoundError\u001b[0m: [WinError 2] The system cannot find the file specified: 'my_file1.txt'"
     ]
    }
   ],
   "source": [
    "os.remove('my_file1.txt')"
   ]
  },
  {
   "cell_type": "code",
   "execution_count": 22,
   "id": "94cdd3d3",
   "metadata": {},
   "outputs": [
    {
     "ename": "OSError",
     "evalue": "[WinError 123] The filename, directory name, or volume label syntax is incorrect: 'mohammad\\x07min'",
     "output_type": "error",
     "traceback": [
      "\u001b[1;31m---------------------------------------------------------------------------\u001b[0m",
      "\u001b[1;31mOSError\u001b[0m                                   Traceback (most recent call last)",
      "Cell \u001b[1;32mIn [22], line 1\u001b[0m\n\u001b[1;32m----> 1\u001b[0m \u001b[43mos\u001b[49m\u001b[38;5;241;43m.\u001b[39;49m\u001b[43mmakedirs\u001b[49m\u001b[43m(\u001b[49m\u001b[38;5;124;43m\"\u001b[39;49m\u001b[38;5;124;43mmohammad\u001b[39;49m\u001b[38;5;130;43;01m\\a\u001b[39;49;00m\u001b[38;5;124;43mmin\u001b[39;49m\u001b[38;5;124;43m\"\u001b[39;49m\u001b[43m)\u001b[49m\n",
      "File \u001b[1;32m~\\miniconda3\\envs\\git_01\\lib\\os.py:225\u001b[0m, in \u001b[0;36mmakedirs\u001b[1;34m(name, mode, exist_ok)\u001b[0m\n\u001b[0;32m    223\u001b[0m         \u001b[38;5;28;01mreturn\u001b[39;00m\n\u001b[0;32m    224\u001b[0m \u001b[38;5;28;01mtry\u001b[39;00m:\n\u001b[1;32m--> 225\u001b[0m     \u001b[43mmkdir\u001b[49m\u001b[43m(\u001b[49m\u001b[43mname\u001b[49m\u001b[43m,\u001b[49m\u001b[43m \u001b[49m\u001b[43mmode\u001b[49m\u001b[43m)\u001b[49m\n\u001b[0;32m    226\u001b[0m \u001b[38;5;28;01mexcept\u001b[39;00m \u001b[38;5;167;01mOSError\u001b[39;00m:\n\u001b[0;32m    227\u001b[0m     \u001b[38;5;66;03m# Cannot rely on checking for EEXIST, since the operating system\u001b[39;00m\n\u001b[0;32m    228\u001b[0m     \u001b[38;5;66;03m# could give priority to other errors like EACCES or EROFS\u001b[39;00m\n\u001b[0;32m    229\u001b[0m     \u001b[38;5;28;01mif\u001b[39;00m \u001b[38;5;129;01mnot\u001b[39;00m exist_ok \u001b[38;5;129;01mor\u001b[39;00m \u001b[38;5;129;01mnot\u001b[39;00m path\u001b[38;5;241m.\u001b[39misdir(name):\n",
      "\u001b[1;31mOSError\u001b[0m: [WinError 123] The filename, directory name, or volume label syntax is incorrect: 'mohammad\\x07min'"
     ]
    }
   ],
   "source": [
    "os.makedirs(\"mohammad\\amin\")"
   ]
  },
  {
   "cell_type": "code",
   "execution_count": 23,
   "id": "8d177ecf",
   "metadata": {},
   "outputs": [],
   "source": [
    "os.makedirs(\"Mohammad/Amin\")"
   ]
  },
  {
   "cell_type": "code",
   "execution_count": 24,
   "id": "ebdb2303",
   "metadata": {},
   "outputs": [],
   "source": [
    "os.makedirs(\"mohammad,aamin\")"
   ]
  },
  {
   "cell_type": "code",
   "execution_count": 25,
   "id": "b175889e",
   "metadata": {},
   "outputs": [],
   "source": [
    "os.rmdir(\"Mohammad/Amin\")"
   ]
  },
  {
   "cell_type": "code",
   "execution_count": 26,
   "id": "19f1d17f",
   "metadata": {},
   "outputs": [],
   "source": [
    "os.rmdir(\"mohammad,aamin\")"
   ]
  },
  {
   "cell_type": "code",
   "execution_count": 27,
   "id": "9438700d",
   "metadata": {},
   "outputs": [],
   "source": [
    "os.rmdir('mohammad')"
   ]
  },
  {
   "cell_type": "code",
   "execution_count": 28,
   "id": "313b5fc1",
   "metadata": {},
   "outputs": [],
   "source": [
    "os.makedirs(\"Mohammad/Amin\")"
   ]
  },
  {
   "cell_type": "code",
   "execution_count": 29,
   "id": "234f87c0",
   "metadata": {},
   "outputs": [
    {
     "ename": "OSError",
     "evalue": "[WinError 145] The directory is not empty: 'mohammad'",
     "output_type": "error",
     "traceback": [
      "\u001b[1;31m---------------------------------------------------------------------------\u001b[0m",
      "\u001b[1;31mOSError\u001b[0m                                   Traceback (most recent call last)",
      "Cell \u001b[1;32mIn [29], line 1\u001b[0m\n\u001b[1;32m----> 1\u001b[0m \u001b[43mos\u001b[49m\u001b[38;5;241;43m.\u001b[39;49m\u001b[43mrmdir\u001b[49m\u001b[43m(\u001b[49m\u001b[38;5;124;43m\"\u001b[39;49m\u001b[38;5;124;43mmohammad\u001b[39;49m\u001b[38;5;124;43m\"\u001b[39;49m\u001b[43m)\u001b[49m\n",
      "\u001b[1;31mOSError\u001b[0m: [WinError 145] The directory is not empty: 'mohammad'"
     ]
    }
   ],
   "source": [
    "os.rmdir(\"mohammad\")"
   ]
  },
  {
   "cell_type": "code",
   "execution_count": 32,
   "id": "4314a7a7",
   "metadata": {},
   "outputs": [],
   "source": [
    "os.rmdir(\"Mohammad/Amin\")"
   ]
  },
  {
   "cell_type": "code",
   "execution_count": 34,
   "id": "9c1b7360",
   "metadata": {},
   "outputs": [],
   "source": [
    "os.rmdir(\"mohammad\")"
   ]
  },
  {
   "cell_type": "code",
   "execution_count": 36,
   "id": "abf8f02e",
   "metadata": {},
   "outputs": [
    {
     "name": "stdout",
     "output_type": "stream",
     "text": [
      "the file does not exist\n"
     ]
    }
   ],
   "source": [
    "if os.path.exists(\"Amin\"):\n",
    "    os.remove(\"Amin\")\n",
    "else :\n",
    "    print(\"the file does not exist\")"
   ]
  },
  {
   "cell_type": "code",
   "execution_count": 39,
   "id": "bb81165d",
   "metadata": {},
   "outputs": [
    {
     "name": "stdout",
     "output_type": "stream",
     "text": [
      "root: C:\\Users\\M Amin\\projects and the last paht: Python_learning\n"
     ]
    }
   ],
   "source": [
    "directory_path = r\"C:\\Users\\M Amin\\projects\\Python_learning\"\n",
    "root, last_path = os.path.split(directory_path)\n",
    "print(f'root: {root} and the last paht: {last_path}')"
   ]
  },
  {
   "cell_type": "code",
   "execution_count": 41,
   "id": "32097b68",
   "metadata": {},
   "outputs": [
    {
     "name": "stdout",
     "output_type": "stream",
     "text": [
      "file name: C:\\Users\\M Amin\\projects\\Python_learning and extension: .ipynb\n"
     ]
    }
   ],
   "source": [
    "file = r\"C:\\Users\\M Amin\\projects\\Python_learning.ipynb\"\n",
    "root_file_name, ex = os.path.splitext(file)\n",
    "print(f'file name: {root_file_name} and extension: {ex}')"
   ]
  },
  {
   "cell_type": "code",
   "execution_count": 44,
   "id": "d6d71559",
   "metadata": {},
   "outputs": [
    {
     "name": "stdout",
     "output_type": "stream",
     "text": [
      "temp\\test.txt\n"
     ]
    }
   ],
   "source": [
    "# Shutil\n",
    "import shutil\n",
    "os.makedirs(\"temp\", exist_ok = True)\n",
    "\n",
    "text_path = os.path.join(\"temp\", \"test.txt\")\n",
    "print(text_path)\n",
    "\n",
    "with open(text_path, mode = 'w') as file:\n",
    "    pass"
   ]
  },
  {
   "cell_type": "code",
   "execution_count": 46,
   "id": "dc440ab2",
   "metadata": {},
   "outputs": [
    {
     "ename": "OSError",
     "evalue": "[WinError 145] The directory is not empty: 'temp'",
     "output_type": "error",
     "traceback": [
      "\u001b[1;31m---------------------------------------------------------------------------\u001b[0m",
      "\u001b[1;31mOSError\u001b[0m                                   Traceback (most recent call last)",
      "Cell \u001b[1;32mIn [46], line 1\u001b[0m\n\u001b[1;32m----> 1\u001b[0m \u001b[43mos\u001b[49m\u001b[38;5;241;43m.\u001b[39;49m\u001b[43mrmdir\u001b[49m\u001b[43m(\u001b[49m\u001b[38;5;124;43m\"\u001b[39;49m\u001b[38;5;124;43mtemp\u001b[39;49m\u001b[38;5;124;43m\"\u001b[39;49m\u001b[43m)\u001b[49m\n",
      "\u001b[1;31mOSError\u001b[0m: [WinError 145] The directory is not empty: 'temp'"
     ]
    }
   ],
   "source": [
    "os.rmdir(\"temp\")"
   ]
  },
  {
   "cell_type": "code",
   "execution_count": 48,
   "id": "c3e99d59",
   "metadata": {},
   "outputs": [
    {
     "ename": "FileNotFoundError",
     "evalue": "[WinError 3] The system cannot find the path specified: 'temp/'",
     "output_type": "error",
     "traceback": [
      "\u001b[1;31m---------------------------------------------------------------------------\u001b[0m",
      "\u001b[1;31mFileNotFoundError\u001b[0m                         Traceback (most recent call last)",
      "Cell \u001b[1;32mIn [48], line 1\u001b[0m\n\u001b[1;32m----> 1\u001b[0m \u001b[43mshutil\u001b[49m\u001b[38;5;241;43m.\u001b[39;49m\u001b[43mrmtree\u001b[49m\u001b[43m(\u001b[49m\u001b[38;5;124;43m\"\u001b[39;49m\u001b[38;5;124;43mtemp/\u001b[39;49m\u001b[38;5;124;43m\"\u001b[39;49m\u001b[43m)\u001b[49m\n",
      "File \u001b[1;32m~\\miniconda3\\envs\\git_01\\lib\\shutil.py:759\u001b[0m, in \u001b[0;36mrmtree\u001b[1;34m(path, ignore_errors, onerror)\u001b[0m\n\u001b[0;32m    757\u001b[0m     \u001b[38;5;66;03m# can't continue even if onerror hook returns\u001b[39;00m\n\u001b[0;32m    758\u001b[0m     \u001b[38;5;28;01mreturn\u001b[39;00m\n\u001b[1;32m--> 759\u001b[0m \u001b[38;5;28;01mreturn\u001b[39;00m \u001b[43m_rmtree_unsafe\u001b[49m\u001b[43m(\u001b[49m\u001b[43mpath\u001b[49m\u001b[43m,\u001b[49m\u001b[43m \u001b[49m\u001b[43monerror\u001b[49m\u001b[43m)\u001b[49m\n",
      "File \u001b[1;32m~\\miniconda3\\envs\\git_01\\lib\\shutil.py:610\u001b[0m, in \u001b[0;36m_rmtree_unsafe\u001b[1;34m(path, onerror)\u001b[0m\n\u001b[0;32m    608\u001b[0m         entries \u001b[38;5;241m=\u001b[39m \u001b[38;5;28mlist\u001b[39m(scandir_it)\n\u001b[0;32m    609\u001b[0m \u001b[38;5;28;01mexcept\u001b[39;00m \u001b[38;5;167;01mOSError\u001b[39;00m:\n\u001b[1;32m--> 610\u001b[0m     \u001b[43monerror\u001b[49m\u001b[43m(\u001b[49m\u001b[43mos\u001b[49m\u001b[38;5;241;43m.\u001b[39;49m\u001b[43mscandir\u001b[49m\u001b[43m,\u001b[49m\u001b[43m \u001b[49m\u001b[43mpath\u001b[49m\u001b[43m,\u001b[49m\u001b[43m \u001b[49m\u001b[43msys\u001b[49m\u001b[38;5;241;43m.\u001b[39;49m\u001b[43mexc_info\u001b[49m\u001b[43m(\u001b[49m\u001b[43m)\u001b[49m\u001b[43m)\u001b[49m\n\u001b[0;32m    611\u001b[0m     entries \u001b[38;5;241m=\u001b[39m []\n\u001b[0;32m    612\u001b[0m \u001b[38;5;28;01mfor\u001b[39;00m entry \u001b[38;5;129;01min\u001b[39;00m entries:\n",
      "File \u001b[1;32m~\\miniconda3\\envs\\git_01\\lib\\shutil.py:607\u001b[0m, in \u001b[0;36m_rmtree_unsafe\u001b[1;34m(path, onerror)\u001b[0m\n\u001b[0;32m    605\u001b[0m \u001b[38;5;28;01mdef\u001b[39;00m \u001b[38;5;21m_rmtree_unsafe\u001b[39m(path, onerror):\n\u001b[0;32m    606\u001b[0m     \u001b[38;5;28;01mtry\u001b[39;00m:\n\u001b[1;32m--> 607\u001b[0m         \u001b[38;5;28;01mwith\u001b[39;00m \u001b[43mos\u001b[49m\u001b[38;5;241;43m.\u001b[39;49m\u001b[43mscandir\u001b[49m\u001b[43m(\u001b[49m\u001b[43mpath\u001b[49m\u001b[43m)\u001b[49m \u001b[38;5;28;01mas\u001b[39;00m scandir_it:\n\u001b[0;32m    608\u001b[0m             entries \u001b[38;5;241m=\u001b[39m \u001b[38;5;28mlist\u001b[39m(scandir_it)\n\u001b[0;32m    609\u001b[0m     \u001b[38;5;28;01mexcept\u001b[39;00m \u001b[38;5;167;01mOSError\u001b[39;00m:\n",
      "\u001b[1;31mFileNotFoundError\u001b[0m: [WinError 3] The system cannot find the path specified: 'temp/'"
     ]
    }
   ],
   "source": [
    "shutil.rmtree(\"temp/\")"
   ]
  },
  {
   "cell_type": "code",
   "execution_count": 66,
   "id": "e8f9968f",
   "metadata": {},
   "outputs": [
    {
     "data": {
      "text/plain": [
       "'temp_1/myfile_1.txt'"
      ]
     },
     "execution_count": 66,
     "metadata": {},
     "output_type": "execute_result"
    }
   ],
   "source": [
    "import shutil\n",
    "os.makedirs(\"temp_1\", exist_ok = True)\n",
    "os.makedirs(\"temp_2\", exist_ok = True)\n",
    "file =open(\"myfile_1.txt\", mode = 'w')\n",
    "file.close()\n",
    "shutil.move(\"myfile_1.txt\", \"temp_1/myfile_1.txt\")"
   ]
  },
  {
   "cell_type": "code",
   "execution_count": 68,
   "id": "1e1407e4",
   "metadata": {},
   "outputs": [
    {
     "data": {
      "text/plain": [
       "'temp_2/my_fileeeeeeeeeeee.txt'"
      ]
     },
     "execution_count": 68,
     "metadata": {},
     "output_type": "execute_result"
    }
   ],
   "source": [
    "shutil.move(\"myfile_1.txt\", \"temp_2/my_fileeeeeeeeeeee.txt\")"
   ]
  },
  {
   "cell_type": "code",
   "execution_count": 69,
   "id": "69d052b3",
   "metadata": {},
   "outputs": [
    {
     "data": {
      "text/plain": [
       "'temp_2/myfile_12'"
      ]
     },
     "execution_count": 69,
     "metadata": {},
     "output_type": "execute_result"
    }
   ],
   "source": [
    "shutil.copy(\"temp_1/myfile_1.txt\", \"temp_2/myfile_12\")"
   ]
  },
  {
   "cell_type": "code",
   "execution_count": 82,
   "id": "91d028b9",
   "metadata": {},
   "outputs": [
    {
     "name": "stdout",
     "output_type": "stream",
     "text": [
      "C:\\Users\\M Amin\\projects\\Python_learning\\temporary\n"
     ]
    }
   ],
   "source": [
    "temp_name = \"temporary\"\n",
    "directory = r\"C:\\Users\\M Amin\\projects\\Python_learning\"\n",
    "\n",
    "temp_dr = os.path.join(directory, temp_name)\n",
    "print(temp_dr)\n",
    "os.makedirs(temp_dr, exist_ok = True)"
   ]
  },
  {
   "cell_type": "code",
   "execution_count": 86,
   "id": "aaa87e23",
   "metadata": {},
   "outputs": [
    {
     "name": "stdout",
     "output_type": "stream",
     "text": [
      "[Info] file name: .git\n",
      "[Info] file name: .ipynb_checkpoints\n",
      "[Info] file name: Python coding exercise\n",
      "[Info] file name: Python coding exercise - Copy\n",
      "[Info] file name: Readme.md\n",
      "[Info] file name: Survey.py\n",
      "[Info] file name: Task 1.ipynb\n",
      "[Info] file name: Task 2.ipynb\n",
      "[Info] file name: Task.ipynb\n",
      "[Info] file name: temporary\n",
      "[Info] file name: Untitled.ipynb\n"
     ]
    }
   ],
   "source": [
    "for file_name in os.listdir(directory):\n",
    "    print(f'[Info] file name: {file_name}')\n",
    "    if file_name.endswith(\".ipynb\"):\n",
    "        name, ext = os.path.splitext(file_name)\n",
    "        name_ = os.path.join(temp_dr, name+\".txt\")\n",
    "        with open(name_, mode = 'w') as file:\n",
    "            file.write(name)\n",
    "        "
   ]
  },
  {
   "cell_type": "code",
   "execution_count": 88,
   "id": "5d2f06ed",
   "metadata": {},
   "outputs": [
    {
     "name": "stdout",
     "output_type": "stream",
     "text": [
      "[Info] file name: Task 1.txt\n",
      "[Info] dir_name: C:\\Users\\M Amin\\projects\\Python_learning\\temporary\\Task 1\n",
      "[Info] file name: Task 2.txt\n",
      "[Info] dir_name: C:\\Users\\M Amin\\projects\\Python_learning\\temporary\\Task 2\n",
      "[Info] file name: Task.txt\n",
      "[Info] dir_name: C:\\Users\\M Amin\\projects\\Python_learning\\temporary\\Task\n",
      "[Info] file name: Untitled.txt\n",
      "[Info] dir_name: C:\\Users\\M Amin\\projects\\Python_learning\\temporary\\Untitled\n"
     ]
    }
   ],
   "source": [
    "for file_name in os.listdir(temp_dr):\n",
    "    print(f'[Info] file name: {file_name}')\n",
    "    if file_name.endswith(\".txt\"):\n",
    "        name = file_name[:-4]\n",
    "        inner_dr = os.path.join(temp_dr, name)\n",
    "        print(f'[Info] dir_name: {inner_dr}')\n",
    "        os.makedirs(inner_dr, exist_ok=True)\n",
    "        shutil.move(os.path.join(temp_dr, file_name), os.path.join(inner_dr, file_name))\n",
    "        "
   ]
  },
  {
   "cell_type": "code",
   "execution_count": null,
   "id": "44c50892",
   "metadata": {},
   "outputs": [],
   "source": []
  }
 ],
 "metadata": {
  "kernelspec": {
   "display_name": "Python 3 (ipykernel)",
   "language": "python",
   "name": "python3"
  },
  "language_info": {
   "codemirror_mode": {
    "name": "ipython",
    "version": 3
   },
   "file_extension": ".py",
   "mimetype": "text/x-python",
   "name": "python",
   "nbconvert_exporter": "python",
   "pygments_lexer": "ipython3",
   "version": "3.9.15"
  }
 },
 "nbformat": 4,
 "nbformat_minor": 5
}
