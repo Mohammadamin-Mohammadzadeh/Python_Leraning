{
 "cells": [
  {
   "cell_type": "markdown",
   "id": "1d628df5",
   "metadata": {},
   "source": [
    "## Function"
   ]
  },
  {
   "cell_type": "code",
   "execution_count": 1,
   "id": "8216547e",
   "metadata": {},
   "outputs": [],
   "source": [
    "def func():\n",
    "    return 'hello world'\n"
   ]
  },
  {
   "cell_type": "code",
   "execution_count": 14,
   "id": "30dd9095",
   "metadata": {},
   "outputs": [
    {
     "name": "stdout",
     "output_type": "stream",
     "text": [
      "The result is : hello world\n"
     ]
    }
   ],
   "source": [
    "value = func()\n",
    "print ('The result is :', value)"
   ]
  },
  {
   "cell_type": "code",
   "execution_count": 9,
   "id": "485b2af9",
   "metadata": {},
   "outputs": [],
   "source": [
    "def func_() :\n",
    "    print ('Hello')\n",
    "    \n"
   ]
  },
  {
   "cell_type": "code",
   "execution_count": 10,
   "id": "5021272f",
   "metadata": {},
   "outputs": [
    {
     "name": "stdout",
     "output_type": "stream",
     "text": [
      "Hello\n"
     ]
    }
   ],
   "source": [
    "func_()"
   ]
  },
  {
   "cell_type": "code",
   "execution_count": 11,
   "id": "2d9e90be",
   "metadata": {},
   "outputs": [
    {
     "name": "stdout",
     "output_type": "stream",
     "text": [
      "Hello\n",
      "The result is : None\n"
     ]
    }
   ],
   "source": [
    "val = func_()\n",
    "print('The result is :', val)"
   ]
  },
  {
   "cell_type": "code",
   "execution_count": 15,
   "id": "e0c04ed3",
   "metadata": {},
   "outputs": [],
   "source": [
    "def power_func(var, power):\n",
    "    return var**power\n"
   ]
  },
  {
   "cell_type": "code",
   "execution_count": 16,
   "id": "d1037ec6",
   "metadata": {},
   "outputs": [
    {
     "name": "stdout",
     "output_type": "stream",
     "text": [
      "The result is : 125\n"
     ]
    }
   ],
   "source": [
    "y = power_func(5,3)\n",
    "\n",
    "print('The result is :', y)"
   ]
  },
  {
   "cell_type": "code",
   "execution_count": 18,
   "id": "e865f2ff",
   "metadata": {},
   "outputs": [
    {
     "data": {
      "text/plain": [
       "'Mohammad Amin Mohammadzadeh Toularoud'"
      ]
     },
     "execution_count": 18,
     "metadata": {},
     "output_type": "execute_result"
    }
   ],
   "source": [
    "def full_name(name_1, name_2):\n",
    "    return name_1 + ' '+ name_2\n",
    "\n",
    "full_name('Mohammad Amin','Mohammadzadeh Toularoud')"
   ]
  },
  {
   "cell_type": "code",
   "execution_count": 23,
   "id": "20f2a580",
   "metadata": {},
   "outputs": [
    {
     "name": "stdout",
     "output_type": "stream",
     "text": [
      " variable 1 : 2\n",
      " variable 1 : 3\n"
     ]
    },
    {
     "data": {
      "text/plain": [
       "5"
      ]
     },
     "execution_count": 23,
     "metadata": {},
     "output_type": "execute_result"
    }
   ],
   "source": [
    "def summ(x, y):\n",
    "    print(f' variable 1 : {x}')\n",
    "    print(f' variable 1 : {y}')\n",
    "    return x + y\n",
    "          \n",
    "summ (2, 3)\n"
   ]
  },
  {
   "cell_type": "code",
   "execution_count": 25,
   "id": "9bff4584",
   "metadata": {},
   "outputs": [
    {
     "name": "stdout",
     "output_type": "stream",
     "text": [
      " variable 1 : 2\n",
      " variable 1 : 3\n"
     ]
    },
    {
     "data": {
      "text/plain": [
       "5"
      ]
     },
     "execution_count": 25,
     "metadata": {},
     "output_type": "execute_result"
    }
   ],
   "source": [
    "summ(2, y = 3)"
   ]
  },
  {
   "cell_type": "code",
   "execution_count": 26,
   "id": "bfe8f5e2",
   "metadata": {},
   "outputs": [
    {
     "ename": "SyntaxError",
     "evalue": "positional argument follows keyword argument (2762594647.py, line 1)",
     "output_type": "error",
     "traceback": [
      "\u001b[1;36m  Cell \u001b[1;32mIn [26], line 1\u001b[1;36m\u001b[0m\n\u001b[1;33m    summ(x = 2, 3)\u001b[0m\n\u001b[1;37m                 ^\u001b[0m\n\u001b[1;31mSyntaxError\u001b[0m\u001b[1;31m:\u001b[0m positional argument follows keyword argument\n"
     ]
    }
   ],
   "source": [
    "summ(x = 2, 3)"
   ]
  },
  {
   "cell_type": "code",
   "execution_count": 28,
   "id": "598dd77c",
   "metadata": {},
   "outputs": [
    {
     "name": "stdout",
     "output_type": "stream",
     "text": [
      " variable 1 : 2\n",
      " variable 1 : 3\n"
     ]
    },
    {
     "data": {
      "text/plain": [
       "5"
      ]
     },
     "execution_count": 28,
     "metadata": {},
     "output_type": "execute_result"
    }
   ],
   "source": [
    "summ(x = 2, y = 3)"
   ]
  },
  {
   "cell_type": "code",
   "execution_count": 29,
   "id": "78f02166",
   "metadata": {},
   "outputs": [
    {
     "name": "stdout",
     "output_type": "stream",
     "text": [
      " variable 1 : 2\n",
      " variable 1 : 3\n"
     ]
    },
    {
     "data": {
      "text/plain": [
       "5"
      ]
     },
     "execution_count": 29,
     "metadata": {},
     "output_type": "execute_result"
    }
   ],
   "source": [
    "summ (y = 3, x = 2)"
   ]
  },
  {
   "cell_type": "markdown",
   "id": "d233396b",
   "metadata": {},
   "source": [
    "#### default argument value"
   ]
  },
  {
   "cell_type": "code",
   "execution_count": 11,
   "id": "c7a9c2c6",
   "metadata": {},
   "outputs": [
    {
     "ename": "SyntaxError",
     "evalue": "non-default argument follows default argument (1542656411.py, line 1)",
     "output_type": "error",
     "traceback": [
      "\u001b[1;36m  Cell \u001b[1;32mIn [11], line 1\u001b[1;36m\u001b[0m\n\u001b[1;33m    def summ(x = 3, y):\u001b[0m\n\u001b[1;37m                     ^\u001b[0m\n\u001b[1;31mSyntaxError\u001b[0m\u001b[1;31m:\u001b[0m non-default argument follows default argument\n"
     ]
    }
   ],
   "source": [
    "def summ(x = 3, y):\n",
    "    return x + y\n",
    "\n",
    "res = summ(5)\n",
    "print(f' The result is : {res}')"
   ]
  },
  {
   "cell_type": "markdown",
   "id": "4f964e0a",
   "metadata": {},
   "source": [
    "#### Note: Default argument must be given value after non-default argument "
   ]
  },
  {
   "cell_type": "code",
   "execution_count": 12,
   "id": "e6dec80f",
   "metadata": {},
   "outputs": [
    {
     "name": "stdout",
     "output_type": "stream",
     "text": [
      " The result is : 6\n"
     ]
    }
   ],
   "source": [
    "def summ(y, x = 3):\n",
    "    return x + y\n",
    "\n",
    "res = summ(3)\n",
    "print(f' The result is : {res}')"
   ]
  },
  {
   "cell_type": "code",
   "execution_count": 16,
   "id": "6f2b95bd",
   "metadata": {},
   "outputs": [
    {
     "name": "stdout",
     "output_type": "stream",
     "text": [
      " X is 3\n",
      " Y is 5\n",
      " The result is : 11\n"
     ]
    }
   ],
   "source": [
    "def summ(x, y, z = 3):\n",
    "    print(f' X is {x}')\n",
    "    print(f' Y is {y}')\n",
    "    return x + y + z\n",
    "\n",
    "res = summ(3 , 5)\n",
    "print(f' The result is : {res}')"
   ]
  },
  {
   "cell_type": "markdown",
   "id": "1483651a",
   "metadata": {},
   "source": [
    "#### Note: Default argument can be changed"
   ]
  },
  {
   "cell_type": "code",
   "execution_count": 18,
   "id": "84efc02b",
   "metadata": {},
   "outputs": [
    {
     "name": "stdout",
     "output_type": "stream",
     "text": [
      " X is 5\n",
      " Y is 3\n",
      " Y is 14\n",
      " The result is : 22\n"
     ]
    }
   ],
   "source": [
    "def summ(x, y, z = 3):\n",
    "    print(f' X is {x}')\n",
    "    print(f' Y is {y}')\n",
    "    print(f' Y is {z}')\n",
    "    return x + y + z\n",
    "\n",
    "res = summ(y = 3 , x = 5, z = 14)\n",
    "print(f' The result is : {res}')"
   ]
  },
  {
   "cell_type": "code",
   "execution_count": 23,
   "id": "e8d768aa",
   "metadata": {},
   "outputs": [
    {
     "name": "stdout",
     "output_type": "stream",
     "text": [
      "My country is Iran\n",
      "My country is Deutschland\n",
      "My country is United state\n"
     ]
    }
   ],
   "source": [
    "def country(my_country = \"Iran\"):\n",
    "    print(\"My country is\", my_country)\n",
    "\n",
    "country()\n",
    "country(\"Deutschland\")\n",
    "country(\"United state\")"
   ]
  },
  {
   "cell_type": "code",
   "execution_count": 1,
   "id": "84dd7a39",
   "metadata": {},
   "outputs": [],
   "source": [
    "# Functions scopes"
   ]
  },
  {
   "cell_type": "code",
   "execution_count": 3,
   "id": "120af5b1",
   "metadata": {},
   "outputs": [
    {
     "name": "stdout",
     "output_type": "stream",
     "text": [
      "20 5\n"
     ]
    }
   ],
   "source": [
    "var = 15 # global variable\n",
    "\n",
    "def func(input_1):\n",
    "    var_ = var + input_1\n",
    "    print(var_, input_1)\n",
    "    \n",
    "func(5)"
   ]
  },
  {
   "cell_type": "code",
   "execution_count": 4,
   "id": "e11882dc",
   "metadata": {},
   "outputs": [
    {
     "ename": "UnboundLocalError",
     "evalue": "local variable 'var' referenced before assignment",
     "output_type": "error",
     "traceback": [
      "\u001b[1;31m---------------------------------------------------------------------------\u001b[0m",
      "\u001b[1;31mUnboundLocalError\u001b[0m                         Traceback (most recent call last)",
      "Cell \u001b[1;32mIn [4], line 7\u001b[0m\n\u001b[0;32m      4\u001b[0m     var \u001b[38;5;241m=\u001b[39m var \u001b[38;5;241m+\u001b[39m input_1\n\u001b[0;32m      5\u001b[0m     \u001b[38;5;28mprint\u001b[39m(var_, input_1)\n\u001b[1;32m----> 7\u001b[0m \u001b[43mfunc\u001b[49m\u001b[43m(\u001b[49m\u001b[38;5;241;43m5\u001b[39;49m\u001b[43m)\u001b[49m\n",
      "Cell \u001b[1;32mIn [4], line 4\u001b[0m, in \u001b[0;36mfunc\u001b[1;34m(input_1)\u001b[0m\n\u001b[0;32m      3\u001b[0m \u001b[38;5;28;01mdef\u001b[39;00m \u001b[38;5;21mfunc\u001b[39m(input_1):\n\u001b[1;32m----> 4\u001b[0m     var \u001b[38;5;241m=\u001b[39m \u001b[43mvar\u001b[49m \u001b[38;5;241m+\u001b[39m input_1\n\u001b[0;32m      5\u001b[0m     \u001b[38;5;28mprint\u001b[39m(var_, input_1)\n",
      "\u001b[1;31mUnboundLocalError\u001b[0m: local variable 'var' referenced before assignment"
     ]
    }
   ],
   "source": [
    "var = 15 # global variable\n",
    "\n",
    "def func(input_1):\n",
    "    var = var + input_1\n",
    "    print(var_, input_1)\n",
    "    \n",
    "func(5)"
   ]
  },
  {
   "cell_type": "code",
   "execution_count": 6,
   "id": "dbd427ef",
   "metadata": {},
   "outputs": [
    {
     "name": "stdout",
     "output_type": "stream",
     "text": [
      "20 5\n"
     ]
    }
   ],
   "source": [
    "# to a solve the above problem, the global variable should be defined in the scope of the function\n",
    "\n",
    "var = 15               # global variable\n",
    "\n",
    "def func(input_1):\n",
    "    global var                   # define var as global variable inside function\n",
    "    var = var + input_1\n",
    "    print(var, input_1)\n",
    "    \n",
    "func(5)"
   ]
  },
  {
   "cell_type": "code",
   "execution_count": 9,
   "id": "c50f7879",
   "metadata": {},
   "outputs": [],
   "source": [
    "# We do not have access to the variables inside the function, but we do have access to the global variable\n",
    "# and we cannot change the global variable"
   ]
  },
  {
   "cell_type": "code",
   "execution_count": 20,
   "id": "060f5c83",
   "metadata": {},
   "outputs": [
    {
     "name": "stdout",
     "output_type": "stream",
     "text": [
      "The variable inside the function is: 23\n",
      "\n",
      "The variable outside the function (global variable) is: 10\n"
     ]
    }
   ],
   "source": [
    "var = 10 # global variable\n",
    "\n",
    "def func_(input_1):\n",
    "    var = 20   # Note : This variable is new variable inside the function and is not global variable (var = 10)\n",
    "    var = var + input_1\n",
    "    print(f'The variable inside the function is: {var}')\n",
    "    \n",
    "func_(3)\n",
    "print()\n",
    "print(f'The variable outside the function (global variable) is: {var}')\n"
   ]
  },
  {
   "cell_type": "code",
   "execution_count": 23,
   "id": "12ff81bf",
   "metadata": {},
   "outputs": [
    {
     "ename": "UnboundLocalError",
     "evalue": "local variable 'c' referenced before assignment",
     "output_type": "error",
     "traceback": [
      "\u001b[1;31m---------------------------------------------------------------------------\u001b[0m",
      "\u001b[1;31mUnboundLocalError\u001b[0m                         Traceback (most recent call last)",
      "Cell \u001b[1;32mIn [23], line 7\u001b[0m\n\u001b[0;32m      4\u001b[0m     c \u001b[38;5;241m=\u001b[39m c \u001b[38;5;241m+\u001b[39m \u001b[38;5;241m5\u001b[39m\n\u001b[0;32m      5\u001b[0m     \u001b[38;5;28mprint\u001b[39m (\u001b[38;5;124mf\u001b[39m\u001b[38;5;124m'\u001b[39m\u001b[38;5;124m c is \u001b[39m\u001b[38;5;132;01m{\u001b[39;00mc\u001b[38;5;132;01m}\u001b[39;00m\u001b[38;5;124m'\u001b[39m)\n\u001b[1;32m----> 7\u001b[0m \u001b[43madd\u001b[49m\u001b[43m(\u001b[49m\u001b[43m)\u001b[49m\n",
      "Cell \u001b[1;32mIn [23], line 4\u001b[0m, in \u001b[0;36madd\u001b[1;34m()\u001b[0m\n\u001b[0;32m      3\u001b[0m \u001b[38;5;28;01mdef\u001b[39;00m \u001b[38;5;21madd\u001b[39m():\n\u001b[1;32m----> 4\u001b[0m     c \u001b[38;5;241m=\u001b[39m \u001b[43mc\u001b[49m \u001b[38;5;241m+\u001b[39m \u001b[38;5;241m5\u001b[39m\n\u001b[0;32m      5\u001b[0m     \u001b[38;5;28mprint\u001b[39m (\u001b[38;5;124mf\u001b[39m\u001b[38;5;124m'\u001b[39m\u001b[38;5;124m c is \u001b[39m\u001b[38;5;132;01m{\u001b[39;00mc\u001b[38;5;132;01m}\u001b[39;00m\u001b[38;5;124m'\u001b[39m)\n",
      "\u001b[1;31mUnboundLocalError\u001b[0m: local variable 'c' referenced before assignment"
     ]
    }
   ],
   "source": [
    "c = 0\n",
    "\n",
    "def add():\n",
    "    c = c + 5\n",
    "    print (f' c is {c}')\n",
    "    \n",
    "add()"
   ]
  },
  {
   "cell_type": "code",
   "execution_count": 26,
   "id": "a2fabcf8",
   "metadata": {},
   "outputs": [
    {
     "name": "stdout",
     "output_type": "stream",
     "text": [
      " c is 5\n"
     ]
    }
   ],
   "source": [
    "c = 0\n",
    "\n",
    "def add():\n",
    "    global c \n",
    "    c = c + 5\n",
    "    print (f' c is {c}')\n",
    "    \n",
    "add()"
   ]
  },
  {
   "cell_type": "code",
   "execution_count": 28,
   "id": "1ff0d036",
   "metadata": {},
   "outputs": [
    {
     "name": "stdout",
     "output_type": "stream",
     "text": [
      " c is 5\n"
     ]
    }
   ],
   "source": [
    "c = 0\n",
    "\n",
    "def add(c): \n",
    "    c = c + 5\n",
    "    print (f' c is {c}')\n",
    "    \n",
    "add(c)"
   ]
  },
  {
   "cell_type": "code",
   "execution_count": 32,
   "id": "9ccf3983",
   "metadata": {},
   "outputs": [
    {
     "name": "stdout",
     "output_type": "stream",
     "text": [
      "10\n"
     ]
    }
   ],
   "source": [
    "c = 9\n",
    "\n",
    "def add(inputt): \n",
    "    inputt = inputt + 1\n",
    "    print (inputt)\n",
    "    \n",
    "add(c)"
   ]
  },
  {
   "cell_type": "markdown",
   "id": "96111940",
   "metadata": {},
   "source": [
    "## Mutable input arguments"
   ]
  },
  {
   "cell_type": "code",
   "execution_count": 33,
   "id": "abe7aa08",
   "metadata": {},
   "outputs": [
    {
     "name": "stdout",
     "output_type": "stream",
     "text": [
      " List1 :[1, 1]\n",
      " List2 :[1, 1]\n"
     ]
    }
   ],
   "source": [
    "# we know that Lists in python are mutable and int is immutable\n",
    "\n",
    "list1 = [1, 2]\n",
    "\n",
    "list2 = list1\n",
    "\n",
    "list2[1] = 1\n",
    "\n",
    "print(f' List1 :{list1}')\n",
    "print(f' List2 :{list2}')"
   ]
  },
  {
   "attachments": {
    "Screenshot%20%28159%29.png": {
     "image/png": "[encoded data removed]"
    }
   },
   "cell_type": "markdown",
   "id": "c72ba1e8",
   "metadata": {},
   "source": [
    "\n",
    "![Screenshot%20%28159%29.png](attachment:Screenshot%20%28159%29.png)"
   ]
  },
  {
   "cell_type": "code",
   "execution_count": 34,
   "id": "5dc1b0da",
   "metadata": {},
   "outputs": [
    {
     "name": "stdout",
     "output_type": "stream",
     "text": [
      " List1 :[1, 2]\n",
      " List2 :[1, 1]\n"
     ]
    }
   ],
   "source": [
    "# this problem can be solved with copy\n",
    "list1 = [1, 2]\n",
    "\n",
    "list2 = list1.copy()\n",
    "\n",
    "list2[1] = 1\n",
    "\n",
    "print(f' List1 :{list1}')\n",
    "print(f' List2 :{list2}')"
   ]
  },
  {
   "attachments": {
    "Screenshot%20%28160%29.png": {
     "image/png": "[encoded data removed]"
    }
   },
   "cell_type": "markdown",
   "id": "bfbf6fe8",
   "metadata": {},
   "source": [
    "![Screenshot%20%28160%29.png](attachment:Screenshot%20%28160%29.png)"
   ]
  },
  {
   "cell_type": "code",
   "execution_count": 35,
   "id": "1b896b60",
   "metadata": {},
   "outputs": [
    {
     "name": "stdout",
     "output_type": "stream",
     "text": [
      " List1 :[[1, 1], 3]\n",
      " List2 :[[1, 1], 3]\n"
     ]
    }
   ],
   "source": [
    "list1 = [[1, 2], 3]\n",
    "\n",
    "list2 = list1.copy()\n",
    "\n",
    "list2[0][1] = 1\n",
    "\n",
    "print(f' List1 :{list1}')\n",
    "print(f' List2 :{list2}')"
   ]
  },
  {
   "attachments": {
    "Screenshot%20%28161%29.png": {
     "image/png": "[encoded data removed]"
    }
   },
   "cell_type": "markdown",
   "id": "b84d08e2",
   "metadata": {},
   "source": [
    "![Screenshot%20%28161%29.png](attachment:Screenshot%20%28161%29.png)"
   ]
  },
  {
   "cell_type": "code",
   "execution_count": null,
   "id": "4e57965d",
   "metadata": {},
   "outputs": [],
   "source": [
    "# in this case the above problem can be solved with deepcopy"
   ]
  },
  {
   "attachments": {
    "Screenshot%20%28162%29.png": {
     "image/png": "[encoded data removed]"
    }
   },
   "cell_type": "markdown",
   "id": "ba9a5bdc",
   "metadata": {},
   "source": [
    "![Screenshot%20%28162%29.png](attachment:Screenshot%20%28162%29.png)"
   ]
  },
  {
   "cell_type": "code",
   "execution_count": 37,
   "id": "ce62ba1b",
   "metadata": {},
   "outputs": [
    {
     "name": "stdout",
     "output_type": "stream",
     "text": [
      " List1 :[[1, 2], 3]\n",
      " List2 :[[1, 1], 3]\n"
     ]
    }
   ],
   "source": [
    "from copy import deepcopy\n",
    "\n",
    "list1 = [[1,2], 3]\n",
    "\n",
    "list2 = deepcopy(list1)\n",
    "\n",
    "list2[0][1] = 1\n",
    "\n",
    "print(f' List1 :{list1}')\n",
    "print(f' List2 :{list2}')"
   ]
  },
  {
   "cell_type": "code",
   "execution_count": 52,
   "id": "7c64e1ff",
   "metadata": {},
   "outputs": [
    {
     "name": "stdout",
     "output_type": "stream",
     "text": [
      "inner input : [2, 2]\n",
      "global variable : [2, 2]\n"
     ]
    }
   ],
   "source": [
    "lst = [2, 10]\n",
    "\n",
    "def func__(input_: list):\n",
    "    input_[1] = 2\n",
    "    print(f'inner input : {input_}')\n",
    "\n",
    "func__(lst)\n",
    "print(f'global variable : {lst}')"
   ]
  },
  {
   "cell_type": "code",
   "execution_count": 54,
   "id": "ccf25d73",
   "metadata": {},
   "outputs": [
    {
     "name": "stdout",
     "output_type": "stream",
     "text": [
      "Inner input : [2, 2]\n",
      "\n",
      "global variable : [2, 10]\n"
     ]
    }
   ],
   "source": [
    "from copy import deepcopy\n",
    "lst = [2, 10]\n",
    "\n",
    "def func__(input_: list):\n",
    "    input_ = deepcopy(lst)\n",
    "    input_[1] = 2\n",
    "    print(f'Inner input : {input_}')\n",
    "\n",
    "func__(lst)\n",
    "print()\n",
    "print(f'global variable : {lst}')"
   ]
  },
  {
   "cell_type": "code",
   "execution_count": 56,
   "id": "28e32148",
   "metadata": {},
   "outputs": [
    {
     "name": "stdout",
     "output_type": "stream",
     "text": [
      "Inner input : [5, 10]\n",
      "global varaiable : [5, 10]\n"
     ]
    }
   ],
   "source": [
    "c = [0, 10]\n",
    "\n",
    "def add():\n",
    "    c[0] = c[0] + 5\n",
    "    print(f'Inner input : {c}')\n",
    "    \n",
    "add()\n",
    "print(f'global varaiable : {c}')\n",
    "          "
   ]
  },
  {
   "cell_type": "code",
   "execution_count": 57,
   "id": "ed3e86af",
   "metadata": {},
   "outputs": [
    {
     "ename": "UnboundLocalError",
     "evalue": "local variable 'c' referenced before assignment",
     "output_type": "error",
     "traceback": [
      "\u001b[1;31m---------------------------------------------------------------------------\u001b[0m",
      "\u001b[1;31mUnboundLocalError\u001b[0m                         Traceback (most recent call last)",
      "Cell \u001b[1;32mIn [57], line 7\u001b[0m\n\u001b[0;32m      4\u001b[0m     c \u001b[38;5;241m=\u001b[39m c[\u001b[38;5;241m0\u001b[39m] \u001b[38;5;241m+\u001b[39m \u001b[38;5;241m5\u001b[39m\n\u001b[0;32m      5\u001b[0m     \u001b[38;5;28mprint\u001b[39m(\u001b[38;5;124mf\u001b[39m\u001b[38;5;124m'\u001b[39m\u001b[38;5;124mInner input : \u001b[39m\u001b[38;5;132;01m{\u001b[39;00mc\u001b[38;5;132;01m}\u001b[39;00m\u001b[38;5;124m'\u001b[39m)\n\u001b[1;32m----> 7\u001b[0m \u001b[43madd\u001b[49m\u001b[43m(\u001b[49m\u001b[43m)\u001b[49m\n\u001b[0;32m      8\u001b[0m \u001b[38;5;28mprint\u001b[39m(\u001b[38;5;124mf\u001b[39m\u001b[38;5;124m'\u001b[39m\u001b[38;5;124mglobal varaiable : \u001b[39m\u001b[38;5;132;01m{\u001b[39;00mc\u001b[38;5;132;01m}\u001b[39;00m\u001b[38;5;124m'\u001b[39m)\n",
      "Cell \u001b[1;32mIn [57], line 4\u001b[0m, in \u001b[0;36madd\u001b[1;34m()\u001b[0m\n\u001b[0;32m      3\u001b[0m \u001b[38;5;28;01mdef\u001b[39;00m \u001b[38;5;21madd\u001b[39m():\n\u001b[1;32m----> 4\u001b[0m     c \u001b[38;5;241m=\u001b[39m \u001b[43mc\u001b[49m[\u001b[38;5;241m0\u001b[39m] \u001b[38;5;241m+\u001b[39m \u001b[38;5;241m5\u001b[39m\n\u001b[0;32m      5\u001b[0m     \u001b[38;5;28mprint\u001b[39m(\u001b[38;5;124mf\u001b[39m\u001b[38;5;124m'\u001b[39m\u001b[38;5;124mInner input : \u001b[39m\u001b[38;5;132;01m{\u001b[39;00mc\u001b[38;5;132;01m}\u001b[39;00m\u001b[38;5;124m'\u001b[39m)\n",
      "\u001b[1;31mUnboundLocalError\u001b[0m: local variable 'c' referenced before assignment"
     ]
    }
   ],
   "source": [
    "c = [0, 10]\n",
    "\n",
    "def add():\n",
    "    \n",
    "    c = c[0] + 5\n",
    "    print(f'Inner input : {c}')\n",
    "    \n",
    "add()\n",
    "print(f'global varaiable : {c}')"
   ]
  },
  {
   "cell_type": "code",
   "execution_count": 58,
   "id": "61bedb8f",
   "metadata": {},
   "outputs": [
    {
     "name": "stdout",
     "output_type": "stream",
     "text": [
      "Inner input : 5\n",
      "global varaiable : 5\n"
     ]
    }
   ],
   "source": [
    "c = [0, 10]\n",
    "\n",
    "def add():\n",
    "    global c\n",
    "    c = c[0] + 5\n",
    "    print(f'Inner input : {c}')\n",
    "    \n",
    "add()\n",
    "print(f'global varaiable : {c}')"
   ]
  }
 ],
 "metadata": {
  "kernelspec": {
   "display_name": "Python 3 (ipykernel)",
   "language": "python",
   "name": "python3"
  },
  "language_info": {
   "codemirror_mode": {
    "name": "ipython",
    "version": 3
   },
   "file_extension": ".py",
   "mimetype": "text/x-python",
   "name": "python",
   "nbconvert_exporter": "python",
   "pygments_lexer": "ipython3",
   "version": "3.9.15"
  }
 },
 "nbformat": 4,
 "nbformat_minor": 5
}
