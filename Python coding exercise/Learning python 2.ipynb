{
 "cells": [
  {
   "cell_type": "code",
   "execution_count": 11,
   "id": "6d4db7d2",
   "metadata": {},
   "outputs": [
    {
     "name": "stdout",
     "output_type": "stream",
     "text": [
      "(3, 5)\n",
      "((2, 3, 5), 'ali', 2.9, 2, (2, 3, 5), 'ali', 2.9, 2)\n",
      "((2, 3, 5), 'ali', 2.9, 2, 'reza', 1, (4, 9))\n"
     ]
    }
   ],
   "source": [
    "Tuple = ((2,3,5), \"ali\", 2.9, 2)\n",
    "Tuple_1=(\"reza\", 1, (4,9))\n",
    "\n",
    "print(Tuple[0][1:3])\n",
    "\n",
    "print(Tuple*2)\n",
    "print(Tuple + Tuple_1)\n"
   ]
  },
  {
   "cell_type": "code",
   "execution_count": 12,
   "id": "c8d4dfd4",
   "metadata": {},
   "outputs": [
    {
     "name": "stdout",
     "output_type": "stream",
     "text": [
      "('sfds2', (2, 3, 5), 'ali', 2.9, 2, 'reza', 1, (4, 9))\n"
     ]
    }
   ],
   "source": [
    "print((\"sfds2\", *Tuple, *Tuple_1))"
   ]
  },
  {
   "cell_type": "code",
   "execution_count": 13,
   "id": "75cef051",
   "metadata": {},
   "outputs": [
    {
     "data": {
      "text/plain": [
       "('sfds2', (2, 3, 5), 'ali', 2.9, 2, 'reza', 1, (4, 9))"
      ]
     },
     "execution_count": 13,
     "metadata": {},
     "output_type": "execute_result"
    }
   ],
   "source": [
    "Tuple_3 = (\"sfds2\", *Tuple, *Tuple_1)\n",
    "Tuple_3"
   ]
  },
  {
   "cell_type": "code",
   "execution_count": 14,
   "id": "aab013c2",
   "metadata": {},
   "outputs": [
    {
     "data": {
      "text/plain": [
       "8"
      ]
     },
     "execution_count": 14,
     "metadata": {},
     "output_type": "execute_result"
    }
   ],
   "source": [
    "len(Tuple_3)"
   ]
  },
  {
   "cell_type": "code",
   "execution_count": 15,
   "id": "fa342a71",
   "metadata": {},
   "outputs": [
    {
     "data": {
      "text/plain": [
       "tuple"
      ]
     },
     "execution_count": 15,
     "metadata": {},
     "output_type": "execute_result"
    }
   ],
   "source": [
    "tuple_ = (1,)\n",
    "type(tuple_)"
   ]
  },
  {
   "cell_type": "code",
   "execution_count": 16,
   "id": "eb159bf5",
   "metadata": {},
   "outputs": [
    {
     "name": "stdout",
     "output_type": "stream",
     "text": [
      "2\n",
      "\n",
      "The first index of item 2 is : 3\n"
     ]
    }
   ],
   "source": [
    "Tuple_4 = ((2,3,5), \"ali\", 2.9, 2, 56, 2)\n",
    "value = 2\n",
    "print(Tuple_4.count(value))\n",
    "print()\n",
    "print(f'The first index of item {value} is : {Tuple_4.index(value)}')\n"
   ]
  },
  {
   "cell_type": "code",
   "execution_count": 17,
   "id": "3d6c019b",
   "metadata": {},
   "outputs": [
    {
     "name": "stdout",
     "output_type": "stream",
     "text": [
      "{1, '7', 'amin', 5, 'reza'}\n"
     ]
    }
   ],
   "source": [
    "set_ = {\"amin\", 1, 5, '7', \"reza\", \"amin\", '7', 5, 5}\n",
    "print(set_)"
   ]
  },
  {
   "cell_type": "code",
   "execution_count": 18,
   "id": "5e0e8a8c",
   "metadata": {},
   "outputs": [
    {
     "name": "stdout",
     "output_type": "stream",
     "text": [
      "{1, '7', 'amin', 5, 'reza', 7}\n",
      "{1, 'amin', 7, '7'}\n",
      "{1, '7', 'amin'}\n",
      "{5, 'reza'}\n"
     ]
    }
   ],
   "source": [
    "set_1 = {'reza', 7, 5}\n",
    "\n",
    "print(set_ | set_1)\n",
    "print(set_ ^ set_1)\n",
    "print(set_ - set_1)\n",
    "print(set_ & set_1)"
   ]
  },
  {
   "cell_type": "code",
   "execution_count": 19,
   "id": "bfdaa727",
   "metadata": {},
   "outputs": [
    {
     "name": "stdout",
     "output_type": "stream",
     "text": [
      "5\n"
     ]
    }
   ],
   "source": [
    "print(len(set_))"
   ]
  },
  {
   "cell_type": "code",
   "execution_count": 20,
   "id": "40426f51",
   "metadata": {},
   "outputs": [
    {
     "ename": "SyntaxError",
     "evalue": "invalid syntax (3258411022.py, line 3)",
     "output_type": "error",
     "traceback": [
      "\u001b[1;36m  Cell \u001b[1;32mIn [20], line 3\u001b[1;36m\u001b[0m\n\u001b[1;33m    set_2  set(list_)\u001b[0m\n\u001b[1;37m           ^\u001b[0m\n\u001b[1;31mSyntaxError\u001b[0m\u001b[1;31m:\u001b[0m invalid syntax\n"
     ]
    }
   ],
   "source": [
    "list_ = [1, 4, 5, 'amir']\n",
    "\n",
    "set_2  set(list_)\n",
    "print(set_2)"
   ]
  },
  {
   "cell_type": "code",
   "execution_count": 21,
   "id": "33ad55b6",
   "metadata": {},
   "outputs": [
    {
     "name": "stdout",
     "output_type": "stream",
     "text": [
      "{1, 'amir', 4, 5}\n"
     ]
    }
   ],
   "source": [
    "list_ = [1, 4, 5, 'amir']\n",
    "\n",
    "set_2 = set(list_)\n",
    "print(set_2)"
   ]
  },
  {
   "cell_type": "code",
   "execution_count": 22,
   "id": "ba033c93",
   "metadata": {},
   "outputs": [
    {
     "data": {
      "text/plain": [
       "{1, 4, 5, 'amir', 'ramin'}"
      ]
     },
     "execution_count": 22,
     "metadata": {},
     "output_type": "execute_result"
    }
   ],
   "source": [
    "set_2.add('ramin')\n",
    "set_2"
   ]
  },
  {
   "cell_type": "code",
   "execution_count": 23,
   "id": "fd64071d",
   "metadata": {},
   "outputs": [
    {
     "data": {
      "text/plain": [
       "{4, 5, 'amir', 'ramin'}"
      ]
     },
     "execution_count": 23,
     "metadata": {},
     "output_type": "execute_result"
    }
   ],
   "source": [
    "set_2.pop()\n",
    "set_2"
   ]
  },
  {
   "cell_type": "code",
   "execution_count": 24,
   "id": "dffb8288",
   "metadata": {},
   "outputs": [
    {
     "data": {
      "text/plain": [
       "{4, 5, 'ramin'}"
      ]
     },
     "execution_count": 24,
     "metadata": {},
     "output_type": "execute_result"
    }
   ],
   "source": [
    "set_2.pop()\n",
    "set_2"
   ]
  },
  {
   "cell_type": "code",
   "execution_count": 25,
   "id": "ecbad100",
   "metadata": {},
   "outputs": [
    {
     "ename": "TypeError",
     "evalue": "set.pop() takes no arguments (1 given)",
     "output_type": "error",
     "traceback": [
      "\u001b[1;31m---------------------------------------------------------------------------\u001b[0m",
      "\u001b[1;31mTypeError\u001b[0m                                 Traceback (most recent call last)",
      "Cell \u001b[1;32mIn [25], line 1\u001b[0m\n\u001b[1;32m----> 1\u001b[0m \u001b[43mset_2\u001b[49m\u001b[38;5;241;43m.\u001b[39;49m\u001b[43mpop\u001b[49m\u001b[43m(\u001b[49m\u001b[38;5;124;43m'\u001b[39;49m\u001b[38;5;124;43mramin\u001b[39;49m\u001b[38;5;124;43m'\u001b[39;49m\u001b[43m)\u001b[49m\n\u001b[0;32m      2\u001b[0m set_2\n",
      "\u001b[1;31mTypeError\u001b[0m: set.pop() takes no arguments (1 given)"
     ]
    }
   ],
   "source": [
    "set_2.pop('ramin')\n",
    "set_2"
   ]
  },
  {
   "cell_type": "code",
   "execution_count": 26,
   "id": "1cab34df",
   "metadata": {},
   "outputs": [],
   "source": [
    "set_2.add(\"Amir\")"
   ]
  },
  {
   "cell_type": "code",
   "execution_count": 27,
   "id": "a913af98",
   "metadata": {},
   "outputs": [
    {
     "data": {
      "text/plain": [
       "{4, 5, 'Amir', 'ramin'}"
      ]
     },
     "execution_count": 27,
     "metadata": {},
     "output_type": "execute_result"
    }
   ],
   "source": [
    "set_2"
   ]
  },
  {
   "cell_type": "code",
   "execution_count": 28,
   "id": "2dc2fcf9",
   "metadata": {},
   "outputs": [
    {
     "ename": "KeyError",
     "evalue": "'amir'",
     "output_type": "error",
     "traceback": [
      "\u001b[1;31m---------------------------------------------------------------------------\u001b[0m",
      "\u001b[1;31mKeyError\u001b[0m                                  Traceback (most recent call last)",
      "Cell \u001b[1;32mIn [28], line 1\u001b[0m\n\u001b[1;32m----> 1\u001b[0m \u001b[43mset_2\u001b[49m\u001b[38;5;241;43m.\u001b[39;49m\u001b[43mremove\u001b[49m\u001b[43m(\u001b[49m\u001b[38;5;124;43m\"\u001b[39;49m\u001b[38;5;124;43mamir\u001b[39;49m\u001b[38;5;124;43m\"\u001b[39;49m\u001b[43m)\u001b[49m\n",
      "\u001b[1;31mKeyError\u001b[0m: 'amir'"
     ]
    }
   ],
   "source": [
    "set_2.remove(\"amir\")"
   ]
  },
  {
   "cell_type": "code",
   "execution_count": 29,
   "id": "655194e0",
   "metadata": {},
   "outputs": [
    {
     "data": {
      "text/plain": [
       "{4, 5, 'Amir', 'ramin'}"
      ]
     },
     "execution_count": 29,
     "metadata": {},
     "output_type": "execute_result"
    }
   ],
   "source": [
    "set_2"
   ]
  },
  {
   "cell_type": "code",
   "execution_count": 30,
   "id": "41bb1cda",
   "metadata": {},
   "outputs": [],
   "source": [
    "set_3 = {1, 3, 'ali', (2,'amir')}"
   ]
  },
  {
   "cell_type": "code",
   "execution_count": 31,
   "id": "0c300c78",
   "metadata": {},
   "outputs": [
    {
     "data": {
      "text/plain": [
       "{(2, 'amir'), 1, 3, 'ali'}"
      ]
     },
     "execution_count": 31,
     "metadata": {},
     "output_type": "execute_result"
    }
   ],
   "source": [
    "set_3"
   ]
  },
  {
   "cell_type": "code",
   "execution_count": 32,
   "id": "911e4508",
   "metadata": {},
   "outputs": [
    {
     "ename": "TypeError",
     "evalue": "unhashable type: 'list'",
     "output_type": "error",
     "traceback": [
      "\u001b[1;31m---------------------------------------------------------------------------\u001b[0m",
      "\u001b[1;31mTypeError\u001b[0m                                 Traceback (most recent call last)",
      "Cell \u001b[1;32mIn [32], line 1\u001b[0m\n\u001b[1;32m----> 1\u001b[0m set_4 \u001b[38;5;241m=\u001b[39m {\u001b[38;5;241m1\u001b[39m, \u001b[38;5;241m4\u001b[39m, [\u001b[38;5;241m2\u001b[39m, \u001b[38;5;124m'\u001b[39m\u001b[38;5;124mafs\u001b[39m\u001b[38;5;124m'\u001b[39m]}\n",
      "\u001b[1;31mTypeError\u001b[0m: unhashable type: 'list'"
     ]
    }
   ],
   "source": [
    "set_4 = {1, 4, [2, 'afs']}"
   ]
  },
  {
   "cell_type": "code",
   "execution_count": 33,
   "id": "1ce51c02",
   "metadata": {},
   "outputs": [
    {
     "ename": "TypeError",
     "evalue": "unhashable type: 'set'",
     "output_type": "error",
     "traceback": [
      "\u001b[1;31m---------------------------------------------------------------------------\u001b[0m",
      "\u001b[1;31mTypeError\u001b[0m                                 Traceback (most recent call last)",
      "Cell \u001b[1;32mIn [33], line 1\u001b[0m\n\u001b[1;32m----> 1\u001b[0m set_4 \u001b[38;5;241m=\u001b[39m {\u001b[38;5;241m1\u001b[39m, \u001b[38;5;241m5\u001b[39m, {\u001b[38;5;241m2\u001b[39m, \u001b[38;5;124m'\u001b[39m\u001b[38;5;124ma\u001b[39m\u001b[38;5;124m'\u001b[39m}, \u001b[38;5;241m1\u001b[39m}\n",
      "\u001b[1;31mTypeError\u001b[0m: unhashable type: 'set'"
     ]
    }
   ],
   "source": [
    "set_4 = {1, 5, {2, 'a'}, 1}"
   ]
  },
  {
   "cell_type": "markdown",
   "id": "81aa43a1",
   "metadata": {},
   "source": [
    "## Dictionary"
   ]
  },
  {
   "cell_type": "code",
   "execution_count": 34,
   "id": "2731835d",
   "metadata": {},
   "outputs": [
    {
     "name": "stdout",
     "output_type": "stream",
     "text": [
      "{'Iran': 'Tehran', 'Turkey': 'Ankara', 'Deutschland': 'Berlin', 'Frankreich': 'lisbon'}\n",
      "{'Iran': 'Tehran', 'Turkey': 'Ankara', 'Deutschland': 'Berlin', 'Italy': 'Rome'}\n"
     ]
    }
   ],
   "source": [
    "dic = {'Iran': 'Tehran',\n",
    "       'Turkey': 'Ankara',\n",
    "       'Deutschland': 'Berlin',\n",
    "       'Frankreich': 'lisbon'}\n",
    "# or \n",
    "\n",
    "dic_1 = dict( Iran = \"Tehran\", Turkey = \"Ankara\", Deutschland = 'Berlin', Italy = \"Rome\" )\n",
    "\n",
    "print (dic, dic_1 , sep = '\\n')"
   ]
  },
  {
   "cell_type": "code",
   "execution_count": 35,
   "id": "a05edb83",
   "metadata": {},
   "outputs": [
    {
     "name": "stdout",
     "output_type": "stream",
     "text": [
      "{'Iran': 'Tehran', 'Turkey': 'Ankara', 'Deutschland': 'Berlin', 'Frankreich': 'lisbon', 'Spain': 'Madrid'}\n"
     ]
    }
   ],
   "source": [
    "dic[\"Spain\"] = \"Madrid\"\n",
    "print(dic)"
   ]
  },
  {
   "cell_type": "code",
   "execution_count": 36,
   "id": "9a765e2c",
   "metadata": {},
   "outputs": [],
   "source": [
    "dic[\"Frankreich\"] = \"Paris\""
   ]
  },
  {
   "cell_type": "code",
   "execution_count": 37,
   "id": "3eb208c5",
   "metadata": {},
   "outputs": [
    {
     "data": {
      "text/plain": [
       "{'Iran': 'Tehran',\n",
       " 'Turkey': 'Ankara',\n",
       " 'Deutschland': 'Berlin',\n",
       " 'Frankreich': 'Paris',\n",
       " 'Spain': 'Madrid'}"
      ]
     },
     "execution_count": 37,
     "metadata": {},
     "output_type": "execute_result"
    }
   ],
   "source": [
    "dic"
   ]
  },
  {
   "cell_type": "code",
   "execution_count": 38,
   "id": "6fbee3f5",
   "metadata": {},
   "outputs": [
    {
     "name": "stdout",
     "output_type": "stream",
     "text": [
      "{'Iran': 'Tehran', 'Turkey': 'Ankara', 'Deutschland': 'Berlin', 'Frankreich': 'Paris', 'Spain': 'Madrid'}\n"
     ]
    }
   ],
   "source": [
    "print(dic)"
   ]
  },
  {
   "cell_type": "code",
   "execution_count": 39,
   "id": "504be2c9",
   "metadata": {},
   "outputs": [
    {
     "data": {
      "text/plain": [
       "{'Iran': 'Tehran',\n",
       " 'Deutschland': 'Berlin',\n",
       " 'Frankreich': 'Paris',\n",
       " 'Spain': 'Madrid'}"
      ]
     },
     "execution_count": 39,
     "metadata": {},
     "output_type": "execute_result"
    }
   ],
   "source": [
    "del dic[\"Turkey\"]\n",
    "dic"
   ]
  },
  {
   "cell_type": "code",
   "execution_count": 40,
   "id": "7b730354",
   "metadata": {},
   "outputs": [],
   "source": [
    "dic.update(dic_1)"
   ]
  },
  {
   "cell_type": "code",
   "execution_count": 41,
   "id": "44605b19",
   "metadata": {},
   "outputs": [
    {
     "data": {
      "text/plain": [
       "{'Iran': 'Tehran',\n",
       " 'Deutschland': 'Berlin',\n",
       " 'Frankreich': 'Paris',\n",
       " 'Spain': 'Madrid',\n",
       " 'Turkey': 'Ankara',\n",
       " 'Italy': 'Rome'}"
      ]
     },
     "execution_count": 41,
     "metadata": {},
     "output_type": "execute_result"
    }
   ],
   "source": [
    "dic"
   ]
  },
  {
   "cell_type": "code",
   "execution_count": 42,
   "id": "7868291d",
   "metadata": {},
   "outputs": [
    {
     "data": {
      "text/plain": [
       "dict_keys(['Iran', 'Deutschland', 'Frankreich', 'Spain', 'Turkey', 'Italy'])"
      ]
     },
     "execution_count": 42,
     "metadata": {},
     "output_type": "execute_result"
    }
   ],
   "source": [
    "dic.keys()"
   ]
  },
  {
   "cell_type": "code",
   "execution_count": 43,
   "id": "685e2a50",
   "metadata": {},
   "outputs": [
    {
     "name": "stdout",
     "output_type": "stream",
     "text": [
      "Ankara\n"
     ]
    }
   ],
   "source": [
    "value = dic.get(\"Turkey\", None)\n",
    "print(value)"
   ]
  },
  {
   "cell_type": "code",
   "execution_count": 44,
   "id": "96b9d295",
   "metadata": {},
   "outputs": [
    {
     "name": "stdout",
     "output_type": "stream",
     "text": [
      "False Key\n"
     ]
    }
   ],
   "source": [
    "value = dic.get(\"Germany\", \"False Key\")\n",
    "print(value)"
   ]
  },
  {
   "cell_type": "code",
   "execution_count": 45,
   "id": "5f3948bd",
   "metadata": {},
   "outputs": [
    {
     "data": {
      "text/plain": [
       "{'Iran': 'Tehran',\n",
       " 'Deutschland': 'Berlin',\n",
       " 'Frankreich': 'Paris',\n",
       " 'Spain': 'Madrid',\n",
       " 'Turkey': 'Ankara',\n",
       " 'Italy': 'Rome'}"
      ]
     },
     "execution_count": 45,
     "metadata": {},
     "output_type": "execute_result"
    }
   ],
   "source": [
    "dic"
   ]
  },
  {
   "cell_type": "code",
   "execution_count": 46,
   "id": "f339e294",
   "metadata": {},
   "outputs": [
    {
     "data": {
      "text/plain": [
       "dict_values(['Tehran', 'Berlin', 'Paris', 'Madrid', 'Ankara', 'Rome'])"
      ]
     },
     "execution_count": 46,
     "metadata": {},
     "output_type": "execute_result"
    }
   ],
   "source": [
    "dic.values()"
   ]
  },
  {
   "cell_type": "code",
   "execution_count": 47,
   "id": "079b840c",
   "metadata": {},
   "outputs": [
    {
     "data": {
      "text/plain": [
       "dict_items([('Iran', 'Tehran'), ('Deutschland', 'Berlin'), ('Frankreich', 'Paris'), ('Spain', 'Madrid'), ('Turkey', 'Ankara'), ('Italy', 'Rome')])"
      ]
     },
     "execution_count": 47,
     "metadata": {},
     "output_type": "execute_result"
    }
   ],
   "source": [
    "dic.items()"
   ]
  },
  {
   "cell_type": "code",
   "execution_count": 53,
   "id": "bf0da064",
   "metadata": {},
   "outputs": [
    {
     "data": {
      "text/plain": [
       "(dict, dict, set)"
      ]
     },
     "execution_count": 53,
     "metadata": {},
     "output_type": "execute_result"
    }
   ],
   "source": [
    "empty_dict = dict()\n",
    "empty_dict_1 = {}\n",
    "empty_set = set()\n",
    "type(empty_dict) , type(empty_dict_1),type(empty_set)"
   ]
  },
  {
   "cell_type": "code",
   "execution_count": null,
   "id": "c32a2ef5",
   "metadata": {},
   "outputs": [],
   "source": []
  }
 ],
 "metadata": {
  "kernelspec": {
   "display_name": "Python 3 (ipykernel)",
   "language": "python",
   "name": "python3"
  },
  "language_info": {
   "codemirror_mode": {
    "name": "ipython",
    "version": 3
   },
   "file_extension": ".py",
   "mimetype": "text/x-python",
   "name": "python",
   "nbconvert_exporter": "python",
   "pygments_lexer": "ipython3",
   "version": "3.9.15"
  }
 },
 "nbformat": 4,
 "nbformat_minor": 5
}
