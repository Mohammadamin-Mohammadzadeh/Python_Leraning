{
 "cells": [
  {
   "cell_type": "markdown",
   "id": "0152a43a",
   "metadata": {},
   "source": [
    "## Comprehension\n",
    "\n",
    "##### single line structure (for loop : if ):\n",
    "variable-name=if-output    if-condition    else   else-output"
   ]
  },
  {
   "cell_type": "code",
   "execution_count": 1,
   "id": "6714f9f7",
   "metadata": {},
   "outputs": [
    {
     "name": "stdout",
     "output_type": "stream",
     "text": [
      "10\n"
     ]
    }
   ],
   "source": [
    "x = 10\n",
    "if x == 1:\n",
    "    y = 20\n",
    "else:\n",
    "    y = 10\n",
    "\n",
    "print(y)"
   ]
  },
  {
   "cell_type": "code",
   "execution_count": 3,
   "id": "9869a67e",
   "metadata": {},
   "outputs": [
    {
     "name": "stdout",
     "output_type": "stream",
     "text": [
      "7\n"
     ]
    }
   ],
   "source": [
    "# Single line\n",
    "\n",
    "x = 5\n",
    "\n",
    "y = 20 if x == 1 else 7\n",
    "\n",
    "print(y)"
   ]
  },
  {
   "cell_type": "code",
   "execution_count": 4,
   "id": "e5773475",
   "metadata": {},
   "outputs": [
    {
     "name": "stdout",
     "output_type": "stream",
     "text": [
      "<\n"
     ]
    }
   ],
   "source": [
    "# if elif else\n",
    "\n",
    "x = 1\n",
    "y = 2\n",
    "\n",
    "output = '=' if x == y else \"<\" if x < y else '>'\n",
    "\n",
    "print(output)"
   ]
  },
  {
   "cell_type": "code",
   "execution_count": 7,
   "id": "8d42ed85",
   "metadata": {},
   "outputs": [
    {
     "name": "stdout",
     "output_type": "stream",
     "text": [
      "val is lower than 10 \n"
     ]
    }
   ],
   "source": [
    "val = 9\n",
    "\n",
    "output = \" val is biger than 10\" if val > 10 else 'val is equal 10' if val == 10 else 'val is lower than 10 '\n",
    "\n",
    "print(output)"
   ]
  },
  {
   "cell_type": "code",
   "execution_count": 19,
   "id": "1b59ea82",
   "metadata": {},
   "outputs": [
    {
     "name": "stdout",
     "output_type": "stream",
     "text": [
      "[0, 1, 4, 9, 16, 25, 36, 49, 64, 81]\n"
     ]
    }
   ],
   "source": [
    "# for-loop in list\n",
    "#Structure : variable_name = [output for-loop]\n",
    "\n",
    "lst = []\n",
    "for i in range(10):\n",
    "    lst.append(i**2)\n",
    "print(lst)"
   ]
  },
  {
   "cell_type": "code",
   "execution_count": 18,
   "id": "92e840f5",
   "metadata": {},
   "outputs": [
    {
     "name": "stdout",
     "output_type": "stream",
     "text": [
      "[0, 1, 4, 9, 16, 25, 36, 49, 64, 81]\n"
     ]
    }
   ],
   "source": [
    "lst_ = []\n",
    "lst_ = [i**2 for i in range(10)]\n",
    "print(lst)"
   ]
  },
  {
   "cell_type": "code",
   "execution_count": 27,
   "id": "789c0560",
   "metadata": {},
   "outputs": [
    {
     "name": "stdout",
     "output_type": "stream",
     "text": [
      "[0, 8, 64, 216, 512]\n"
     ]
    }
   ],
   "source": [
    "lst1 = []\n",
    "\n",
    "for i in range(10):\n",
    "    if i % 2 == 0:\n",
    "        lst1.append(i**3)\n",
    "print(lst1)"
   ]
  },
  {
   "cell_type": "code",
   "execution_count": 28,
   "id": "ed2ec3e8",
   "metadata": {},
   "outputs": [
    {
     "name": "stdout",
     "output_type": "stream",
     "text": [
      "[0, 8, 64, 216, 512]\n"
     ]
    }
   ],
   "source": [
    "# The numbers one to nine are raised to the power of tree and put into a list:\n",
    "# This code in single line works only for ifs with no else statement\n",
    "#variable_name = [output for-loop condition]\n",
    "\n",
    "lst2 = []\n",
    "lst2 = [i**3 for i in range(10) if i % 2 == 0]\n",
    "print(lst2)"
   ]
  },
  {
   "cell_type": "code",
   "execution_count": 35,
   "id": "68fa180f",
   "metadata": {},
   "outputs": [
    {
     "name": "stdout",
     "output_type": "stream",
     "text": [
      "[100, -11, 144, -13, 196, -15, 256, -17, 324, -19]\n"
     ]
    }
   ],
   "source": [
    "# condition with if and else statement\n",
    "lst3 = []\n",
    "lst3 =[i**2 if i % 2 == 0 else -i for i in range(10, 20)]\n",
    "print(lst3)"
   ]
  },
  {
   "cell_type": "code",
   "execution_count": 60,
   "id": "453ae130",
   "metadata": {},
   "outputs": [
    {
     "name": "stdout",
     "output_type": "stream",
     "text": [
      "[100, -11, 144, -13, 196, -15, 256, -17, 324, -19]\n"
     ]
    }
   ],
   "source": [
    "lst4 = []\n",
    "\n",
    "for i in range(10, 20):\n",
    "    if i % 2 == 0:\n",
    "        lst4.append(i**2)\n",
    "    else :\n",
    "        lst4.append(-i)\n",
    "print(lst4)"
   ]
  },
  {
   "cell_type": "code",
   "execution_count": 59,
   "id": "8c7c6928",
   "metadata": {},
   "outputs": [
    {
     "data": {
      "text/plain": [
       "[[(10, 1), (10, 2), (10, 3)],\n",
       " [(11, 1), (11, 2), (11, 3)],\n",
       " [(12, 1), (12, 2), (12, 3)],\n",
       " [(13, 1), (13, 2), (13, 3)],\n",
       " [(14, 1), (14, 2), (14, 3)]]"
      ]
     },
     "execution_count": 59,
     "metadata": {},
     "output_type": "execute_result"
    }
   ],
   "source": [
    "# nested list\n",
    "\n",
    "nest_listt = [[(k1, k2) for k2 in range(1, 4)] for k1 in range(10,15)]\n",
    "nest_listt"
   ]
  },
  {
   "cell_type": "code",
   "execution_count": 58,
   "id": "c20e17c2",
   "metadata": {},
   "outputs": [
    {
     "data": {
      "text/plain": [
       "[[(0, 4), (0, 3), (0, 2), (0, 1), (0, 0)],\n",
       " [(1, 4), (1, 3), (1, 2), (1, 1), (1, 0)],\n",
       " [(2, 4), (2, 3), (2, 2), (2, 1), (2, 0)],\n",
       " [(3, 4), (3, 3), (3, 2), (3, 1), (3, 0)],\n",
       " [(4, 4), (4, 3), (4, 2), (4, 1), (4, 0)]]"
      ]
     },
     "execution_count": 58,
     "metadata": {},
     "output_type": "execute_result"
    }
   ],
   "source": [
    "nest_listtt = [[(k1, k2) for k2 in reversed(range(0, 5))] for k1 in range(0, 5)]\n",
    "nest_listtt"
   ]
  },
  {
   "cell_type": "code",
   "execution_count": 57,
   "id": "7a7d4d50",
   "metadata": {},
   "outputs": [
    {
     "data": {
      "text/plain": [
       "[(0, 0),\n",
       " (0, 1),\n",
       " (0, 2),\n",
       " (0, 3),\n",
       " (0, 4),\n",
       " (1, 0),\n",
       " (1, 1),\n",
       " (1, 2),\n",
       " (1, 3),\n",
       " (1, 4),\n",
       " (2, 0),\n",
       " (2, 1),\n",
       " (2, 2),\n",
       " (2, 3),\n",
       " (2, 4),\n",
       " (3, 0),\n",
       " (3, 1),\n",
       " (3, 2),\n",
       " (3, 3),\n",
       " (3, 4),\n",
       " (4, 0),\n",
       " (4, 1),\n",
       " (4, 2),\n",
       " (4, 3),\n",
       " (4, 4)]"
      ]
     },
     "execution_count": 57,
     "metadata": {},
     "output_type": "execute_result"
    }
   ],
   "source": [
    "listt = []\n",
    "\n",
    "for k1 in range(0,5):\n",
    "    for k2 in range(0,5):\n",
    "        listt.append((k1,k2))\n",
    "listt"
   ]
  },
  {
   "cell_type": "code",
   "execution_count": 56,
   "id": "df3278d7",
   "metadata": {},
   "outputs": [
    {
     "data": {
      "text/plain": [
       "[(0, 0),\n",
       " (0, 1),\n",
       " (0, 2),\n",
       " (0, 3),\n",
       " (0, 4),\n",
       " (1, 0),\n",
       " (1, 1),\n",
       " (1, 2),\n",
       " (1, 3),\n",
       " (1, 4),\n",
       " (2, 0),\n",
       " (2, 1),\n",
       " (2, 2),\n",
       " (2, 3),\n",
       " (2, 4),\n",
       " (3, 0),\n",
       " (3, 1),\n",
       " (3, 2),\n",
       " (3, 3),\n",
       " (3, 4),\n",
       " (4, 0),\n",
       " (4, 1),\n",
       " (4, 2),\n",
       " (4, 3),\n",
       " (4, 4)]"
      ]
     },
     "execution_count": 56,
     "metadata": {},
     "output_type": "execute_result"
    }
   ],
   "source": [
    "listtt = []  \n",
    "listtt = [(k1, k2) for k1 in range(0,5) for k2 in range(0,5)]\n",
    "listtt"
   ]
  },
  {
   "cell_type": "code",
   "execution_count": 63,
   "id": "91f6e839",
   "metadata": {},
   "outputs": [
    {
     "data": {
      "text/plain": [
       "{0: 0,\n",
       " 3: 9,\n",
       " 6: 36,\n",
       " 9: 81,\n",
       " 12: 144,\n",
       " 15: 225,\n",
       " 18: 324,\n",
       " 21: 441,\n",
       " 24: 576,\n",
       " 27: 729}"
      ]
     },
     "execution_count": 63,
     "metadata": {},
     "output_type": "execute_result"
    }
   ],
   "source": [
    "# Dcitionary\n",
    "dic = dict()\n",
    "\n",
    "for i in range(30):\n",
    "    if i % 3 == 0:\n",
    "        dic[i] = i**2\n",
    "\n",
    "dic"
   ]
  },
  {
   "cell_type": "code",
   "execution_count": 67,
   "id": "558600ba",
   "metadata": {},
   "outputs": [
    {
     "data": {
      "text/plain": [
       "{0: 0,\n",
       " 3: 9,\n",
       " 6: 36,\n",
       " 9: 81,\n",
       " 12: 144,\n",
       " 15: 225,\n",
       " 18: 324,\n",
       " 21: 441,\n",
       " 24: 576,\n",
       " 27: 729}"
      ]
     },
     "execution_count": 67,
     "metadata": {},
     "output_type": "execute_result"
    }
   ],
   "source": [
    "single_line_dic = dict()\n",
    "single_line_dic = {i:i**2 for i in range(30) if i % 3 == 0}\n",
    "single_line_dic"
   ]
  },
  {
   "cell_type": "code",
   "execution_count": 70,
   "id": "f1ed874b",
   "metadata": {},
   "outputs": [
    {
     "data": {
      "text/plain": [
       "{1: 'a', 2: 'b', 3: 'c', 4: 'd', 5: 'e'}"
      ]
     },
     "execution_count": 70,
     "metadata": {},
     "output_type": "execute_result"
    }
   ],
   "source": [
    "key =[1, 2, 3, 4, 5]\n",
    "value =['a','b','c','d','e']\n",
    "\n",
    "dictt = {k: v for k,v in zip(key, value)}\n",
    "dictt"
   ]
  },
  {
   "cell_type": "code",
   "execution_count": 77,
   "id": "a5d0e6a0",
   "metadata": {},
   "outputs": [
    {
     "data": {
      "text/plain": [
       "{0: 'a', 1: 'b', 2: 'c', 3: 'd', 4: 'e'}"
      ]
     },
     "execution_count": 77,
     "metadata": {},
     "output_type": "execute_result"
    }
   ],
   "source": [
    "val = ['a','b','c','d','e']\n",
    "{en: v for en,v in enumerate(val)}"
   ]
  },
  {
   "cell_type": "code",
   "execution_count": 74,
   "id": "778a5948",
   "metadata": {},
   "outputs": [
    {
     "data": {
      "text/plain": [
       "{'AMIN': 'AminAminAmin', 'REZA': 'rezarezareza'}"
      ]
     },
     "execution_count": 74,
     "metadata": {},
     "output_type": "execute_result"
    }
   ],
   "source": [
    "{x.upper(): x*3 for x in ['Amin', 'reza']}"
   ]
  },
  {
   "cell_type": "code",
   "execution_count": 82,
   "id": "1c57d972",
   "metadata": {},
   "outputs": [
    {
     "name": "stdout",
     "output_type": "stream",
     "text": [
      "{'fereshteh': 'young', 'reza': 'old', 'pooya': 'young', 'ali': 'old', 'zahra': 'young'}\n"
     ]
    }
   ],
   "source": [
    "age_dict = {'fereshteh': 20, 'reza': 65, 'pooya': 28, 'ali': 57, 'zahra': 33}\n",
    "\n",
    "dictt = {name: \"old\" if age > 40 else \"young\" for (name, age) in age_dict.items()}\n",
    "print(dictt)"
   ]
  },
  {
   "cell_type": "code",
   "execution_count": 83,
   "id": "fd7bc9ee",
   "metadata": {},
   "outputs": [
    {
     "data": {
      "text/plain": [
       "{0: {0: 0, 1: 0, 2: 0, 3: 0, 4: 0},\n",
       " 1: {0: 0, 1: 1, 2: 2, 3: 3, 4: 4},\n",
       " 2: {0: 0, 1: 2, 2: 4, 3: 6, 4: 8},\n",
       " 3: {0: 0, 1: 3, 2: 6, 3: 9, 4: 12},\n",
       " 4: {0: 0, 1: 4, 2: 8, 3: 12, 4: 16}}"
      ]
     },
     "execution_count": 83,
     "metadata": {},
     "output_type": "execute_result"
    }
   ],
   "source": [
    "nest_dic ={k1: {k2: k1*k2 for k2 in range(5)} for k1 in range(5)}\n",
    "nest_dic"
   ]
  },
  {
   "cell_type": "code",
   "execution_count": 88,
   "id": "8e2f8800",
   "metadata": {},
   "outputs": [
    {
     "name": "stdout",
     "output_type": "stream",
     "text": [
      "{2, 4}\n",
      "[2, 4, 2, 2, 4]\n"
     ]
    }
   ],
   "source": [
    "sett = {j for j in [1, 2, 4, 3, 3, 2, 2, 4] if j % 2 == 0}\n",
    "listt = [i for i in [1, 2, 4, 3, 3, 2, 2, 4] if i % 2 == 0]\n",
    "print(sett)\n",
    "print(listt)"
   ]
  },
  {
   "cell_type": "code",
   "execution_count": 90,
   "id": "a167afbc",
   "metadata": {},
   "outputs": [
    {
     "data": {
      "text/plain": [
       "<generator object <genexpr> at 0x000002AA31540F20>"
      ]
     },
     "execution_count": 90,
     "metadata": {},
     "output_type": "execute_result"
    }
   ],
   "source": [
    "# tuple comprehension\n",
    "\n",
    "tuple_ = (i for i in \"Amin\")\n",
    "tuple_"
   ]
  },
  {
   "cell_type": "code",
   "execution_count": 93,
   "id": "4143d8f3",
   "metadata": {},
   "outputs": [
    {
     "data": {
      "text/plain": [
       "('A', 'm', 'i', 'n')"
      ]
     },
     "execution_count": 93,
     "metadata": {},
     "output_type": "execute_result"
    }
   ],
   "source": [
    "tuple_ = tuple([i for i in \"Amin\"])\n",
    "tuple_"
   ]
  },
  {
   "cell_type": "markdown",
   "id": "01a353a4",
   "metadata": {},
   "source": [
    "### Exercise 1: create a new dictionary like capitals which the keys and values are replaced(using comprehensions)\n",
    "\n",
    "capitals = {'Iran': 'Tehran','France': 'Paris','Italy': 'Rome'}"
   ]
  },
  {
   "cell_type": "code",
   "execution_count": 96,
   "id": "1aabc456",
   "metadata": {},
   "outputs": [
    {
     "data": {
      "text/plain": [
       "{'Tehran': 'Iran', 'Paris': 'France', 'Rome': 'Italy'}"
      ]
     },
     "execution_count": 96,
     "metadata": {},
     "output_type": "execute_result"
    }
   ],
   "source": [
    "# ansewer\n",
    "capitals = {'Iran': 'Tehran','France': 'Paris','Italy': 'Rome'}\n",
    "reversed_capital = {value: key for key, value in capitals.items()}\n",
    "reversed_capital"
   ]
  }
 ],
 "metadata": {
  "kernelspec": {
   "display_name": "Python 3 (ipykernel)",
   "language": "python",
   "name": "python3"
  },
  "language_info": {
   "codemirror_mode": {
    "name": "ipython",
    "version": 3
   },
   "file_extension": ".py",
   "mimetype": "text/x-python",
   "name": "python",
   "nbconvert_exporter": "python",
   "pygments_lexer": "ipython3",
   "version": "3.9.15"
  }
 },
 "nbformat": 4,
 "nbformat_minor": 5
}
