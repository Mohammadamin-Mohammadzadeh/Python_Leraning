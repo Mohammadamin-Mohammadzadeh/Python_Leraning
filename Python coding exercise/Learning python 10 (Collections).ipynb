{
 "cells": [
  {
   "cell_type": "markdown",
   "id": "b2c41ded",
   "metadata": {},
   "source": [
    "## Collections\n",
    "\n",
    "#### ChainMap"
   ]
  },
  {
   "cell_type": "code",
   "execution_count": 3,
   "id": "95cbe083",
   "metadata": {},
   "outputs": [],
   "source": [
    "from collections import ChainMap"
   ]
  },
  {
   "cell_type": "code",
   "execution_count": 4,
   "id": "f12ddd73",
   "metadata": {},
   "outputs": [],
   "source": [
    "dict_1 = {\"a\": 1, \"b\": 2}\n",
    "dict_2 = {'c': 3, 'd': 4}\n",
    "dict_3 = {'e': 4, 'f': 5}"
   ]
  },
  {
   "cell_type": "code",
   "execution_count": 5,
   "id": "59fcdff1",
   "metadata": {},
   "outputs": [],
   "source": [
    "result = ChainMap(dict_1, dict_2, dict_3)"
   ]
  },
  {
   "cell_type": "code",
   "execution_count": 6,
   "id": "00900d24",
   "metadata": {},
   "outputs": [
    {
     "data": {
      "text/plain": [
       "ChainMap({'a': 1, 'b': 2}, {'c': 3, 'd': 4}, {'e': 4, 'f': 5})"
      ]
     },
     "execution_count": 6,
     "metadata": {},
     "output_type": "execute_result"
    }
   ],
   "source": [
    "result"
   ]
  },
  {
   "cell_type": "code",
   "execution_count": 7,
   "id": "e8fd36ce",
   "metadata": {},
   "outputs": [
    {
     "name": "stdout",
     "output_type": "stream",
     "text": [
      "key is e and Value is 4\n",
      "key is f and Value is 5\n",
      "key is c and Value is 3\n",
      "key is d and Value is 4\n",
      "key is a and Value is 1\n",
      "key is b and Value is 2\n"
     ]
    }
   ],
   "source": [
    "for k, v in result.items():\n",
    "    print(f'key is {k} and Value is {v}')\n"
   ]
  },
  {
   "cell_type": "code",
   "execution_count": 8,
   "id": "16c8e7dd",
   "metadata": {},
   "outputs": [
    {
     "data": {
      "text/plain": [
       "[{'a': 1, 'b': 2}, {'c': 3, 'd': 4}, {'e': 4, 'f': 5}]"
      ]
     },
     "execution_count": 8,
     "metadata": {},
     "output_type": "execute_result"
    }
   ],
   "source": [
    "result.maps"
   ]
  },
  {
   "cell_type": "code",
   "execution_count": 9,
   "id": "3ff4b4b9",
   "metadata": {},
   "outputs": [],
   "source": [
    "dict_4 = {'g': 6, 'h': 7}"
   ]
  },
  {
   "cell_type": "code",
   "execution_count": 10,
   "id": "afab5af7",
   "metadata": {},
   "outputs": [
    {
     "data": {
      "text/plain": [
       "ChainMap({'g': 6, 'h': 7}, {'a': 1, 'b': 2}, {'c': 3, 'd': 4}, {'e': 4, 'f': 5})"
      ]
     },
     "execution_count": 10,
     "metadata": {},
     "output_type": "execute_result"
    }
   ],
   "source": [
    "result_listt = result.new_child(dict_4)\n",
    "result_listt"
   ]
  },
  {
   "cell_type": "code",
   "execution_count": 11,
   "id": "c080bb07",
   "metadata": {},
   "outputs": [
    {
     "data": {
      "text/plain": [
       "ChainMap({'a': 1, 'b': 2}, {'c': 3, 'd': 4}, {'e': 4, 'f': 5}, {'i': 8, 'j': 9})"
      ]
     },
     "execution_count": 11,
     "metadata": {},
     "output_type": "execute_result"
    }
   ],
   "source": [
    "result.maps.append({'i': 8, 'j': 9})\n",
    "result"
   ]
  },
  {
   "cell_type": "code",
   "execution_count": 12,
   "id": "c4443310",
   "metadata": {},
   "outputs": [
    {
     "data": {
      "text/plain": [
       "[{'a': 1, 'b': 2}, {'c': 3, 'd': 4}, {'e': 4, 'f': 5}, {'i': 8, 'j': 9}]"
      ]
     },
     "execution_count": 12,
     "metadata": {},
     "output_type": "execute_result"
    }
   ],
   "source": [
    "# result as a list\n",
    "result.maps"
   ]
  },
  {
   "cell_type": "code",
   "execution_count": 13,
   "id": "1ffad4d8",
   "metadata": {},
   "outputs": [
    {
     "data": {
      "text/plain": [
       "ChainMap({'a': 1, 'b': 2}, {'c': 3, 'd': 4}, {'e': 4, 'f': 5}, {'i': 8, 'j': 9}, {'b': 0})"
      ]
     },
     "execution_count": 13,
     "metadata": {},
     "output_type": "execute_result"
    }
   ],
   "source": [
    "result.maps.append({'b': 0})\n",
    "result"
   ]
  },
  {
   "cell_type": "code",
   "execution_count": 14,
   "id": "04ea87d3",
   "metadata": {},
   "outputs": [
    {
     "name": "stdout",
     "output_type": "stream",
     "text": [
      "{'a': 1, 'b': 2}\n",
      "{'c': 3, 'd': 4}\n",
      "{'e': 4, 'f': 5}\n",
      "{'i': 8, 'j': 9}\n",
      "{'b': 0}\n"
     ]
    }
   ],
   "source": [
    "for mapping in result.maps:\n",
    "    print(mapping)"
   ]
  },
  {
   "cell_type": "code",
   "execution_count": 15,
   "id": "263c6e31",
   "metadata": {},
   "outputs": [
    {
     "data": {
      "text/plain": [
       "2"
      ]
     },
     "execution_count": 15,
     "metadata": {},
     "output_type": "execute_result"
    }
   ],
   "source": [
    "result['b']"
   ]
  },
  {
   "cell_type": "code",
   "execution_count": 16,
   "id": "195dd4c6",
   "metadata": {},
   "outputs": [
    {
     "data": {
      "text/plain": [
       "ChainMap({'a': 1, 'b': 2}, {'c': 3, 'd': 4}, {'e': 4, 'f': 5}, {'i': 8, 'j': 9}, {'b': 0})"
      ]
     },
     "execution_count": 16,
     "metadata": {},
     "output_type": "execute_result"
    }
   ],
   "source": [
    "result"
   ]
  },
  {
   "cell_type": "code",
   "execution_count": 17,
   "id": "132e05f2",
   "metadata": {},
   "outputs": [
    {
     "data": {
      "text/plain": [
       "2"
      ]
     },
     "execution_count": 17,
     "metadata": {},
     "output_type": "execute_result"
    }
   ],
   "source": [
    "result['b']"
   ]
  },
  {
   "cell_type": "code",
   "execution_count": 18,
   "id": "66b276c2",
   "metadata": {},
   "outputs": [
    {
     "data": {
      "text/plain": [
       "[{'b': 0},\n",
       " {'i': 8, 'j': 9},\n",
       " {'e': 4, 'f': 5},\n",
       " {'c': 3, 'd': 4},\n",
       " {'a': 1, 'b': 2}]"
      ]
     },
     "execution_count": 18,
     "metadata": {},
     "output_type": "execute_result"
    }
   ],
   "source": [
    "list(reversed(result.maps))"
   ]
  },
  {
   "cell_type": "code",
   "execution_count": 19,
   "id": "ab95c5df",
   "metadata": {},
   "outputs": [
    {
     "data": {
      "text/plain": [
       "ChainMap({'b': 0}, {'i': 8, 'j': 9}, {'e': 4, 'f': 5}, {'c': 3, 'd': 4}, {'a': 1, 'b': 2})"
      ]
     },
     "execution_count": 19,
     "metadata": {},
     "output_type": "execute_result"
    }
   ],
   "source": [
    "result.maps = list(reversed(result.maps))\n",
    "result"
   ]
  },
  {
   "cell_type": "code",
   "execution_count": 20,
   "id": "5b9679e0",
   "metadata": {},
   "outputs": [
    {
     "data": {
      "text/plain": [
       "0"
      ]
     },
     "execution_count": 20,
     "metadata": {},
     "output_type": "execute_result"
    }
   ],
   "source": [
    "result['b']"
   ]
  },
  {
   "cell_type": "code",
   "execution_count": 21,
   "id": "6ac1e3c8",
   "metadata": {},
   "outputs": [],
   "source": [
    "# but here you will see that:\n",
    "dict_1 = {'a': 1, 'b': 2} \n",
    "dict_2 = {'c': 3, 'd': 4} \n",
    "dict_3 = {'e': 5, 'f': 6} \n",
    "dict_4 = {'s': 6, 'b': 0}"
   ]
  },
  {
   "cell_type": "code",
   "execution_count": 22,
   "id": "15d64b14",
   "metadata": {},
   "outputs": [],
   "source": [
    "res_ = {}\n",
    "res_.update(dict_1)\n",
    "res_.update(dict_2)\n",
    "res_.update(dict_3)\n",
    "res_.update(dict_4)"
   ]
  },
  {
   "cell_type": "code",
   "execution_count": 23,
   "id": "d920c94e",
   "metadata": {},
   "outputs": [
    {
     "data": {
      "text/plain": [
       "{'a': 1, 'b': 0, 'c': 3, 'd': 4, 'e': 5, 'f': 6, 's': 6}"
      ]
     },
     "execution_count": 23,
     "metadata": {},
     "output_type": "execute_result"
    }
   ],
   "source": [
    "res_"
   ]
  },
  {
   "cell_type": "code",
   "execution_count": 24,
   "id": "6a4f92cd",
   "metadata": {},
   "outputs": [],
   "source": [
    "# throwing out the ability to manage and prioritize the access to repeated keys using multiple scopes or contexts.\n",
    "# as you see above about key 'b' that is used in 2 dictionary but in res_ dictionary One of them was thrown out."
   ]
  },
  {
   "cell_type": "code",
   "execution_count": 25,
   "id": "72a1e20a",
   "metadata": {},
   "outputs": [
    {
     "data": {
      "text/plain": [
       "ChainMap({'b': 0, 'x': 10}, {'i': 8, 'j': 9}, {'e': 4, 'f': 5}, {'c': 3, 'd': 4}, {'a': 1, 'b': 2})"
      ]
     },
     "execution_count": 25,
     "metadata": {},
     "output_type": "execute_result"
    }
   ],
   "source": [
    "result[\"x\"] = 10\n",
    "result"
   ]
  },
  {
   "cell_type": "code",
   "execution_count": 26,
   "id": "a977a486",
   "metadata": {},
   "outputs": [],
   "source": [
    "result['y'] = 11"
   ]
  },
  {
   "cell_type": "code",
   "execution_count": 27,
   "id": "04432d27",
   "metadata": {},
   "outputs": [
    {
     "data": {
      "text/plain": [
       "ChainMap({'b': 0, 'x': 10, 'y': 11}, {'i': 8, 'j': 9}, {'e': 4, 'f': 5}, {'c': 3, 'd': 4}, {'a': 1, 'b': 2})"
      ]
     },
     "execution_count": 27,
     "metadata": {},
     "output_type": "execute_result"
    }
   ],
   "source": [
    "result"
   ]
  },
  {
   "cell_type": "code",
   "execution_count": 28,
   "id": "d975fda5",
   "metadata": {},
   "outputs": [
    {
     "data": {
      "text/plain": [
       "ChainMap({'b': 0, 'x': 20, 'y': 11}, {'i': 8, 'j': 9}, {'e': 4, 'f': 5}, {'c': 3, 'd': 4}, {'a': 1, 'b': 2})"
      ]
     },
     "execution_count": 28,
     "metadata": {},
     "output_type": "execute_result"
    }
   ],
   "source": [
    "result['x'] = 20\n",
    "result"
   ]
  },
  {
   "cell_type": "code",
   "execution_count": 29,
   "id": "d3bf85c4",
   "metadata": {},
   "outputs": [
    {
     "data": {
      "text/plain": [
       "ChainMap({'x': 20, 'y': 11}, {'i': 8, 'j': 9}, {'e': 4, 'f': 5}, {'c': 3, 'd': 4}, {'a': 1, 'b': 2})"
      ]
     },
     "execution_count": 29,
     "metadata": {},
     "output_type": "execute_result"
    }
   ],
   "source": [
    "result.pop('b')\n",
    "result"
   ]
  },
  {
   "cell_type": "code",
   "execution_count": 30,
   "id": "aae0cfb6",
   "metadata": {},
   "outputs": [
    {
     "ename": "KeyError",
     "evalue": "\"Key not found in the first mapping: 'b'\"",
     "output_type": "error",
     "traceback": [
      "\u001b[1;31m---------------------------------------------------------------------------\u001b[0m",
      "\u001b[1;31mKeyError\u001b[0m                                  Traceback (most recent call last)",
      "File \u001b[1;32m~\\miniconda3\\envs\\git_01\\lib\\collections\\__init__.py:1008\u001b[0m, in \u001b[0;36mChainMap.pop\u001b[1;34m(self, key, *args)\u001b[0m\n\u001b[0;32m   1007\u001b[0m \u001b[38;5;28;01mtry\u001b[39;00m:\n\u001b[1;32m-> 1008\u001b[0m     \u001b[38;5;28;01mreturn\u001b[39;00m \u001b[38;5;28;43mself\u001b[39;49m\u001b[38;5;241;43m.\u001b[39;49m\u001b[43mmaps\u001b[49m\u001b[43m[\u001b[49m\u001b[38;5;241;43m0\u001b[39;49m\u001b[43m]\u001b[49m\u001b[38;5;241;43m.\u001b[39;49m\u001b[43mpop\u001b[49m\u001b[43m(\u001b[49m\u001b[43mkey\u001b[49m\u001b[43m,\u001b[49m\u001b[43m \u001b[49m\u001b[38;5;241;43m*\u001b[39;49m\u001b[43margs\u001b[49m\u001b[43m)\u001b[49m\n\u001b[0;32m   1009\u001b[0m \u001b[38;5;28;01mexcept\u001b[39;00m \u001b[38;5;167;01mKeyError\u001b[39;00m:\n",
      "\u001b[1;31mKeyError\u001b[0m: 'b'",
      "\nDuring handling of the above exception, another exception occurred:\n",
      "\u001b[1;31mKeyError\u001b[0m                                  Traceback (most recent call last)",
      "Cell \u001b[1;32mIn [30], line 1\u001b[0m\n\u001b[1;32m----> 1\u001b[0m \u001b[43mresult\u001b[49m\u001b[38;5;241;43m.\u001b[39;49m\u001b[43mpop\u001b[49m\u001b[43m(\u001b[49m\u001b[38;5;124;43m'\u001b[39;49m\u001b[38;5;124;43mb\u001b[39;49m\u001b[38;5;124;43m'\u001b[39;49m\u001b[43m)\u001b[49m\n\u001b[0;32m      2\u001b[0m result\n",
      "File \u001b[1;32m~\\miniconda3\\envs\\git_01\\lib\\collections\\__init__.py:1010\u001b[0m, in \u001b[0;36mChainMap.pop\u001b[1;34m(self, key, *args)\u001b[0m\n\u001b[0;32m   1008\u001b[0m     \u001b[38;5;28;01mreturn\u001b[39;00m \u001b[38;5;28mself\u001b[39m\u001b[38;5;241m.\u001b[39mmaps[\u001b[38;5;241m0\u001b[39m]\u001b[38;5;241m.\u001b[39mpop(key, \u001b[38;5;241m*\u001b[39margs)\n\u001b[0;32m   1009\u001b[0m \u001b[38;5;28;01mexcept\u001b[39;00m \u001b[38;5;167;01mKeyError\u001b[39;00m:\n\u001b[1;32m-> 1010\u001b[0m     \u001b[38;5;28;01mraise\u001b[39;00m \u001b[38;5;167;01mKeyError\u001b[39;00m(\u001b[38;5;124mf\u001b[39m\u001b[38;5;124m'\u001b[39m\u001b[38;5;124mKey not found in the first mapping: \u001b[39m\u001b[38;5;132;01m{\u001b[39;00mkey\u001b[38;5;132;01m!r}\u001b[39;00m\u001b[38;5;124m'\u001b[39m)\n",
      "\u001b[1;31mKeyError\u001b[0m: \"Key not found in the first mapping: 'b'\""
     ]
    }
   ],
   "source": [
    "result.pop('b')\n",
    "result"
   ]
  },
  {
   "cell_type": "code",
   "execution_count": null,
   "id": "fe33c621",
   "metadata": {},
   "outputs": [],
   "source": [
    "# in this case just change items from the last dictionary, as you see can not be found key 'b' in last dictionry for pop."
   ]
  },
  {
   "cell_type": "markdown",
   "id": "3c65fb55",
   "metadata": {},
   "source": [
    "#### Namedtuple"
   ]
  },
  {
   "cell_type": "code",
   "execution_count": 31,
   "id": "b6302e61",
   "metadata": {},
   "outputs": [],
   "source": [
    "from collections import namedtuple"
   ]
  },
  {
   "cell_type": "code",
   "execution_count": 32,
   "id": "0094b7f6",
   "metadata": {},
   "outputs": [],
   "source": [
    "student = ('Amin', 27, \"1374\")"
   ]
  },
  {
   "cell_type": "code",
   "execution_count": 33,
   "id": "b4fb8f4a",
   "metadata": {},
   "outputs": [
    {
     "data": {
      "text/plain": [
       "27"
      ]
     },
     "execution_count": 33,
     "metadata": {},
     "output_type": "execute_result"
    }
   ],
   "source": [
    "student[1]"
   ]
  },
  {
   "cell_type": "code",
   "execution_count": 34,
   "id": "1560d275",
   "metadata": {},
   "outputs": [],
   "source": [
    "student = namedtuple('student',['name', 'age', 'DOB'])"
   ]
  },
  {
   "cell_type": "code",
   "execution_count": 35,
   "id": "f5223af4",
   "metadata": {},
   "outputs": [
    {
     "ename": "NameError",
     "evalue": "name 'studet' is not defined",
     "output_type": "error",
     "traceback": [
      "\u001b[1;31m---------------------------------------------------------------------------\u001b[0m",
      "\u001b[1;31mNameError\u001b[0m                                 Traceback (most recent call last)",
      "Cell \u001b[1;32mIn [35], line 1\u001b[0m\n\u001b[1;32m----> 1\u001b[0m \u001b[43mstudet\u001b[49m\n",
      "\u001b[1;31mNameError\u001b[0m: name 'studet' is not defined"
     ]
    }
   ],
   "source": [
    "studet"
   ]
  },
  {
   "cell_type": "code",
   "execution_count": 36,
   "id": "34c63963",
   "metadata": {},
   "outputs": [
    {
     "data": {
      "text/plain": [
       "student(name='amin', age=27, DOB='1374')"
      ]
     },
     "execution_count": 36,
     "metadata": {},
     "output_type": "execute_result"
    }
   ],
   "source": [
    "student_info = student('amin', 27, '1374')\n",
    "student_info"
   ]
  },
  {
   "cell_type": "code",
   "execution_count": 37,
   "id": "7cadf438",
   "metadata": {},
   "outputs": [
    {
     "data": {
      "text/plain": [
       "27"
      ]
     },
     "execution_count": 37,
     "metadata": {},
     "output_type": "execute_result"
    }
   ],
   "source": [
    "student_info.age"
   ]
  },
  {
   "cell_type": "code",
   "execution_count": 38,
   "id": "b234dcf3",
   "metadata": {},
   "outputs": [
    {
     "data": {
      "text/plain": [
       "('amin', 27, '1374')"
      ]
     },
     "execution_count": 38,
     "metadata": {},
     "output_type": "execute_result"
    }
   ],
   "source": [
    "student_info.name, student_info.age, student_info.DOB"
   ]
  },
  {
   "cell_type": "code",
   "execution_count": 39,
   "id": "c7c74b58",
   "metadata": {},
   "outputs": [
    {
     "data": {
      "text/plain": [
       "'1374'"
      ]
     },
     "execution_count": 39,
     "metadata": {},
     "output_type": "execute_result"
    }
   ],
   "source": [
    "student_info[2]"
   ]
  },
  {
   "cell_type": "code",
   "execution_count": 40,
   "id": "36aa69b5",
   "metadata": {},
   "outputs": [
    {
     "ename": "AttributeError",
     "evalue": "can't set attribute",
     "output_type": "error",
     "traceback": [
      "\u001b[1;31m---------------------------------------------------------------------------\u001b[0m",
      "\u001b[1;31mAttributeError\u001b[0m                            Traceback (most recent call last)",
      "Cell \u001b[1;32mIn [40], line 2\u001b[0m\n\u001b[0;32m      1\u001b[0m \u001b[38;5;66;03m# we cant change value of dictionary\u001b[39;00m\n\u001b[1;32m----> 2\u001b[0m \u001b[43mstudent_info\u001b[49m\u001b[38;5;241;43m.\u001b[39;49m\u001b[43mname\u001b[49m \u001b[38;5;241m=\u001b[39m \u001b[38;5;124m\"\u001b[39m\u001b[38;5;124mPooya\u001b[39m\u001b[38;5;124m\"\u001b[39m\n",
      "\u001b[1;31mAttributeError\u001b[0m: can't set attribute"
     ]
    }
   ],
   "source": [
    "# we cant change value of dictionary\n",
    "student_info.name = \"Pooya\""
   ]
  },
  {
   "cell_type": "code",
   "execution_count": 41,
   "id": "6b5bb27c",
   "metadata": {},
   "outputs": [
    {
     "data": {
      "text/plain": [
       "student(name='pooya', age=27, DOB='1374')"
      ]
     },
     "execution_count": 41,
     "metadata": {},
     "output_type": "execute_result"
    }
   ],
   "source": [
    "# so we can create new tuple\n",
    "student_info1 = student_info._replace(name='pooya')\n",
    "student_info1"
   ]
  },
  {
   "cell_type": "code",
   "execution_count": 42,
   "id": "b074feb3",
   "metadata": {},
   "outputs": [],
   "source": [
    "# create from dict\n",
    "dic = {'name': \"Ali\", 'age': 19, 'DOB': '1381'}"
   ]
  },
  {
   "cell_type": "code",
   "execution_count": 43,
   "id": "1a2a288d",
   "metadata": {},
   "outputs": [],
   "source": [
    "student_info2 = student(**dic)"
   ]
  },
  {
   "cell_type": "code",
   "execution_count": 44,
   "id": "06d0e651",
   "metadata": {},
   "outputs": [
    {
     "data": {
      "text/plain": [
       "student(name='Ali', age=19, DOB='1381')"
      ]
     },
     "execution_count": 44,
     "metadata": {},
     "output_type": "execute_result"
    }
   ],
   "source": [
    "student_info2"
   ]
  },
  {
   "cell_type": "code",
   "execution_count": 45,
   "id": "da454e8f",
   "metadata": {},
   "outputs": [],
   "source": [
    "lst = ['Mohammad Amin', 27, '1374']"
   ]
  },
  {
   "cell_type": "code",
   "execution_count": 46,
   "id": "7bda36fc",
   "metadata": {},
   "outputs": [
    {
     "data": {
      "text/plain": [
       "student(name='Mohammad Amin', age=27, DOB='1374')"
      ]
     },
     "execution_count": 46,
     "metadata": {},
     "output_type": "execute_result"
    }
   ],
   "source": [
    "student._make(lst)"
   ]
  },
  {
   "cell_type": "code",
   "execution_count": 47,
   "id": "e062834b",
   "metadata": {},
   "outputs": [
    {
     "data": {
      "text/plain": [
       "student(name='Mohammad Amin', age=27, DOB='1374')"
      ]
     },
     "execution_count": 47,
     "metadata": {},
     "output_type": "execute_result"
    }
   ],
   "source": [
    "# unpacking\n",
    "student(*lst)"
   ]
  },
  {
   "cell_type": "code",
   "execution_count": 48,
   "id": "ab43da00",
   "metadata": {},
   "outputs": [
    {
     "name": "stdout",
     "output_type": "stream",
     "text": [
      "<class '__main__.student'>\n"
     ]
    }
   ],
   "source": [
    "print(type(student_info2))"
   ]
  },
  {
   "cell_type": "markdown",
   "id": "c239fa94",
   "metadata": {},
   "source": [
    "### Counter"
   ]
  },
  {
   "cell_type": "code",
   "execution_count": 49,
   "id": "78705db7",
   "metadata": {},
   "outputs": [
    {
     "name": "stdout",
     "output_type": "stream",
     "text": [
      "{'m': 7, 'o': 4, 'h': 3, 'a': 7, 'd': 4, '-': 3, 'i': 1, 'n': 1, 'z': 1, 'e': 1, 't': 1, 'u': 2, 'l': 1, 'r': 1}\n"
     ]
    }
   ],
   "source": [
    "sequence  = 'mohammad-amin-mohammadzadeh-toularoud'\n",
    "count = {}\n",
    "for letter in sequence:\n",
    "    count[letter] = count.get(letter, 0) +1\n",
    "    \n",
    "print(count)"
   ]
  },
  {
   "cell_type": "code",
   "execution_count": 50,
   "id": "a8319c3d",
   "metadata": {},
   "outputs": [],
   "source": [
    "from collections import Counter"
   ]
  },
  {
   "cell_type": "code",
   "execution_count": 51,
   "id": "4a1e42ca",
   "metadata": {},
   "outputs": [
    {
     "name": "stdout",
     "output_type": "stream",
     "text": [
      "Counter({'m': 7, 'a': 6, 'o': 4, 'd': 4, 'h': 3, '-': 3, 'u': 2, 'i': 1, 'n': 1, 'z': 1, 'e': 1, 't': 1, 'l': 1, 'r': 1})\n",
      "\n",
      "\n",
      "<class 'collections.Counter'>\n",
      "\n",
      "\n"
     ]
    },
    {
     "data": {
      "text/plain": [
       "Counter({'m': 7,\n",
       "         'o': 4,\n",
       "         'h': 3,\n",
       "         'a': 6,\n",
       "         'd': 4,\n",
       "         '-': 3,\n",
       "         'i': 1,\n",
       "         'n': 1,\n",
       "         'z': 1,\n",
       "         'e': 1,\n",
       "         't': 1,\n",
       "         'u': 2,\n",
       "         'l': 1,\n",
       "         'r': 1})"
      ]
     },
     "execution_count": 51,
     "metadata": {},
     "output_type": "execute_result"
    }
   ],
   "source": [
    "seq = Counter('mohammad-amin-mohammdzadeh-toularoud')\n",
    "\n",
    "print(seq)\n",
    "print('\\n')\n",
    "print(type(seq))     \n",
    "print('\\n')\n",
    "seq"
   ]
  },
  {
   "cell_type": "code",
   "execution_count": 52,
   "id": "2acc6c5c",
   "metadata": {},
   "outputs": [
    {
     "name": "stdout",
     "output_type": "stream",
     "text": [
      "m\n",
      "m\n",
      "m\n",
      "m\n",
      "m\n",
      "m\n",
      "m\n",
      "o\n",
      "o\n",
      "o\n",
      "o\n",
      "h\n",
      "h\n",
      "h\n",
      "a\n",
      "a\n",
      "a\n",
      "a\n",
      "a\n",
      "a\n",
      "d\n",
      "d\n",
      "d\n",
      "d\n",
      "-\n",
      "-\n",
      "-\n",
      "i\n",
      "n\n",
      "z\n",
      "e\n",
      "t\n",
      "u\n",
      "u\n",
      "l\n",
      "r\n"
     ]
    }
   ],
   "source": [
    "for items in seq.elements():\n",
    "    print(items)"
   ]
  },
  {
   "cell_type": "code",
   "execution_count": 53,
   "id": "cd4bf792",
   "metadata": {},
   "outputs": [
    {
     "data": {
      "text/plain": [
       "[('m', 7), ('a', 6), ('o', 4)]"
      ]
     },
     "execution_count": 53,
     "metadata": {},
     "output_type": "execute_result"
    }
   ],
   "source": [
    "# show that just first most common items 'o'\n",
    "seq.most_common(3)"
   ]
  },
  {
   "cell_type": "code",
   "execution_count": 54,
   "id": "3b33e8ad",
   "metadata": {},
   "outputs": [
    {
     "data": {
      "text/plain": [
       "[('m', 7), ('a', 6), ('o', 4), ('d', 4), ('h', 3)]"
      ]
     },
     "execution_count": 54,
     "metadata": {},
     "output_type": "execute_result"
    }
   ],
   "source": [
    "seq.most_common(5)"
   ]
  },
  {
   "cell_type": "code",
   "execution_count": 55,
   "id": "37208b04",
   "metadata": {},
   "outputs": [],
   "source": [
    "seq.update(\"majid\")"
   ]
  },
  {
   "cell_type": "code",
   "execution_count": 56,
   "id": "8e70e050",
   "metadata": {},
   "outputs": [
    {
     "data": {
      "text/plain": [
       "Counter({'m': 8,\n",
       "         'o': 4,\n",
       "         'h': 3,\n",
       "         'a': 7,\n",
       "         'd': 5,\n",
       "         '-': 3,\n",
       "         'i': 2,\n",
       "         'n': 1,\n",
       "         'z': 1,\n",
       "         'e': 1,\n",
       "         't': 1,\n",
       "         'u': 2,\n",
       "         'l': 1,\n",
       "         'r': 1,\n",
       "         'j': 1})"
      ]
     },
     "execution_count": 56,
     "metadata": {},
     "output_type": "execute_result"
    }
   ],
   "source": [
    "seq"
   ]
  },
  {
   "cell_type": "code",
   "execution_count": 57,
   "id": "a17e5541",
   "metadata": {},
   "outputs": [
    {
     "data": {
      "text/plain": [
       "Counter({1: 3, 2: 1, 4: 1, 6: 1, 5: 1, 8: 3, 9: 2, 10: 1})"
      ]
     },
     "execution_count": 57,
     "metadata": {},
     "output_type": "execute_result"
    }
   ],
   "source": [
    "lst = [1, 2, 4, 6, 1, 1, 5, 8, 8, 8, 9, 9, 10]\n",
    "list_c = Counter(lst)\n",
    "list_c"
   ]
  },
  {
   "cell_type": "code",
   "execution_count": 58,
   "id": "880069fa",
   "metadata": {},
   "outputs": [],
   "source": [
    "list_c.update([1,1,'1','2'])"
   ]
  },
  {
   "cell_type": "code",
   "execution_count": 59,
   "id": "58584df3",
   "metadata": {},
   "outputs": [
    {
     "data": {
      "text/plain": [
       "Counter({1: 5, 2: 1, 4: 1, 6: 1, 5: 1, 8: 3, 9: 2, 10: 1, '1': 1, '2': 1})"
      ]
     },
     "execution_count": 59,
     "metadata": {},
     "output_type": "execute_result"
    }
   ],
   "source": [
    "list_c"
   ]
  },
  {
   "cell_type": "code",
   "execution_count": 60,
   "id": "fe7e8c0c",
   "metadata": {},
   "outputs": [
    {
     "ename": "TypeError",
     "evalue": "unhashable type: 'list'",
     "output_type": "error",
     "traceback": [
      "\u001b[1;31m---------------------------------------------------------------------------\u001b[0m",
      "\u001b[1;31mTypeError\u001b[0m                                 Traceback (most recent call last)",
      "Cell \u001b[1;32mIn [60], line 2\u001b[0m\n\u001b[0;32m      1\u001b[0m \u001b[38;5;66;03m# it does not work for sequences containing unhashable objects!\u001b[39;00m\n\u001b[1;32m----> 2\u001b[0m seq_ \u001b[38;5;241m=\u001b[39m \u001b[43mCounter\u001b[49m\u001b[43m(\u001b[49m\u001b[43m[\u001b[49m\u001b[38;5;241;43m1\u001b[39;49m\u001b[43m,\u001b[49m\u001b[43m \u001b[49m\u001b[38;5;241;43m2\u001b[39;49m\u001b[43m,\u001b[49m\u001b[43m \u001b[49m\u001b[38;5;241;43m4\u001b[39;49m\u001b[43m,\u001b[49m\u001b[43m \u001b[49m\u001b[38;5;241;43m6\u001b[39;49m\u001b[43m,\u001b[49m\u001b[43m \u001b[49m\u001b[38;5;241;43m1\u001b[39;49m\u001b[43m,\u001b[49m\u001b[43m \u001b[49m\u001b[38;5;241;43m1\u001b[39;49m\u001b[43m,\u001b[49m\u001b[43m \u001b[49m\u001b[38;5;241;43m5\u001b[39;49m\u001b[43m,\u001b[49m\u001b[43m \u001b[49m\u001b[38;5;241;43m8\u001b[39;49m\u001b[43m,\u001b[49m\u001b[43m \u001b[49m\u001b[38;5;241;43m8\u001b[39;49m\u001b[43m,\u001b[49m\u001b[43m \u001b[49m\u001b[38;5;241;43m8\u001b[39;49m\u001b[43m,\u001b[49m\u001b[43m \u001b[49m\u001b[38;5;241;43m9\u001b[39;49m\u001b[43m,\u001b[49m\u001b[43m \u001b[49m\u001b[38;5;241;43m9\u001b[39;49m\u001b[43m,\u001b[49m\u001b[43m \u001b[49m\u001b[43m[\u001b[49m\u001b[38;5;241;43m9\u001b[39;49m\u001b[43m,\u001b[49m\u001b[43m \u001b[49m\u001b[38;5;124;43m\"\u001b[39;49m\u001b[38;5;124;43mlists are not hashable\u001b[39;49m\u001b[38;5;124;43m\"\u001b[39;49m\u001b[43m]\u001b[49m\u001b[43m]\u001b[49m\u001b[43m)\u001b[49m\n\u001b[0;32m      3\u001b[0m seq_\n",
      "File \u001b[1;32m~\\miniconda3\\envs\\git_01\\lib\\collections\\__init__.py:593\u001b[0m, in \u001b[0;36mCounter.__init__\u001b[1;34m(self, iterable, **kwds)\u001b[0m\n\u001b[0;32m    582\u001b[0m \u001b[38;5;124;03m'''Create a new, empty Counter object.  And if given, count elements\u001b[39;00m\n\u001b[0;32m    583\u001b[0m \u001b[38;5;124;03mfrom an input iterable.  Or, initialize the count from another mapping\u001b[39;00m\n\u001b[0;32m    584\u001b[0m \u001b[38;5;124;03mof elements to their counts.\u001b[39;00m\n\u001b[1;32m   (...)\u001b[0m\n\u001b[0;32m    590\u001b[0m \n\u001b[0;32m    591\u001b[0m \u001b[38;5;124;03m'''\u001b[39;00m\n\u001b[0;32m    592\u001b[0m \u001b[38;5;28msuper\u001b[39m()\u001b[38;5;241m.\u001b[39m\u001b[38;5;21m__init__\u001b[39m()\n\u001b[1;32m--> 593\u001b[0m \u001b[38;5;28mself\u001b[39m\u001b[38;5;241m.\u001b[39mupdate(iterable, \u001b[38;5;241m*\u001b[39m\u001b[38;5;241m*\u001b[39mkwds)\n",
      "File \u001b[1;32m~\\miniconda3\\envs\\git_01\\lib\\collections\\__init__.py:679\u001b[0m, in \u001b[0;36mCounter.update\u001b[1;34m(self, iterable, **kwds)\u001b[0m\n\u001b[0;32m    677\u001b[0m             \u001b[38;5;28msuper\u001b[39m()\u001b[38;5;241m.\u001b[39mupdate(iterable)\n\u001b[0;32m    678\u001b[0m     \u001b[38;5;28;01melse\u001b[39;00m:\n\u001b[1;32m--> 679\u001b[0m         \u001b[43m_count_elements\u001b[49m\u001b[43m(\u001b[49m\u001b[38;5;28;43mself\u001b[39;49m\u001b[43m,\u001b[49m\u001b[43m \u001b[49m\u001b[43miterable\u001b[49m\u001b[43m)\u001b[49m\n\u001b[0;32m    680\u001b[0m \u001b[38;5;28;01mif\u001b[39;00m kwds:\n\u001b[0;32m    681\u001b[0m     \u001b[38;5;28mself\u001b[39m\u001b[38;5;241m.\u001b[39mupdate(kwds)\n",
      "\u001b[1;31mTypeError\u001b[0m: unhashable type: 'list'"
     ]
    }
   ],
   "source": [
    "# it does not work for sequences containing unhashable objects!\n",
    "seq_ = Counter([1, 2, 4, 6, 1, 1, 5, 8, 8, 8, 9, 9, [9, \"lists are not hashable\"]])\n",
    "seq_"
   ]
  },
  {
   "cell_type": "markdown",
   "id": "10174a6f",
   "metadata": {},
   "source": [
    "### difaultdict()"
   ]
  },
  {
   "cell_type": "code",
   "execution_count": 61,
   "id": "87c4bca0",
   "metadata": {},
   "outputs": [
    {
     "name": "stdout",
     "output_type": "stream",
     "text": [
      "1\n",
      "2\n"
     ]
    },
    {
     "ename": "KeyError",
     "evalue": "'c'",
     "output_type": "error",
     "traceback": [
      "\u001b[1;31m---------------------------------------------------------------------------\u001b[0m",
      "\u001b[1;31mKeyError\u001b[0m                                  Traceback (most recent call last)",
      "Cell \u001b[1;32mIn [61], line 7\u001b[0m\n\u001b[0;32m      5\u001b[0m \u001b[38;5;28mprint\u001b[39m(dic[\u001b[38;5;124m'\u001b[39m\u001b[38;5;124ma\u001b[39m\u001b[38;5;124m'\u001b[39m])\n\u001b[0;32m      6\u001b[0m \u001b[38;5;28mprint\u001b[39m(dic[\u001b[38;5;124m'\u001b[39m\u001b[38;5;124mb\u001b[39m\u001b[38;5;124m'\u001b[39m])\n\u001b[1;32m----> 7\u001b[0m \u001b[38;5;28mprint\u001b[39m(\u001b[43mdic\u001b[49m\u001b[43m[\u001b[49m\u001b[38;5;124;43m'\u001b[39;49m\u001b[38;5;124;43mc\u001b[39;49m\u001b[38;5;124;43m'\u001b[39;49m\u001b[43m]\u001b[49m)\n",
      "\u001b[1;31mKeyError\u001b[0m: 'c'"
     ]
    }
   ],
   "source": [
    "dic = dict()\n",
    "dic['a'] = 1\n",
    "dic['b'] = 2\n",
    "\n",
    "print(dic['a'])\n",
    "print(dic['b'])\n",
    "print(dic['c'])"
   ]
  },
  {
   "cell_type": "code",
   "execution_count": 62,
   "id": "d5ec0c59",
   "metadata": {},
   "outputs": [],
   "source": [
    "from collections import defaultdict"
   ]
  },
  {
   "cell_type": "code",
   "execution_count": 63,
   "id": "e80a19fc",
   "metadata": {},
   "outputs": [
    {
     "data": {
      "text/plain": [
       "0"
      ]
     },
     "execution_count": 63,
     "metadata": {},
     "output_type": "execute_result"
    }
   ],
   "source": [
    "# default value of int\n",
    "default_value = int()\n",
    "default_value"
   ]
  },
  {
   "cell_type": "code",
   "execution_count": 64,
   "id": "91a824b1",
   "metadata": {},
   "outputs": [
    {
     "name": "stdout",
     "output_type": "stream",
     "text": [
      "1\n",
      "2\n",
      "0\n"
     ]
    }
   ],
   "source": [
    "dct = defaultdict(int)\n",
    "dct['a'] = 1\n",
    "dct['b'] = 2\n",
    "\n",
    "print(dct['a'])\n",
    "print(dct['b'])\n",
    "print(dct['c'])"
   ]
  },
  {
   "cell_type": "code",
   "execution_count": 65,
   "id": "09c83d3a",
   "metadata": {},
   "outputs": [
    {
     "name": "stdout",
     "output_type": "stream",
     "text": [
      "1\n",
      "2\n",
      "\n"
     ]
    }
   ],
   "source": [
    "dct1 = defaultdict(str)\n",
    "dct1['a'] = '1'\n",
    "dct1['b'] = '2'\n",
    "\n",
    "print(dct1['a'])\n",
    "print(dct1['b'])\n",
    "print(dct1['c'])"
   ]
  },
  {
   "cell_type": "code",
   "execution_count": 66,
   "id": "cd29c8ca",
   "metadata": {},
   "outputs": [
    {
     "data": {
      "text/plain": [
       "defaultdict(int, {'a': 1, 'b': 2, 'c': 0})"
      ]
     },
     "execution_count": 66,
     "metadata": {},
     "output_type": "execute_result"
    }
   ],
   "source": [
    "dct"
   ]
  },
  {
   "cell_type": "code",
   "execution_count": 67,
   "id": "18628ac1",
   "metadata": {},
   "outputs": [
    {
     "data": {
      "text/plain": [
       "[]"
      ]
     },
     "execution_count": 67,
     "metadata": {},
     "output_type": "execute_result"
    }
   ],
   "source": [
    "# default value of list\n",
    "default_value = list()\n",
    "default_value"
   ]
  },
  {
   "cell_type": "code",
   "execution_count": 71,
   "id": "3ca12889",
   "metadata": {
    "scrolled": true
   },
   "outputs": [
    {
     "data": {
      "text/plain": [
       "([], defaultdict(list, {'c': []}))"
      ]
     },
     "execution_count": 71,
     "metadata": {},
     "output_type": "execute_result"
    }
   ],
   "source": [
    "dct3 = defaultdict(list)\n",
    "dct3[\"c\"], dct3"
   ]
  },
  {
   "cell_type": "code",
   "execution_count": 79,
   "id": "cd1a1139",
   "metadata": {},
   "outputs": [
    {
     "data": {
      "text/plain": [
       "defaultdict(list, {'c': 'b', 'd': '2'})"
      ]
     },
     "execution_count": 79,
     "metadata": {},
     "output_type": "execute_result"
    }
   ],
   "source": [
    "dct3['c'] = 'a'\n",
    "dct3['c'] = 'b'\n",
    "dct3['d'] = '1'\n",
    "dct3['d'] = '2'\n",
    "dct3"
   ]
  },
  {
   "cell_type": "code",
   "execution_count": 73,
   "id": "3f862594",
   "metadata": {},
   "outputs": [
    {
     "data": {
      "text/plain": [
       "(set(), defaultdict(set, {'c': set()}))"
      ]
     },
     "execution_count": 73,
     "metadata": {},
     "output_type": "execute_result"
    }
   ],
   "source": [
    "dct_set = defaultdict(set)\n",
    "dct_set['c'], dct_set"
   ]
  },
  {
   "cell_type": "code",
   "execution_count": 74,
   "id": "9140aeb9",
   "metadata": {},
   "outputs": [],
   "source": [
    "dct_set['c'] = 'a'\n",
    "dct_set['c'] = 'b'\n",
    "dct_set['d'] = '1'\n",
    "dct_set['d'] = '2'"
   ]
  },
  {
   "cell_type": "code",
   "execution_count": 75,
   "id": "60d155a7",
   "metadata": {},
   "outputs": [
    {
     "data": {
      "text/plain": [
       "defaultdict(set, {'c': 'b', 'd': '2'})"
      ]
     },
     "execution_count": 75,
     "metadata": {},
     "output_type": "execute_result"
    }
   ],
   "source": [
    "dct_set"
   ]
  },
  {
   "cell_type": "code",
   "execution_count": 78,
   "id": "4c4882c7",
   "metadata": {},
   "outputs": [
    {
     "data": {
      "text/plain": [
       "defaultdict(set, {'c': 'b', 'd': '2', 'a': {'x', 'y'}, 'b': {'1', '2'}})"
      ]
     },
     "execution_count": 78,
     "metadata": {},
     "output_type": "execute_result"
    }
   ],
   "source": [
    "dct_set['a'].add('x') \n",
    "dct_set['a'].add('y')\n",
    "dct_set['b'].add('1')\n",
    "dct_set['b'].add('2')\n",
    "dct_set"
   ]
  },
  {
   "cell_type": "code",
   "execution_count": 80,
   "id": "67554e82",
   "metadata": {},
   "outputs": [
    {
     "data": {
      "text/plain": [
       "defaultdict(int,\n",
       "            {'m': 7,\n",
       "             'o': 4,\n",
       "             'h': 3,\n",
       "             'a': 7,\n",
       "             'd': 4,\n",
       "             '-': 3,\n",
       "             'i': 1,\n",
       "             'n': 1,\n",
       "             'z': 1,\n",
       "             'e': 1,\n",
       "             't': 1,\n",
       "             'u': 2,\n",
       "             'l': 1,\n",
       "             'r': 1})"
      ]
     },
     "execution_count": 80,
     "metadata": {},
     "output_type": "execute_result"
    }
   ],
   "source": [
    "#sequence  = 'mohammad-amin-mohammadzadeh-toularoud'\n",
    "#count = {}\n",
    "#for letter in sequence:\n",
    "#    count[letter] = count.get(letter, 0) +1  \n",
    "#count\n",
    "\n",
    "dic = defaultdict(int)\n",
    "\n",
    "for letter in sequence:\n",
    "    dic[letter] += 1\n",
    "dic"
   ]
  },
  {
   "cell_type": "code",
   "execution_count": 86,
   "id": "bffaa1f2",
   "metadata": {},
   "outputs": [
    {
     "data": {
      "text/plain": [
       "{}"
      ]
     },
     "execution_count": 86,
     "metadata": {},
     "output_type": "execute_result"
    }
   ],
   "source": [
    "dictionary = defaultdict(dict)\n",
    "dictionary['name']"
   ]
  },
  {
   "cell_type": "code",
   "execution_count": 91,
   "id": "bd18da46",
   "metadata": {},
   "outputs": [
    {
     "data": {
      "text/plain": [
       "defaultdict(dict, {'name': {}, 'm': 4})"
      ]
     },
     "execution_count": 91,
     "metadata": {},
     "output_type": "execute_result"
    }
   ],
   "source": [
    "dictionary['m'] = 1\n",
    "\n",
    "dictionary['m'] = 3\n",
    "\n",
    "dictionary['m'] = dictionary['m'] + 1\n",
    "dictionary"
   ]
  },
  {
   "cell_type": "code",
   "execution_count": 84,
   "id": "6aaedf6a",
   "metadata": {},
   "outputs": [
    {
     "data": {
      "text/plain": [
       "defaultdict(dict,\n",
       "            {'name': {'mohammad': 'mohammadzadeh', 'amin': 'mahdizadeh'},\n",
       "             'firends': {'pooya': 'mohmmadi'}})"
      ]
     },
     "execution_count": 84,
     "metadata": {},
     "output_type": "execute_result"
    }
   ],
   "source": [
    "dictionary['name']['mohammad'] = 'mohammadzadeh'\n",
    "dictionary['name']['amin'] = 'mahdizadeh'\n",
    "dictionary['firends']['pooya'] = 'mohmmadi'\n",
    "dictionary"
   ]
  },
  {
   "cell_type": "code",
   "execution_count": null,
   "id": "1e33a0e6",
   "metadata": {},
   "outputs": [],
   "source": []
  }
 ],
 "metadata": {
  "kernelspec": {
   "display_name": "Python 3 (ipykernel)",
   "language": "python",
   "name": "python3"
  },
  "language_info": {
   "codemirror_mode": {
    "name": "ipython",
    "version": 3
   },
   "file_extension": ".py",
   "mimetype": "text/x-python",
   "name": "python",
   "nbconvert_exporter": "python",
   "pygments_lexer": "ipython3",
   "version": "3.9.15"
  }
 },
 "nbformat": 4,
 "nbformat_minor": 5
}
