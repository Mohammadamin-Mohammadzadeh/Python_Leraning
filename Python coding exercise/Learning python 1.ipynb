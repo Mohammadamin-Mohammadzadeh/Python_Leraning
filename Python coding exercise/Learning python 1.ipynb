{
 "cells": [
  {
   "cell_type": "code",
   "execution_count": 1,
   "id": "68c03981",
   "metadata": {},
   "outputs": [
    {
     "data": {
      "text/plain": [
       "'20'"
      ]
     },
     "execution_count": 1,
     "metadata": {},
     "output_type": "execute_result"
    }
   ],
   "source": [
    "dic = {\n",
    "    \"fizik\" : {\n",
    "    \"sale1\" : \"15\",\n",
    "    \"sale2\" : \"20\",\n",
    "    \"sale3\" : \"10\"\n",
    "    },\n",
    "    \"riazi\" : {\n",
    "    \"sale1\" : \"12\",\n",
    "    \"sale2\" : \"14\",\n",
    "    \"sale3\" : \"10\"\n",
    "    }\n",
    "}\n",
    "\n",
    "result= dic.get(\"fizik\", {}).get(\"sale2\", {'inn'})\n",
    "result"
   ]
  },
  {
   "cell_type": "code",
   "execution_count": 15,
   "id": "b0d3e2f8",
   "metadata": {},
   "outputs": [
    {
     "name": "stdout",
     "output_type": "stream",
     "text": [
      "['4 m', 'hosSein', 'python f', 'miNa', 'C m', 'aHMad', 'C++ f', 'Sara', 'java']\n",
      "ossein\n"
     ]
    }
   ],
   "source": [
    "str_ = '  4 m.hosSein.python f.miNa.C m.aHMad.C++ f.Sara.java  ' \n",
    "for ch1 in str_:\n",
    "    ch1=str_.strip()\n",
    "    clean = ch1.split('.')\n",
    "    lower = clean[1][1:].lower()\n",
    "    \n",
    "ch1\n",
    "\n",
    "print(clean)\n",
    "\n",
    "print(lower)"
   ]
  },
  {
   "cell_type": "code",
   "execution_count": 7,
   "id": "56dc6eaa",
   "metadata": {},
   "outputs": [
    {
     "name": "stdout",
     "output_type": "stream",
     "text": [
      "[]\n"
     ]
    }
   ],
   "source": [
    "lst=['23', 'pooya','amin', '4','12']\n",
    "for i in lst:\n",
    "    if i[0] is int:\n",
    "        list1.append(i)\n",
    "    \n",
    "    \n",
    "print(list1)\n",
    "    "
   ]
  },
  {
   "cell_type": "code",
   "execution_count": 19,
   "id": "9825c2ea",
   "metadata": {},
   "outputs": [
    {
     "name": "stdout",
     "output_type": "stream",
     "text": [
      "23 4 12 "
     ]
    }
   ],
   "source": [
    "lst=['23', 'pooya','amin', '4','12']\n",
    "for i in lst:\n",
    "    if i.isdigit():\n",
    "        i1=int(i)\n",
    "        print(i , end=' ')\n",
    "\n",
    "    \n",
    "\n"
   ]
  },
  {
   "cell_type": "code",
   "execution_count": null,
   "id": "bdcc419e",
   "metadata": {},
   "outputs": [],
   "source": [
    "lst=['23', 'pooya','amin', '4','12']\n",
    "list1=[]\n",
    "for i in lst:\n",
    "    if type():\n",
    "        i1=int(i)\n",
    "        print(i , end=' ')"
   ]
  },
  {
   "cell_type": "code",
   "execution_count": 2,
   "id": "6aba82a1",
   "metadata": {},
   "outputs": [
    {
     "name": "stdout",
     "output_type": "stream",
     "text": [
      "[24, 58, 104, 162, 236, 248, 328, 344, 386, 412, 418, 462, 512, 566, 566, 626, 742, 758, 826, 866, 892, 894, 918, 950, 958, 978]\n"
     ]
    }
   ],
   "source": [
    "numbers = [386, 462, 47, 418, 907, 344, 236, 375, 823, 566, 597, 978, 328, 615, 953, 345, 399, 162, 758, 219, 918, 237, 412, 566, 826, 248, 866, 950, 626, 949, 687, 217, 815, 67, 104, 58, 512, 24, 892, 894, 767, 553, 81, 379, 843, 831, 445, 742, 717, 958,743, 527 ]\n",
    "sorted_list=[]\n",
    "for i in numbers:\n",
    "    if i % 2 == 0 :\n",
    "        sorted_list.append(i)\n",
    "sorted_list.sort()\n",
    "print(sorted_list)    \n",
    "    "
   ]
  },
  {
   "cell_type": "code",
   "execution_count": 42,
   "id": "720688da",
   "metadata": {
    "scrolled": true
   },
   "outputs": [
    {
     "data": {
      "text/plain": [
       "Counter({1: 3, 5: 1, 6: 1, 's': 1, 'S': 1, 'pooya': 1, 'Pooya': 1})"
      ]
     },
     "execution_count": 42,
     "metadata": {},
     "output_type": "execute_result"
    }
   ],
   "source": [
    "from collections import Counter\n",
    "listt=[1, 5, 6, 1, 1, 's', 'S', 'pooya', \"Pooya\"]\n",
    "Counter(listt)"
   ]
  },
  {
   "cell_type": "code",
   "execution_count": 61,
   "id": "06c57afc",
   "metadata": {},
   "outputs": [
    {
     "data": {
      "text/plain": [
       "int"
      ]
     },
     "execution_count": 61,
     "metadata": {},
     "output_type": "execute_result"
    }
   ],
   "source": [
    "lst=['11','pooya','10','10.5']\n",
    "final=[]\n",
    "for i in lst:\n",
    "    try:\n",
    "        i= int(i)\n",
    "        final.append(i)\n",
    "    except:\n",
    "        pass\n",
    "type(final[0])"
   ]
  },
  {
   "cell_type": "code",
   "execution_count": null,
   "id": "cebd3185",
   "metadata": {},
   "outputs": [],
   "source": []
  }
 ],
 "metadata": {
  "kernelspec": {
   "display_name": "Python 3 (ipykernel)",
   "language": "python",
   "name": "python3"
  },
  "language_info": {
   "codemirror_mode": {
    "name": "ipython",
    "version": 3
   },
   "file_extension": ".py",
   "mimetype": "text/x-python",
   "name": "python",
   "nbconvert_exporter": "python",
   "pygments_lexer": "ipython3",
   "version": "3.9.15"
  }
 },
 "nbformat": 4,
 "nbformat_minor": 5
}
