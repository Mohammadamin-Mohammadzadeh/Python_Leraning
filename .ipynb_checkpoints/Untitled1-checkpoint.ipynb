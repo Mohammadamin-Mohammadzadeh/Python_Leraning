{
 "cells": [
  {
   "cell_type": "code",
   "execution_count": 1,
   "id": "a4442dd7",
   "metadata": {},
   "outputs": [
    {
     "name": "stdout",
     "output_type": "stream",
     "text": [
      "[0, 1, 2, 3, 4, 5, 6, 7, 8, 9, 10, 11, 12, 13, 14, 15, 16, 17, 18, 19, 20, 21, 22, 23, 24, 25, 26, 27, 28, 29, 30, 31, 32, 33, 34, 35, 36, 37, 38, 39, 40, 41, 42, 43, 44, 45, 46, 47, 48, 49, 50, 51, 52, 53, 54, 55, 56, 57, 58, 59, 60, 61, 62, 63, 64, 65, 66, 67, 68, 69, 70, 71, 72, 73, 74, 75, 76, 77, 78, 79, 80, 81, 82, 83, 84, 85, 86, 87, 88, 89, 90, 91, 92, 93, 94, 95, 96, 97, 98, 99]\n"
     ]
    }
   ],
   "source": [
    "n=0\n",
    "x=[]\n",
    "while n >= 0:\n",
    "    x.append(n)\n",
    "    n += 1\n",
    "    if n== 100:\n",
    "        break\n",
    "print(x)"
   ]
  },
  {
   "cell_type": "code",
   "execution_count": null,
   "id": "3408c181",
   "metadata": {},
   "outputs": [],
   "source": [
    "import random\n",
    "n=random.randint(1,100)\n",
    "x=0\n",
    "while x != n :\n",
    "    x=int(input(\"Please guss a number between 1 and 100 :\"))\n",
    "    if x > n :\n",
    "        print (\"please a number less than this \")\n",
    "    elif x < n :\n",
    "        print (\"please a number mor than this \")\n",
    "    else :\n",
    "        print(\"your guss number is true\")\n",
    "        print (\" guss number is :\", n)\n",
    "        \n",
    "        \n"
   ]
  },
  {
   "cell_type": "code",
   "execution_count": 12,
   "id": "0dba3323",
   "metadata": {},
   "outputs": [
    {
     "name": "stdout",
     "output_type": "stream",
     "text": [
      "Please enter number :45\n",
      "45\n",
      "Bishtar beshe\n",
      "kamtar beshe\n",
      "Bishtar beshe\n",
      "kamtar beshe\n",
      "kamtar beshe\n",
      "Bishtar beshe\n",
      "Bishtar beshe\n",
      "Bishtar beshe\n",
      "Bishtar beshe\n",
      "kamtar beshe\n",
      "kamtar beshe\n",
      "kamtar beshe\n",
      "kamtar beshe\n",
      "kamtar beshe\n",
      "Bishtar beshe\n",
      "the number is: 45\n"
     ]
    }
   ],
   "source": [
    "import random\n",
    "x=1\n",
    "y=100\n",
    "hads=random.randint(x,y)\n",
    "javab=int(input(\"Please enter number :\"))\n",
    "print(javab)\n",
    "\n",
    "while hads != javab :\n",
    "    if hads > javab:\n",
    "        print (\"kamtar beshe\")\n",
    "        y=hads\n",
    "    else :\n",
    "        print(\"Bishtar beshe\")\n",
    "        x=hads\n",
    "    hads=random.randint(x,y)\n",
    "    \n",
    "print (\"the number is:\", hads)\n",
    "\n",
    "    \n",
    "        \n"
   ]
  },
  {
   "cell_type": "code",
   "execution_count": null,
   "id": "8c8b0c2b",
   "metadata": {},
   "outputs": [],
   "source": []
  }
 ],
 "metadata": {
  "kernelspec": {
   "display_name": "Python 3 (ipykernel)",
   "language": "python",
   "name": "python3"
  },
  "language_info": {
   "codemirror_mode": {
    "name": "ipython",
    "version": 3
   },
   "file_extension": ".py",
   "mimetype": "text/x-python",
   "name": "python",
   "nbconvert_exporter": "python",
   "pygments_lexer": "ipython3",
   "version": "3.9.15"
  }
 },
 "nbformat": 4,
 "nbformat_minor": 5
}
