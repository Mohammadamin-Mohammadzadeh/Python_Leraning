{
 "cells": [
  {
   "cell_type": "markdown",
   "id": "c04cee37",
   "metadata": {},
   "source": [
    "# Exercises"
   ]
  },
  {
   "cell_type": "markdown",
   "id": "308e83b9",
   "metadata": {},
   "source": [
    "##   1. Question\n",
    "####  Write a python program to detect integer items in a list of string items, cast them into int, and print/return them out.\n",
    "\n",
    "\n",
    "example: input: lst = ['11', 'pooya', '10', '10.5', \"32K232\", \"0\"]\n",
    "\n",
    "result: 11 10 0\n",
    "\n",
    "Note: in this exercise, you are not allowed to use:\n",
    "\n",
    "try except, str.isdecimal, str.isdigit, and so on. \n",
    "<br>just use: for, while, True False if, and so on.\n",
    "<br>hint: you should have two nested for-loops"
   ]
  },
  {
   "cell_type": "markdown",
   "id": "bf9062f0",
   "metadata": {},
   "source": [
    "`Ansewer 1`"
   ]
  },
  {
   "cell_type": "code",
   "execution_count": 5,
   "id": "0e717e0e",
   "metadata": {},
   "outputs": [
    {
     "name": "stdout",
     "output_type": "stream",
     "text": [
      "11 10 0"
     ]
    }
   ],
   "source": [
    "list_1 = ['11', 'pooya', '10', '10.5', \"32Kk232\", \"0\"]\n",
    "\n",
    "numbers = \"0123456789\"\n",
    "list1=[]\n",
    "\n",
    "for i in list_1:\n",
    "    for j in i:\n",
    "        if j not in numbers:\n",
    "            list1.append(i)\n",
    "            break\n",
    "\n",
    "for k in list1 :\n",
    "    list_1.remove(k)\n",
    "\n",
    "print (*list_1, end = \"\")"
   ]
  },
  {
   "cell_type": "markdown",
   "id": "e22c7f9b",
   "metadata": {},
   "source": [
    "`Ansewer 2`"
   ]
  },
  {
   "cell_type": "code",
   "execution_count": 6,
   "id": "f55dd0a8",
   "metadata": {},
   "outputs": [
    {
     "name": "stdout",
     "output_type": "stream",
     "text": [
      "11 10 0 "
     ]
    }
   ],
   "source": [
    "list_1 = ['11', 'pooya', '10', '10.5', \"32K232\", \"0\"]\n",
    "lst = []\n",
    "\n",
    "for i in list_1:\n",
    "    if i.isdigit():\n",
    "        lst.append(i)\n",
    "print(*lst, end = \" \")"
   ]
  },
  {
   "cell_type": "markdown",
   "id": "b1f58fc1",
   "metadata": {},
   "source": [
    "`Ansewer 3`"
   ]
  },
  {
   "cell_type": "code",
   "execution_count": 7,
   "id": "db8ad1b8",
   "metadata": {},
   "outputs": [
    {
     "name": "stdout",
     "output_type": "stream",
     "text": [
      "11\n",
      "10\n",
      "0\n"
     ]
    }
   ],
   "source": [
    "list_1 = ['11', 'pooya', '10', '10.5', \"32K232\", \"0\"]\n",
    "\n",
    "lst = []\n",
    "\n",
    "for i in list_1 :\n",
    "    try :\n",
    "        int(i)\n",
    "        lst.append(i)\n",
    "    except :\n",
    "        pass\n",
    "print(*lst, sep = \"\\n\")\n"
   ]
  },
  {
   "cell_type": "markdown",
   "id": "3798ec9f",
   "metadata": {},
   "source": [
    "##   2. Question \n",
    "\n",
    "#### Write a python program to print all even numbers from a given list of numbers in the same order.\n",
    "\n",
    "Sample numbers list :\n",
    "\n",
    "numbers = [386, 462, 47, 418, 907, 344, 236, 375, 823, 566, 597, 978, 328, 615, 953, 345, 399, 162, 758, 219, 918, 237, 412, 566, 826, 248, 866, 950, 626, 949, 687, 217, 815, 67, 104, 58, 512, 24, 892, 894, 767, 553, 81, 379, 843, 831, 445, 742, 717, 958,743, 527 ]"
   ]
  },
  {
   "cell_type": "markdown",
   "id": "93eddc3e",
   "metadata": {},
   "source": [
    "`Ansewer`"
   ]
  },
  {
   "cell_type": "code",
   "execution_count": 9,
   "id": "cb5e3ebe",
   "metadata": {},
   "outputs": [
    {
     "name": "stdout",
     "output_type": "stream",
     "text": [
      " Numbers = [24, 58, 104, 162, 236, 248, 328, 344, 386, 412, 418, 462, 512, 566, 566, 626, 742, 758, 826, 866, 892, 894, 918, 950, 958, 978]\n"
     ]
    }
   ],
   "source": [
    "numbers = [386, 462, 47, 418, 907, 344, 236, 375, 823, 566, 597, 978, 328, 615, 953, 345, 399, 162, 758, 219, 918, 237, 412, 566, 826, 248, 866, 950, 626, 949, 687, 217, 815, 67, 104, 58, 512, 24, 892, 894, 767, 553, 81, 379, 843, 831, 445, 742, 717, 958,743, 527 ]\n",
    "sorted_list=[]\n",
    "for i in numbers:\n",
    "    if i % 2 == 0 :\n",
    "        sorted_list.append(i)\n",
    "sorted_list.sort()\n",
    "print(f' Numbers = {sorted_list}')   "
   ]
  },
  {
   "cell_type": "markdown",
   "id": "fb34676c",
   "metadata": {},
   "source": [
    "## 3.Question\n",
    "\n",
    "Write a python program to sum two given integers. If the sum is within the range of 15 to 20, it returns 20. Otherwise it returns/prints the sum."
   ]
  },
  {
   "cell_type": "markdown",
   "id": "e2a9cdb3",
   "metadata": {},
   "source": [
    "`Ansewer`"
   ]
  },
  {
   "cell_type": "code",
   "execution_count": 10,
   "id": "9250bf02",
   "metadata": {},
   "outputs": [
    {
     "name": "stdout",
     "output_type": "stream",
     "text": [
      "insert first num:8\n",
      "insert second num:9\n",
      "20\n"
     ]
    }
   ],
   "source": [
    "def Sum(first_num, second_num):\n",
    "    return first_num + second_num\n",
    "\n",
    "first_num = int(input(\"insert first num:\"))\n",
    "second_num = int(input(\"insert second num:\"))\n",
    "\n",
    "if 15 < first_num + second_num < 20:\n",
    "    print(20)\n",
    "else :\n",
    "    print(Sum(first_num, second_num))"
   ]
  },
  {
   "cell_type": "markdown",
   "id": "e486a069",
   "metadata": {},
   "source": [
    "##   4. Question \n",
    "\n",
    "###       Write a Python program to count the members of a list and print them.\n",
    "\n",
    "   **Note:** Count string items in a case insensitive manner.\n",
    "\n",
    "   example = [1, 5, 6, 1, 1, 's', 'S', 'pooya', \"Pooya\"]\n",
    "\n",
    "   res:\n",
    "\n",
    "    1 >>> 3\n",
    "    5 >>> 1\n",
    "    6 >>> 1\n",
    "    's' >>> 2\n",
    "    'pooya' >>> 2"
   ]
  },
  {
   "cell_type": "markdown",
   "id": "bc802885",
   "metadata": {},
   "source": [
    "`Ansewer`"
   ]
  },
  {
   "cell_type": "code",
   "execution_count": 11,
   "id": "b4408a98",
   "metadata": {},
   "outputs": [
    {
     "name": "stdout",
     "output_type": "stream",
     "text": [
      "1 >>> 3\n",
      "5 >>> 1\n",
      "6 >>> 1\n",
      "s >>> 2\n",
      "pooya >>> 2\n"
     ]
    }
   ],
   "source": [
    "list = [1, 5, 6, 1, 1, 's', 'S', 'pooya', \"Pooya\"]\n",
    "\n",
    "list_new = []\n",
    "\n",
    "lst = []\n",
    "\n",
    "for x in list:\n",
    "    if type(x) == str:\n",
    "        list_new.append(x.lower())\n",
    "    elif type(x) == int:\n",
    "        list_new.append(x)\n",
    "        \n",
    "for i in list_new:\n",
    "    count = 0\n",
    "    if i not in lst:\n",
    "        lst.append(i)\n",
    "        for j in list_new:\n",
    "            if i == j:\n",
    "                count += 1\n",
    "        print (i,\">>>\", count)"
   ]
  },
  {
   "cell_type": "markdown",
   "id": "1899d76c",
   "metadata": {},
   "source": [
    "## 5. Question\n",
    "\n",
    "### Make a two-player Rock-Paper-Scissors game.\n",
    "\n",
    "   1. Ask players to play and get their stands by calling the input function two times(each time for each player),\n",
    "   2. compare the two inputs,\n",
    "   3. print out a message of congratulation to the winner,\n",
    "   4. and ask whether the players want to play a new round.\n",
    "   5. If player returns y or yes, it mean they want to play another round.\n",
    "   6. Otherwise, break the loop and exit the code with an appropriate goodbye message!"
   ]
  },
  {
   "cell_type": "markdown",
   "id": "30267974",
   "metadata": {},
   "source": [
    "`Ansewer`"
   ]
  },
  {
   "cell_type": "code",
   "execution_count": 3,
   "id": "567e82ff",
   "metadata": {},
   "outputs": [
    {
     "name": "stdout",
     "output_type": "stream",
     "text": [
      "Player 1, Please choose --> Rock, Paper, or Scissors scissors\n",
      "Player 2, Please choose --> Rock, Paper, or Scissors Rock\n",
      " Player 2 wins \n",
      "Please type y to play again, anything else to stops : y\n",
      "Player 1, Please choose --> Rock, Paper, or Scissors Rock\n",
      "Player 2, Please choose --> Rock, Paper, or Scissors paper\n",
      " Player 2 is wins\n",
      "Please type y to play again, anything else to stops : fgh\n"
     ]
    }
   ],
   "source": [
    "results_of_game = { \n",
    "    \n",
    "    \"rock\": {\n",
    "        \n",
    "        \"rock\": \" The game is draw \",\n",
    "        \"paper\": \" Player 2 is wins\",\n",
    "        \"scissors\": \"Player 1 is wins \"\n",
    "    },\n",
    "    \n",
    "    \"paper\": {\n",
    "        \n",
    "        \"rock\": \" Player 1 wins \",\n",
    "        \"paper\": \" The game is draw \",\n",
    "        \"scissors\": \" Palyer 2 wins \"\n",
    "    },\n",
    "    \n",
    "    \"scissors\": {\n",
    "        \"rock\": \" Player 2 wins \",\n",
    "        \"paper\": \" Player 1 wins \",\n",
    "        \"scissors\" : \" The game is draw \"\n",
    "    }\n",
    "}\n",
    "\n",
    "repeat_game = 'y'\n",
    "\n",
    "while repeat_game == 'y':\n",
    "    \n",
    "    Player_1 = input( \"Player 1, Please choose --> Rock, Paper, or Scissors \").lower()\n",
    "    \n",
    "    \n",
    "    Player_2 = input( \"Player 2, Please choose --> Rock, Paper, or Scissors \").lower()\n",
    "    \n",
    "    result = results_of_game.get(Player_1, {}).get(Player_2, \"Invalid input, please try again\")\n",
    "    print(result)\n",
    "    \n",
    "    \n",
    "    repeat_game = input(\"Please type y to play again, anything else to stops : \")\n",
    "     \n",
    "    "
   ]
  },
  {
   "cell_type": "markdown",
   "id": "37d6b6aa",
   "metadata": {},
   "source": [
    "## 6. Question\n",
    "\n",
    "  Write a program that asks the user how many Fibonnaci numbers to generate and then generates them. Make sure to ask the user to enter the number of numbers in the sequence to generate.(Hint: The Fibonnaci seqence is a sequence of numbers which the next number in the sequence is the sum of the previous two numbers to it. The sequence looks like this: 1, 1, 2, 3, 5, 8, 13, …)"
   ]
  },
  {
   "cell_type": "markdown",
   "id": "6c941fd6",
   "metadata": {},
   "source": [
    "`Ansewer 1`"
   ]
  },
  {
   "cell_type": "code",
   "execution_count": 24,
   "id": "a04f1759",
   "metadata": {},
   "outputs": [
    {
     "name": "stdout",
     "output_type": "stream",
     "text": [
      "Please enter how many elements of Fibonnaci you want: 8\n",
      "The first 8 Fibonacci numbers are:\n",
      "1\n",
      "1\n",
      "2\n",
      "3\n",
      "5\n",
      "8\n",
      "13\n",
      "21\n"
     ]
    }
   ],
   "source": [
    "number_of_elements = int(input(\"Please enter how many elements of Fibonnaci you want: \"))\n",
    "\n",
    "f1 = 1\n",
    "f2 = 1\n",
    "\n",
    "if number_of_elements == 1:\n",
    "    print(f'The first {number_of_elements} Fibonacci numbers are:')\n",
    "    print (f1)\n",
    "elif number_of_elements == 2 :\n",
    "    print(f'The first {number_of_elements} Fibonacci numbers are:')\n",
    "    print (f1)\n",
    "    print (f2)\n",
    "elif number_of_elements > 2:\n",
    "    print(f'The first {number_of_elements} Fibonacci numbers are:')\n",
    "    print (f1)\n",
    "    print (f2)\n",
    "    i = 2\n",
    "    \n",
    "while i < number_of_elements:\n",
    "    f3 = f2 + f1\n",
    "    f1 = f2\n",
    "    f2 = f3\n",
    "    print(f3)\n",
    "    i += 1\n",
    "    \n",
    "    "
   ]
  },
  {
   "cell_type": "markdown",
   "id": "54c3998d",
   "metadata": {},
   "source": [
    "`Ansewer 2`"
   ]
  },
  {
   "cell_type": "code",
   "execution_count": 2,
   "id": "b8ca3e81",
   "metadata": {},
   "outputs": [
    {
     "name": "stdout",
     "output_type": "stream",
     "text": [
      "Please enter how many elements of Fibonnaci you want: 5\n",
      "The first 5 Fibonacci numbers are:\n",
      "1\n",
      "1\n",
      "2\n",
      "3\n",
      "5\n"
     ]
    }
   ],
   "source": [
    "number_of_elements = int(input(\"Please enter how many elements of Fibonnaci you want: \"))\n",
    "fibunaci_list = []\n",
    "\n",
    "def Fibunaci(x,y):\n",
    "    return x+y\n",
    "\n",
    "for i in range(number_of_elements):\n",
    "    if i in [0,1]:\n",
    "        fibunaci_list.append(1)\n",
    "    else :\n",
    "        fibunaci_list.append(Fibunaci(fibunaci_list[i-2], fibunaci_list[i-1]))\n",
    "        \n",
    "print(f'The first {number_of_elements} Fibonacci numbers are:')\n",
    "print (*fibunaci_list, sep=\"\\n\")"
   ]
  },
  {
   "cell_type": "markdown",
   "id": "ff7cb1a6",
   "metadata": {},
   "source": [
    "## 7.Question\n",
    "\n",
    "Check a pre-defined password with user inputs for 3 times; let them pass if they're correct with less than 3 tries. Inform the user of being blocked if they enter more password incorrectly more than 4 times."
   ]
  },
  {
   "cell_type": "markdown",
   "id": "453adb0f",
   "metadata": {},
   "source": [
    "`Ansewer 1`"
   ]
  },
  {
   "cell_type": "code",
   "execution_count": 17,
   "id": "89a71067",
   "metadata": {},
   "outputs": [
    {
     "name": "stdout",
     "output_type": "stream",
     "text": [
      " Please enter your password  23452f\n",
      " Your password is incorrect!, please try again (you have 3 chance) ) \n",
      "\n",
      " Please enter your password  fsdf\n",
      " Your password is incorrect!, please try again (you have 2 chance) ) \n",
      "\n",
      " Please enter your password  234\n",
      " Your password is incorrect!, please try again (you have 1 chance) ) \n",
      "\n",
      " Please enter your password  sdf\n",
      " Your password is incorrect and you are Blocked!\n",
      "\n"
     ]
    }
   ],
   "source": [
    "PASSWORD = \"P@s$W0rd\"\n",
    "\n",
    "count = 0\n",
    "\n",
    "for i in reversed(range(4)) :\n",
    "    password_in = input(\" Please enter your password  \")\n",
    "    if password_in == PASSWORD :\n",
    "        print (\" Your password is correct\")\n",
    "        print()\n",
    "        break\n",
    "    else :\n",
    "        if i == 0 :\n",
    "            print (\" Your password is incorrect and you are Blocked!\")\n",
    "            print()\n",
    "            break\n",
    "        print (f' Your password is incorrect!, please try again (you have {i} chance) ) ')\n",
    "        print()\n",
    "    "
   ]
  },
  {
   "cell_type": "markdown",
   "id": "3e65bd4c",
   "metadata": {},
   "source": [
    "`Ansewer 2`"
   ]
  },
  {
   "cell_type": "code",
   "execution_count": 12,
   "id": "aad15488",
   "metadata": {},
   "outputs": [
    {
     "name": "stdout",
     "output_type": "stream",
     "text": [
      " Please enter your password : (Note: You being blocked if you enter password more than 4 times incorrectly) fgf\n",
      " Your password is incorrect!, please try again ) \n",
      "\n",
      " Please enter your password : (Note: You being blocked if you enter password more than 4 times incorrectly) 345yghg\n",
      " Your password is incorrect!, please try again ) \n",
      "\n",
      " Please enter your password : (Note: You being blocked if you enter password more than 4 times incorrectly) P@s$W0rd\n",
      " Your password is correct\n",
      "\n"
     ]
    }
   ],
   "source": [
    "PASSWORD = \"P@s$W0rd\"\n",
    "\n",
    "count = 0\n",
    "\n",
    "while True :\n",
    "    password_in = input(\" Please enter your password : (Note: You being blocked if you enter password more than 4 times incorrectly) \")\n",
    "    count += 1\n",
    "    if password_in == PASSWORD :\n",
    "        print (\" Your password is correct\")\n",
    "        print()\n",
    "        break\n",
    "    else :\n",
    "        print (\" Your password is incorrect!, please try again ) \")\n",
    "        print()\n",
    "    if count == 4 :\n",
    "        print (\" You are Blocked\")\n",
    "        print()\n",
    "        break"
   ]
  }
 ],
 "metadata": {
  "kernelspec": {
   "display_name": "Python 3 (ipykernel)",
   "language": "python",
   "name": "python3"
  },
  "language_info": {
   "codemirror_mode": {
    "name": "ipython",
    "version": 3
   },
   "file_extension": ".py",
   "mimetype": "text/x-python",
   "name": "python",
   "nbconvert_exporter": "python",
   "pygments_lexer": "ipython3",
   "version": "3.9.15"
  }
 },
 "nbformat": 4,
 "nbformat_minor": 5
}
