{
 "cells": [
  {
   "cell_type": "markdown",
   "id": "3da37957",
   "metadata": {},
   "source": [
    "## Dictionary Tasks"
   ]
  },
  {
   "cell_type": "markdown",
   "id": "fd593f3f",
   "metadata": {},
   "source": [
    "## Task 1:\n",
    "    Extract values from a dictionary that their keys are present in a given list"
   ]
  },
  {
   "cell_type": "code",
   "execution_count": 57,
   "id": "2b91f14b",
   "metadata": {},
   "outputs": [
    {
     "name": "stdout",
     "output_type": "stream",
     "text": [
      "Mohammad 4000 "
     ]
    }
   ],
   "source": [
    "valid_keys = [\"name\", \"salary\"]\n",
    "\n",
    "dict_ex = {\"name\": \"Mohammad\",\n",
    "           \"age\" : \"40\",\n",
    "           \"job\" : \"teacher\",\n",
    "           \"salary\": 4000,\n",
    "          }\n",
    "\n",
    "for i in valid_keys:\n",
    "    for k, v in dict_ex.items():\n",
    "        if i == k:\n",
    "            print(dict_ex[k], end =' ')"
   ]
  },
  {
   "cell_type": "markdown",
   "id": "f57c5189",
   "metadata": {},
   "source": [
    "## Task 2:\n",
    "    Flatten a nested dictionary. If a key is already present in the result dict, add a suffix like \"_1\" to distinguish between keys with the same name."
   ]
  },
  {
   "cell_type": "code",
   "execution_count": 5,
   "id": "4f822d85",
   "metadata": {},
   "outputs": [
    {
     "name": "stdout",
     "output_type": "stream",
     "text": [
      "{'name_0': 'Sara', 'age_0': 28, 'salary_0': 2000, 'name_1': 'Sara', 'age_1': 18, 'salary_1': 1000, 'a': 'A', 'name_2': 'Omid', 'age_2': 20, 'salary_2': 1000, 'name_3': 'Amir', 'age_3': 28, 'salary_3': 2000, 'last_name': 'Mohammadi'}\n"
     ]
    }
   ],
   "source": [
    "student_data = {'id1':\n",
    "                    {'name': 'Sara',\n",
    "                     'age': 28,\n",
    "                     'salary': 2000\n",
    "                     },\n",
    "                'id2':\n",
    "                    {'name': 'Sara',\n",
    "                     'age': 18,\n",
    "                     'salary': 1000\n",
    "                     },\n",
    "                \"a\": \"A\",\n",
    "                'id3':\n",
    "                    {'name': 'Omid',\n",
    "                     \"age\": 20,\n",
    "                     'salary': 1000\n",
    "                    },\n",
    "                'id4': dict(name=\"Amir\", age=28, salary=2000),\n",
    "                \"last_name\": \"Mohammadi\",\n",
    "                }\n",
    "\n",
    "data_dict = dict()\n",
    "count_2 = 0\n",
    "\n",
    "for k, v in student_data.items():\n",
    "    if isinstance(v, str):\n",
    "        data_dict[k] = v         \n",
    "    else :\n",
    "        for k1, v1 in v.items():\n",
    "            key_name = str(k1 + \"_\" + str(count_2))\n",
    "            if key_name not in data_dict:\n",
    "                data_dict[key_name] = v1\n",
    "            else:\n",
    "                count_2 += 1 \n",
    "                key_name = str(k1 + \"_\" + str(count_2))\n",
    "                data_dict[key_name] = v1\n",
    "\n",
    "print(data_dict)     "
   ]
  },
  {
   "cell_type": "markdown",
   "id": "c510e652",
   "metadata": {},
   "source": [
    "## Task 3:\n",
    "    Write a Python program to drop items with None or empty values from a given dictionary"
   ]
  },
  {
   "cell_type": "code",
   "execution_count": 11,
   "id": "60925550",
   "metadata": {},
   "outputs": [
    {
     "name": "stdout",
     "output_type": "stream",
     "text": [
      "{'a': 'A', 'b': 'B'}\n"
     ]
    }
   ],
   "source": [
    "dict_ = {\"a\": \"A\", \"b\": \"B\", \"c\": None, \"d\": \"\"}\n",
    "dict__ = {}\n",
    "for k, v in dict_.items():\n",
    "    if dict_.get(k, ):\n",
    "        dict__[k] = v\n",
    "        continue\n",
    "    \n",
    "print(dict__)"
   ]
  },
  {
   "cell_type": "markdown",
   "id": "724d1746",
   "metadata": {},
   "source": [
    "## Task 4:\n",
    "    Create a dictionary two given lists using `zip`"
   ]
  },
  {
   "cell_type": "code",
   "execution_count": 12,
   "id": "b6e1d99c",
   "metadata": {},
   "outputs": [
    {
     "name": "stdout",
     "output_type": "stream",
     "text": [
      "{'a': 'a', 'ali': 'ali', 'b': 'b'}\n"
     ]
    }
   ],
   "source": [
    "lst_1 = [\"a\", \"ali\", \"b\"]\n",
    "lst_2 = [\"a\", \"ali\", \"b\"]\n",
    "\n",
    "dict_res = {}\n",
    "\n",
    "for k, v in zip(lst_1, lst_2):\n",
    "    dict_res[k] = v\n",
    "    \n",
    "print(dict_res)"
   ]
  }
 ],
 "metadata": {
  "kernelspec": {
   "display_name": "Python 3 (ipykernel)",
   "language": "python",
   "name": "python3"
  },
  "language_info": {
   "codemirror_mode": {
    "name": "ipython",
    "version": 3
   },
   "file_extension": ".py",
   "mimetype": "text/x-python",
   "name": "python",
   "nbconvert_exporter": "python",
   "pygments_lexer": "ipython3",
   "version": "3.9.15"
  }
 },
 "nbformat": 4,
 "nbformat_minor": 5
}
