{
 "cells": [
  {
   "cell_type": "code",
   "execution_count": 10,
   "id": "62d19bbe",
   "metadata": {},
   "outputs": [
    {
     "name": "stdout",
     "output_type": "stream",
     "text": [
      "Please enter Number of People :2\n",
      "Please enter your name :ali\n",
      "Please choose (from : Horror, Romance, Comedy, History , Adventure , Action) your favorites genre (ex. Horror Comedy): Romance Comedy Horror Action\n",
      "Please enter your name :reza\n",
      "Please choose (from : Horror, Romance, Comedy, History , Adventure , Action) your favorites genre (ex. Horror Comedy): Horror Action\n",
      "\n",
      "\n",
      "Horror : 2\n",
      "Action : 2\n",
      "Romance : 1\n",
      "Comedy : 1\n",
      "History : 0\n",
      "Adventure : 0\n"
     ]
    }
   ],
   "source": [
    "from collections import defaultdict\n",
    "\n",
    "Number = int(input (\"Please enter Number of People :\"))\n",
    "Survey = defaultdict(int)\n",
    "Survey[\"Horror\"] = Survey[\"Romance\"] = Survey[\"Comedy\"] = Survey[\"History\"] = Survey[\"Adventure\"] = Survey[\"Action\"] = 0\n",
    "\n",
    "for i in range(Number):\n",
    "    name = input(\"Please enter your name :\")\n",
    "    genres=(input(\"Please choose (from : Horror, Romance, Comedy, History , Adventure , Action) your favorites genre (ex. Horror Comedy): \")).split(' ')\n",
    "    for genre in genres:\n",
    "        Survey[genre] += 1\n",
    "print()\n",
    "print('\\n')\n",
    "for k in sorted(Survey.items(), key=lambda x:x[1], reverse=True):\n",
    "    print(k[0],\":\",k[1])"
   ]
  },
  {
   "cell_type": "code",
   "execution_count": null,
   "id": "6700c228",
   "metadata": {},
   "outputs": [],
   "source": []
  }
 ],
 "metadata": {
  "kernelspec": {
   "display_name": "Python 3 (ipykernel)",
   "language": "python",
   "name": "python3"
  },
  "language_info": {
   "codemirror_mode": {
    "name": "ipython",
    "version": 3
   },
   "file_extension": ".py",
   "mimetype": "text/x-python",
   "name": "python",
   "nbconvert_exporter": "python",
   "pygments_lexer": "ipython3",
   "version": "3.9.15"
  }
 },
 "nbformat": 4,
 "nbformat_minor": 5
}
